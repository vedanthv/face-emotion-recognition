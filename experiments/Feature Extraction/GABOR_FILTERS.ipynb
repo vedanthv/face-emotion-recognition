{
  "nbformat": 4,
  "nbformat_minor": 0,
  "metadata": {
    "colab": {
      "provenance": []
    },
    "kernelspec": {
      "name": "python3",
      "display_name": "Python 3"
    },
    "language_info": {
      "name": "python"
    }
  },
  "cells": [
    {
      "cell_type": "code",
      "execution_count": null,
      "metadata": {
        "id": "yBn5CxDNlxiz"
      },
      "outputs": [],
      "source": [
        "import os\n",
        "import cv2\n",
        "import zipfile\n",
        "from tqdm import tqdm\n",
        "from io import BytesIO\n",
        "import random\n",
        "import matplotlib.pyplot as plt\n",
        "import numpy as np\n",
        "import pandas as pd\n",
        "import seaborn as sns\n",
        "import cv2\n",
        "from sklearn.model_selection import train_test_split\n",
        "import tensorflow as tf\n",
        "from tensorflow.keras.preprocessing.image import ImageDataGenerator\n",
        "from tensorflow.keras.models import Sequential\n",
        "from tensorflow.keras.callbacks import Callback, EarlyStopping, ReduceLROnPlateau\n",
        "from tensorflow.keras.layers import Conv2D, BatchNormalization, MaxPool2D, Dropout, Flatten, Dense\n",
        "from tensorflow.keras.optimizers import Adam,RMSprop,SGD,Adamax\n",
        "from tensorflow.keras import regularizers"
      ]
    },
    {
      "cell_type": "code",
      "source": [
        "from google.colab import files\n",
        "uploaded = files.upload()"
      ],
      "metadata": {
        "colab": {
          "base_uri": "https://localhost:8080/",
          "height": 74
        },
        "id": "1AZn0M7pmQnQ",
        "outputId": "b54aecaf-5d91-4a65-e0d5-9fd7661265a6"
      },
      "execution_count": null,
      "outputs": [
        {
          "output_type": "display_data",
          "data": {
            "text/plain": [
              "<IPython.core.display.HTML object>"
            ],
            "text/html": [
              "\n",
              "     <input type=\"file\" id=\"files-34f662c9-0e83-45ef-88a3-06fac5a6da5a\" name=\"files[]\" multiple disabled\n",
              "        style=\"border:none\" />\n",
              "     <output id=\"result-34f662c9-0e83-45ef-88a3-06fac5a6da5a\">\n",
              "      Upload widget is only available when the cell has been executed in the\n",
              "      current browser session. Please rerun this cell to enable.\n",
              "      </output>\n",
              "      <script>// Copyright 2017 Google LLC\n",
              "//\n",
              "// Licensed under the Apache License, Version 2.0 (the \"License\");\n",
              "// you may not use this file except in compliance with the License.\n",
              "// You may obtain a copy of the License at\n",
              "//\n",
              "//      http://www.apache.org/licenses/LICENSE-2.0\n",
              "//\n",
              "// Unless required by applicable law or agreed to in writing, software\n",
              "// distributed under the License is distributed on an \"AS IS\" BASIS,\n",
              "// WITHOUT WARRANTIES OR CONDITIONS OF ANY KIND, either express or implied.\n",
              "// See the License for the specific language governing permissions and\n",
              "// limitations under the License.\n",
              "\n",
              "/**\n",
              " * @fileoverview Helpers for google.colab Python module.\n",
              " */\n",
              "(function(scope) {\n",
              "function span(text, styleAttributes = {}) {\n",
              "  const element = document.createElement('span');\n",
              "  element.textContent = text;\n",
              "  for (const key of Object.keys(styleAttributes)) {\n",
              "    element.style[key] = styleAttributes[key];\n",
              "  }\n",
              "  return element;\n",
              "}\n",
              "\n",
              "// Max number of bytes which will be uploaded at a time.\n",
              "const MAX_PAYLOAD_SIZE = 100 * 1024;\n",
              "\n",
              "function _uploadFiles(inputId, outputId) {\n",
              "  const steps = uploadFilesStep(inputId, outputId);\n",
              "  const outputElement = document.getElementById(outputId);\n",
              "  // Cache steps on the outputElement to make it available for the next call\n",
              "  // to uploadFilesContinue from Python.\n",
              "  outputElement.steps = steps;\n",
              "\n",
              "  return _uploadFilesContinue(outputId);\n",
              "}\n",
              "\n",
              "// This is roughly an async generator (not supported in the browser yet),\n",
              "// where there are multiple asynchronous steps and the Python side is going\n",
              "// to poll for completion of each step.\n",
              "// This uses a Promise to block the python side on completion of each step,\n",
              "// then passes the result of the previous step as the input to the next step.\n",
              "function _uploadFilesContinue(outputId) {\n",
              "  const outputElement = document.getElementById(outputId);\n",
              "  const steps = outputElement.steps;\n",
              "\n",
              "  const next = steps.next(outputElement.lastPromiseValue);\n",
              "  return Promise.resolve(next.value.promise).then((value) => {\n",
              "    // Cache the last promise value to make it available to the next\n",
              "    // step of the generator.\n",
              "    outputElement.lastPromiseValue = value;\n",
              "    return next.value.response;\n",
              "  });\n",
              "}\n",
              "\n",
              "/**\n",
              " * Generator function which is called between each async step of the upload\n",
              " * process.\n",
              " * @param {string} inputId Element ID of the input file picker element.\n",
              " * @param {string} outputId Element ID of the output display.\n",
              " * @return {!Iterable<!Object>} Iterable of next steps.\n",
              " */\n",
              "function* uploadFilesStep(inputId, outputId) {\n",
              "  const inputElement = document.getElementById(inputId);\n",
              "  inputElement.disabled = false;\n",
              "\n",
              "  const outputElement = document.getElementById(outputId);\n",
              "  outputElement.innerHTML = '';\n",
              "\n",
              "  const pickedPromise = new Promise((resolve) => {\n",
              "    inputElement.addEventListener('change', (e) => {\n",
              "      resolve(e.target.files);\n",
              "    });\n",
              "  });\n",
              "\n",
              "  const cancel = document.createElement('button');\n",
              "  inputElement.parentElement.appendChild(cancel);\n",
              "  cancel.textContent = 'Cancel upload';\n",
              "  const cancelPromise = new Promise((resolve) => {\n",
              "    cancel.onclick = () => {\n",
              "      resolve(null);\n",
              "    };\n",
              "  });\n",
              "\n",
              "  // Wait for the user to pick the files.\n",
              "  const files = yield {\n",
              "    promise: Promise.race([pickedPromise, cancelPromise]),\n",
              "    response: {\n",
              "      action: 'starting',\n",
              "    }\n",
              "  };\n",
              "\n",
              "  cancel.remove();\n",
              "\n",
              "  // Disable the input element since further picks are not allowed.\n",
              "  inputElement.disabled = true;\n",
              "\n",
              "  if (!files) {\n",
              "    return {\n",
              "      response: {\n",
              "        action: 'complete',\n",
              "      }\n",
              "    };\n",
              "  }\n",
              "\n",
              "  for (const file of files) {\n",
              "    const li = document.createElement('li');\n",
              "    li.append(span(file.name, {fontWeight: 'bold'}));\n",
              "    li.append(span(\n",
              "        `(${file.type || 'n/a'}) - ${file.size} bytes, ` +\n",
              "        `last modified: ${\n",
              "            file.lastModifiedDate ? file.lastModifiedDate.toLocaleDateString() :\n",
              "                                    'n/a'} - `));\n",
              "    const percent = span('0% done');\n",
              "    li.appendChild(percent);\n",
              "\n",
              "    outputElement.appendChild(li);\n",
              "\n",
              "    const fileDataPromise = new Promise((resolve) => {\n",
              "      const reader = new FileReader();\n",
              "      reader.onload = (e) => {\n",
              "        resolve(e.target.result);\n",
              "      };\n",
              "      reader.readAsArrayBuffer(file);\n",
              "    });\n",
              "    // Wait for the data to be ready.\n",
              "    let fileData = yield {\n",
              "      promise: fileDataPromise,\n",
              "      response: {\n",
              "        action: 'continue',\n",
              "      }\n",
              "    };\n",
              "\n",
              "    // Use a chunked sending to avoid message size limits. See b/62115660.\n",
              "    let position = 0;\n",
              "    do {\n",
              "      const length = Math.min(fileData.byteLength - position, MAX_PAYLOAD_SIZE);\n",
              "      const chunk = new Uint8Array(fileData, position, length);\n",
              "      position += length;\n",
              "\n",
              "      const base64 = btoa(String.fromCharCode.apply(null, chunk));\n",
              "      yield {\n",
              "        response: {\n",
              "          action: 'append',\n",
              "          file: file.name,\n",
              "          data: base64,\n",
              "        },\n",
              "      };\n",
              "\n",
              "      let percentDone = fileData.byteLength === 0 ?\n",
              "          100 :\n",
              "          Math.round((position / fileData.byteLength) * 100);\n",
              "      percent.textContent = `${percentDone}% done`;\n",
              "\n",
              "    } while (position < fileData.byteLength);\n",
              "  }\n",
              "\n",
              "  // All done.\n",
              "  yield {\n",
              "    response: {\n",
              "      action: 'complete',\n",
              "    }\n",
              "  };\n",
              "}\n",
              "\n",
              "scope.google = scope.google || {};\n",
              "scope.google.colab = scope.google.colab || {};\n",
              "scope.google.colab._files = {\n",
              "  _uploadFiles,\n",
              "  _uploadFilesContinue,\n",
              "};\n",
              "})(self);\n",
              "</script> "
            ]
          },
          "metadata": {}
        },
        {
          "output_type": "stream",
          "name": "stdout",
          "text": [
            "Saving CK+48.zip to CK+48.zip\n"
          ]
        }
      ]
    },
    {
      "cell_type": "code",
      "source": [
        "zip_path = next(iter(uploaded))\n",
        "with zipfile.ZipFile(BytesIO(uploaded[zip_path]), 'r') as zip_ref:\n",
        "    zip_ref.extractall(\"/content/CK+48\")\n",
        "extracted_path = \"/content/CK+48/CK+48\"\n",
        "os.listdir(extracted_path)\n",
        "DATADIR = extracted_path\n",
        "CATEGORIES = os.listdir(DATADIR)"
      ],
      "metadata": {
        "id": "ENao1rAqmUoQ"
      },
      "execution_count": null,
      "outputs": []
    },
    {
      "cell_type": "code",
      "source": [
        "def load_data():\n",
        "    data = []\n",
        "    for category in CATEGORIES:\n",
        "        path = os.path.join(DATADIR, category)\n",
        "        class_num = CATEGORIES.index(category)\n",
        "\n",
        "        for img in tqdm(os.listdir(path)):\n",
        "            img_array = cv2.imread(os.path.join(path, img), 0)\n",
        "            data.append([img_array, class_num])\n",
        "\n",
        "    return data"
      ],
      "metadata": {
        "id": "JZXAm-eymZE5"
      },
      "execution_count": null,
      "outputs": []
    },
    {
      "cell_type": "code",
      "source": [
        "data = load_data()\n",
        "len(data)"
      ],
      "metadata": {
        "colab": {
          "base_uri": "https://localhost:8080/"
        },
        "id": "ok-WIe7pmhwX",
        "outputId": "0ff359d7-d4bc-47ff-db5b-c5ec24943522"
      },
      "execution_count": null,
      "outputs": [
        {
          "output_type": "stream",
          "name": "stderr",
          "text": [
            "100%|██████████| 207/207 [00:00<00:00, 3828.94it/s]\n",
            "100%|██████████| 75/75 [00:00<00:00, 4764.45it/s]\n",
            "100%|██████████| 135/135 [00:00<00:00, 6351.73it/s]\n",
            "100%|██████████| 177/177 [00:00<00:00, 6547.70it/s]\n",
            "100%|██████████| 54/54 [00:00<00:00, 4916.37it/s]\n",
            "100%|██████████| 249/249 [00:00<00:00, 6251.57it/s]\n",
            "100%|██████████| 84/84 [00:00<00:00, 6012.21it/s]\n"
          ]
        },
        {
          "output_type": "execute_result",
          "data": {
            "text/plain": [
              "981"
            ]
          },
          "metadata": {},
          "execution_count": 5
        }
      ]
    },
    {
      "cell_type": "code",
      "source": [
        "X = np.array([ x[0] for x in data])\n",
        "y = np.array([Y[1] for Y in data])\n",
        "X_train, X_test, y_train, y_test = train_test_split(X, y, test_size=0.2, random_state=42, shuffle = True)\n",
        "# reshaping y_train and y_test\n",
        "y_train = np.reshape(y_train, (len(y_train),1))\n",
        "y_test  = np.reshape(y_test , (len(y_test ),1))\n",
        "X_train_Gabor  = X_train\n",
        "X_test_Gabor = X_test\n",
        "X_train = np.expand_dims(X_train, axis=3)\n",
        "X_test = np.expand_dims(X_test, axis=3)\n",
        "X_train = X_train / 255.0\n",
        "X_test = X_test / 255.0\n",
        "y_train_SVM = y_train\n",
        "y_test_SVM = y_test\n",
        "y_train = tf.keras.utils.to_categorical(y_train)\n",
        "y_test = tf.keras.utils.to_categorical(y_test)"
      ],
      "metadata": {
        "id": "YT8lUIMnrqL0"
      },
      "execution_count": null,
      "outputs": []
    },
    {
      "cell_type": "code",
      "source": [
        "def Gabor_filter(K_size=111, Sigma=10, Gamma=1.2, Lambda=10, Psi=0, angle=0):\n",
        "    # get half size\n",
        "    d = K_size // 2\n",
        "\n",
        "    # prepare kernel\n",
        "    gabor = np.zeros((K_size, K_size), dtype=np.float32)\n",
        "\n",
        "    # each value\n",
        "    for y in range(K_size):\n",
        "        for x in range(K_size):\n",
        "            # distance from center\n",
        "            px = x - d\n",
        "            py = y - d\n",
        "\n",
        "            # degree -> radian\n",
        "            theta = angle / 180. * np.pi\n",
        "\n",
        "            # get kernel x\n",
        "            _x = np.cos(theta) * px + np.sin(theta) * py\n",
        "\n",
        "            # get kernel y\n",
        "            _y = -np.sin(theta) * px + np.cos(theta) * py\n",
        "\n",
        "            # fill kernel\n",
        "            gabor[y, x] = np.exp(-(_x**2 + Gamma**2 * _y**2) / (2 * Sigma**2)) * np.cos(2*np.pi*_x/Lambda + Psi)\n",
        "\n",
        "    # kernel normalization\n",
        "    gabor /= np.sum(np.abs(gabor))\n",
        "\n",
        "    return gabor\n",
        "\n",
        "\n",
        "# Use Gabor filter to act on the image\n",
        "def Gabor_filtering(gray, K_size=111, Sigma=10, Gamma=1.2, Lambda=10, Psi=0, angle=0):\n",
        "    # get shape\n",
        "    H, W = gray.shape\n",
        "\n",
        "    # padding\n",
        "    gray = np.pad(gray, (K_size//2, K_size//2), 'edge')\n",
        "\n",
        "    # prepare out image\n",
        "    out = np.zeros((H, W), dtype=np.float32)\n",
        "\n",
        "    # get gabor filter\n",
        "    gabor = Gabor_filter(K_size=K_size, Sigma=Sigma, Gamma=Gamma, Lambda=Lambda, Psi=0, angle=angle)\n",
        "\n",
        "    # filtering\n",
        "    for y in range(H):\n",
        "        for x in range(W):\n",
        "            out[y, x] = np.sum(gray[y : y + K_size, x : x + K_size] * gabor)\n",
        "\n",
        "    out = np.clip(out, 0, 255)\n",
        "    out = out.astype(np.uint8)\n",
        "\n",
        "    return out\n",
        "\n",
        "# Use 6 Gabor filters with different angles to perform feature extraction on the image\n",
        "def Gabor_process(img):\n",
        "#     print(img.shape)\n",
        "    # get shape\n",
        "    H, W = img.shape\n",
        "\n",
        "    # gray scale\n",
        "#     gray = BGR2GRAY(img).astype(np.float32)\n",
        "\n",
        "    # define angle\n",
        "    #As = [0, 45, 90, 135]\n",
        "    As = [0,30,60,90,120,150]\n",
        "\n",
        "    # prepare pyplot\n",
        "#     plt.subplots_adjust(left=0, right=1, top=1, bottom=0, hspace=0, wspace=0.2)\n",
        "\n",
        "    out = np.zeros([H, W], dtype=np.float32)\n",
        "\n",
        "    # each angle\n",
        "    for i, A in enumerate(As):\n",
        "\n",
        "        # gabor filtering\n",
        "        _out = Gabor_filtering(img, K_size=11, Sigma=1.5, Gamma=1.2, Lambda=3, angle=A)\n",
        "\n",
        "\n",
        "        # add gabor filtered image\n",
        "        out += _out\n",
        "\n",
        "\n",
        "    # scale normalization\n",
        "    out = out /out.max()*255\n",
        "    out = out.astype(np.uint8)\n",
        "\n",
        "    return out"
      ],
      "metadata": {
        "id": "3Gp0q_WcrtJO"
      },
      "execution_count": null,
      "outputs": []
    },
    {
      "cell_type": "code",
      "source": [
        "def create_Gabor_features(data):\n",
        "    Feature_data = np.zeros((len(data),48,48,1))\n",
        "\n",
        "    for i in range(len(data)):\n",
        "        img = data[i]\n",
        "        out = Gabor_process(img)\n",
        "        out = np.expand_dims(out , axis = 2) # adding color channel\n",
        "        Feature_data[i] = out/255.00\n",
        "\n",
        "\n",
        "    return Feature_data"
      ],
      "metadata": {
        "id": "ex9NY2vsr6B3"
      },
      "execution_count": null,
      "outputs": []
    },
    {
      "cell_type": "code",
      "source": [
        "X_train.shape"
      ],
      "metadata": {
        "colab": {
          "base_uri": "https://localhost:8080/"
        },
        "id": "nHgC3l0ir8tt",
        "outputId": "9e7ca0bb-4e5e-4a42-f41a-2b13beb2cd7a"
      },
      "execution_count": null,
      "outputs": [
        {
          "output_type": "execute_result",
          "data": {
            "text/plain": [
              "(784, 48, 48, 1)"
            ]
          },
          "metadata": {},
          "execution_count": 9
        }
      ]
    },
    {
      "cell_type": "code",
      "source": [
        "plt.imshow(X_train_Gabor[0]/255.0, cmap ='gray')"
      ],
      "metadata": {
        "colab": {
          "base_uri": "https://localhost:8080/",
          "height": 449
        },
        "id": "nTHRGysnr_Aq",
        "outputId": "170d90c2-a83c-4c06-9693-f8d3bf1a7a1b"
      },
      "execution_count": null,
      "outputs": [
        {
          "output_type": "execute_result",
          "data": {
            "text/plain": [
              "<matplotlib.image.AxesImage at 0x7bf0d5f43280>"
            ]
          },
          "metadata": {},
          "execution_count": 10
        },
        {
          "output_type": "display_data",
          "data": {
            "text/plain": [
              "<Figure size 640x480 with 1 Axes>"
            ],
            "image/png": "[encoded data removed]"
          },
          "metadata": {}
        }
      ]
    },
    {
      "cell_type": "code",
      "source": [
        "X_train_Gabor=create_Gabor_features(X_train_Gabor)\n",
        "X_test_Gabor=create_Gabor_features(X_test_Gabor)\n",
        "\n",
        "X_train_Gabor.shape , X_test_Gabor.shape"
      ],
      "metadata": {
        "colab": {
          "base_uri": "https://localhost:8080/"
        },
        "id": "nlV9_f67sBUE",
        "outputId": "b17a3220-666e-4d61-ee13-7f31c56dcb81"
      },
      "execution_count": null,
      "outputs": [
        {
          "output_type": "execute_result",
          "data": {
            "text/plain": [
              "((784, 48, 48, 1), (197, 48, 48, 1))"
            ]
          },
          "metadata": {},
          "execution_count": 11
        }
      ]
    },
    {
      "cell_type": "code",
      "source": [
        "sample = random.randint(100,500)\n",
        "plt.subplot(1,2,1)\n",
        "plt.imshow(X_train[sample],cmap='gray')\n",
        "plt.axis(\"off\")\n",
        "plt.subplot(1,2,2)\n",
        "plt.imshow(X_train_Gabor[sample],cmap='gray')\n",
        "plt.axis(\"off\")"
      ],
      "metadata": {
        "colab": {
          "base_uri": "https://localhost:8080/",
          "height": 280
        },
        "id": "6X5O0uzfsGIe",
        "outputId": "fc7f3d18-58dc-46d1-826c-cc066c125d75"
      },
      "execution_count": null,
      "outputs": [
        {
          "output_type": "execute_result",
          "data": {
            "text/plain": [
              "(-0.5, 47.5, 47.5, -0.5)"
            ]
          },
          "metadata": {},
          "execution_count": 12
        },
        {
          "output_type": "display_data",
          "data": {
            "text/plain": [
              "<Figure size 640x480 with 2 Axes>"
            ],
            "image/png": "[encoded data removed]"
          },
          "metadata": {}
        }
      ]
    },
    {
      "cell_type": "code",
      "source": [
        "X_train_Gabor.shape"
      ],
      "metadata": {
        "colab": {
          "base_uri": "https://localhost:8080/"
        },
        "id": "YKzAgf1dsot7",
        "outputId": "eb55d8a7-16dc-439c-ba67-e5d2c2d46211"
      },
      "execution_count": null,
      "outputs": [
        {
          "output_type": "execute_result",
          "data": {
            "text/plain": [
              "(784, 48, 48, 1)"
            ]
          },
          "metadata": {},
          "execution_count": 13
        }
      ]
    },
    {
      "cell_type": "code",
      "source": [
        "def create_model(input_shape=None):\n",
        "    if input_shape is None :\n",
        "        input_shape=(48,48,1)\n",
        "\n",
        "    model = Sequential()\n",
        "    model.add(Conv2D(6, (5, 5), input_shape=input_shape, padding='same', activation = 'relu'))\n",
        "    model.add(MaxPool2D(pool_size=(2, 2)))\n",
        "\n",
        "    model.add(Conv2D(16, (5, 5), padding='same', activation = 'relu'))\n",
        "    model.add(MaxPool2D(pool_size=(2, 2)))\n",
        "\n",
        "    model.add(Conv2D(64, (3, 3), activation = 'relu'))\n",
        "    model.add(MaxPool2D(pool_size=(2, 2)))\n",
        "\n",
        "    model.add(Flatten())\n",
        "    model.add(Dense(128, activation = 'relu'))\n",
        "    model.add(Dropout(0.5))\n",
        "    model.add(Dense(7, activation = 'softmax'))\n",
        "\n",
        "    return model\n",
        "\n",
        "es = EarlyStopping(\n",
        "    monitor='val_accuracy', min_delta=0.0001, patience=10, verbose=2,\n",
        "    mode='max', baseline=None, restore_best_weights=True\n",
        ")\n",
        "lr = ReduceLROnPlateau(\n",
        "    monitor='val_accuracy', factor=0.1, patience=5, verbose=2,\n",
        "    mode='max', min_delta=1e-5, cooldown=0, min_lr=0\n",
        ")\n",
        "\n",
        "callbacks = [es, lr]"
      ],
      "metadata": {
        "id": "98NpUU6vsrOa"
      },
      "execution_count": null,
      "outputs": []
    },
    {
      "cell_type": "code",
      "source": [
        "Gabor_model = create_model()\n",
        "Gabor_model.compile(loss='categorical_crossentropy', metrics=['accuracy'], optimizer='adam' )"
      ],
      "metadata": {
        "id": "oqhMFf4esvyY"
      },
      "execution_count": null,
      "outputs": []
    },
    {
      "cell_type": "code",
      "source": [
        "Gabor_history = Gabor_model.fit(X_train_Gabor, y_train, batch_size=8 , epochs=50, validation_data = (X_test_Gabor, y_test) ,callbacks = [callbacks])"
      ],
      "metadata": {
        "colab": {
          "base_uri": "https://localhost:8080/"
        },
        "id": "o1eHZHCusyU4",
        "outputId": "826db49a-561c-4a7b-9cf8-374abea938eb"
      },
      "execution_count": null,
      "outputs": [
        {
          "output_type": "stream",
          "name": "stdout",
          "text": [
            "Epoch 1/50\n",
            "98/98 [==============================] - 5s 31ms/step - loss: 1.8513 - accuracy: 0.2691 - val_loss: 1.7473 - val_accuracy: 0.3655 - lr: 0.0010\n",
            "Epoch 2/50\n",
            "98/98 [==============================] - 3s 26ms/step - loss: 1.4120 - accuracy: 0.4987 - val_loss: 1.1560 - val_accuracy: 0.5736 - lr: 0.0010\n",
            "Epoch 3/50\n",
            "98/98 [==============================] - 2s 24ms/step - loss: 1.0003 - accuracy: 0.6454 - val_loss: 0.8838 - val_accuracy: 0.7208 - lr: 0.0010\n",
            "Epoch 4/50\n",
            "98/98 [==============================] - 2s 24ms/step - loss: 0.7596 - accuracy: 0.7181 - val_loss: 0.6546 - val_accuracy: 0.7970 - lr: 0.0010\n",
            "Epoch 5/50\n",
            "98/98 [==============================] - 4s 37ms/step - loss: 0.5806 - accuracy: 0.8036 - val_loss: 0.5268 - val_accuracy: 0.8071 - lr: 0.0010\n",
            "Epoch 6/50\n",
            "98/98 [==============================] - 3s 32ms/step - loss: 0.4735 - accuracy: 0.8367 - val_loss: 0.3830 - val_accuracy: 0.8528 - lr: 0.0010\n",
            "Epoch 7/50\n",
            "98/98 [==============================] - 3s 26ms/step - loss: 0.3574 - accuracy: 0.8737 - val_loss: 0.2144 - val_accuracy: 0.9289 - lr: 0.0010\n",
            "Epoch 8/50\n",
            "98/98 [==============================] - 2s 24ms/step - loss: 0.2502 - accuracy: 0.9222 - val_loss: 0.1806 - val_accuracy: 0.9492 - lr: 0.0010\n",
            "Epoch 9/50\n",
            "98/98 [==============================] - 2s 24ms/step - loss: 0.2035 - accuracy: 0.9247 - val_loss: 0.1185 - val_accuracy: 0.9594 - lr: 0.0010\n",
            "Epoch 10/50\n",
            "98/98 [==============================] - 3s 31ms/step - loss: 0.1807 - accuracy: 0.9413 - val_loss: 0.1320 - val_accuracy: 0.9645 - lr: 0.0010\n",
            "Epoch 11/50\n",
            "98/98 [==============================] - 4s 40ms/step - loss: 0.1621 - accuracy: 0.9401 - val_loss: 0.0708 - val_accuracy: 0.9898 - lr: 0.0010\n",
            "Epoch 12/50\n",
            "98/98 [==============================] - 2s 24ms/step - loss: 0.1168 - accuracy: 0.9605 - val_loss: 0.0634 - val_accuracy: 0.9848 - lr: 0.0010\n",
            "Epoch 13/50\n",
            "98/98 [==============================] - 2s 25ms/step - loss: 0.1010 - accuracy: 0.9719 - val_loss: 0.0396 - val_accuracy: 0.9949 - lr: 0.0010\n",
            "Epoch 14/50\n",
            "98/98 [==============================] - 2s 24ms/step - loss: 0.1058 - accuracy: 0.9630 - val_loss: 0.0925 - val_accuracy: 0.9797 - lr: 0.0010\n",
            "Epoch 15/50\n",
            "98/98 [==============================] - 2s 25ms/step - loss: 0.1115 - accuracy: 0.9592 - val_loss: 0.0453 - val_accuracy: 0.9898 - lr: 0.0010\n",
            "Epoch 16/50\n",
            "98/98 [==============================] - 4s 42ms/step - loss: 0.0626 - accuracy: 0.9860 - val_loss: 0.0314 - val_accuracy: 0.9949 - lr: 0.0010\n",
            "Epoch 17/50\n",
            "98/98 [==============================] - 3s 27ms/step - loss: 0.0534 - accuracy: 0.9821 - val_loss: 0.0917 - val_accuracy: 0.9594 - lr: 0.0010\n",
            "Epoch 18/50\n",
            "97/98 [============================>.] - ETA: 0s - loss: 0.0914 - accuracy: 0.9729\n",
            "Epoch 18: ReduceLROnPlateau reducing learning rate to 0.00010000000474974513.\n",
            "98/98 [==============================] - 2s 24ms/step - loss: 0.0908 - accuracy: 0.9732 - val_loss: 0.0469 - val_accuracy: 0.9848 - lr: 0.0010\n",
            "Epoch 19/50\n",
            "98/98 [==============================] - 2s 24ms/step - loss: 0.0568 - accuracy: 0.9834 - val_loss: 0.0320 - val_accuracy: 0.9848 - lr: 1.0000e-04\n",
            "Epoch 20/50\n",
            "98/98 [==============================] - 2s 25ms/step - loss: 0.0331 - accuracy: 0.9936 - val_loss: 0.0253 - val_accuracy: 0.9848 - lr: 1.0000e-04\n",
            "Epoch 21/50\n",
            "98/98 [==============================] - 3s 36ms/step - loss: 0.0237 - accuracy: 0.9974 - val_loss: 0.0220 - val_accuracy: 0.9848 - lr: 1.0000e-04\n",
            "Epoch 22/50\n",
            "98/98 [==============================] - 3s 35ms/step - loss: 0.0331 - accuracy: 0.9898 - val_loss: 0.0224 - val_accuracy: 0.9848 - lr: 1.0000e-04\n",
            "Epoch 23/50\n",
            "98/98 [==============================] - ETA: 0s - loss: 0.0408 - accuracy: 0.9860Restoring model weights from the end of the best epoch: 13.\n",
            "\n",
            "Epoch 23: ReduceLROnPlateau reducing learning rate to 1.0000000474974514e-05.\n",
            "98/98 [==============================] - 3s 26ms/step - loss: 0.0408 - accuracy: 0.9860 - val_loss: 0.0181 - val_accuracy: 0.9949 - lr: 1.0000e-04\n",
            "Epoch 23: early stopping\n"
          ]
        }
      ]
    },
    {
      "cell_type": "code",
      "source": [
        "from sklearn.metrics import classification_report, confusion_matrix\n"
      ],
      "metadata": {
        "id": "3F0ATmtIM-Rf"
      },
      "execution_count": null,
      "outputs": []
    },
    {
      "cell_type": "code",
      "source": [
        "y_pred = np.argmax(Gabor_model.predict(X_test_Gabor), axis=1)\n",
        "y_test_labels = np.argmax(y_test, axis=1)\n",
        "classification_rep = classification_report(y_test_labels, y_pred)\n",
        "print(\"Classification Report:\\n\", classification_rep)\n"
      ],
      "metadata": {
        "colab": {
          "base_uri": "https://localhost:8080/"
        },
        "id": "FJMGixj9NFii",
        "outputId": "ba8d2b39-ced5-442a-9f6c-91bbf235257e"
      },
      "execution_count": null,
      "outputs": [
        {
          "output_type": "stream",
          "name": "stdout",
          "text": [
            "7/7 [==============================] - 0s 35ms/step\n",
            "Classification Report:\n",
            "               precision    recall  f1-score   support\n",
            "\n",
            "           0       1.00      1.00      1.00        34\n",
            "           1       1.00      1.00      1.00        16\n",
            "           2       1.00      1.00      1.00        33\n",
            "           3       1.00      0.97      0.99        38\n",
            "           4       1.00      1.00      1.00        12\n",
            "           5       1.00      1.00      1.00        51\n",
            "           6       0.93      1.00      0.96        13\n",
            "\n",
            "    accuracy                           0.99       197\n",
            "   macro avg       0.99      1.00      0.99       197\n",
            "weighted avg       1.00      0.99      0.99       197\n",
            "\n"
          ]
        }
      ]
    },
    {
      "cell_type": "code",
      "source": [
        "def plot_performance(history):\n",
        "    plt.figure(figsize=(12, 8))\n",
        "\n",
        "    plt.subplot(2, 1, 1)\n",
        "    plt.plot(history.history['loss'], label='train')\n",
        "    plt.plot(history.history['val_loss'], label='val')\n",
        "\n",
        "    plt.legend()\n",
        "    plt.grid()\n",
        "    plt.title('train and val loss evolution')\n",
        "\n",
        "    plt.subplot(2, 1, 2)\n",
        "    plt.plot(history.history['accuracy'], label='train')\n",
        "    plt.plot(history.history['val_accuracy'], label='val')\n",
        "\n",
        "    plt.legend()\n",
        "    plt.grid()\n",
        "    plt.title('train and val accuracy')"
      ],
      "metadata": {
        "id": "7Ctad3eIs1HC"
      },
      "execution_count": null,
      "outputs": []
    },
    {
      "cell_type": "code",
      "source": [
        "# Calculate confusion matrix\n",
        "conf_matrix = confusion_matrix(y_test_labels, y_pred)\n",
        "plt.figure(figsize=(8, 6))\n",
        "sns.heatmap(conf_matrix, annot=True, fmt='d', cmap='Blues', cbar=False,\n",
        "            xticklabels=np.unique(y_test_labels), yticklabels=np.unique(y_test_labels))\n",
        "plt.xlabel('Predicted')\n",
        "plt.ylabel('True')\n",
        "plt.title('Confusion Matrix')\n",
        "plt.show()"
      ],
      "metadata": {
        "colab": {
          "base_uri": "https://localhost:8080/",
          "height": 564
        },
        "id": "XLFMELFININ7",
        "outputId": "6a9fceac-7def-49c5-cf01-ba7773924137"
      },
      "execution_count": null,
      "outputs": [
        {
          "output_type": "display_data",
          "data": {
            "text/plain": [
              "<Figure size 800x600 with 1 Axes>"
            ],
            "image/png": "[encoded data removed]"
          },
          "metadata": {}
        }
      ]
    },
    {
      "cell_type": "code",
      "source": [],
      "metadata": {
        "id": "rn3qeMRvNE1Q"
      },
      "execution_count": null,
      "outputs": []
    },
    {
      "cell_type": "code",
      "source": [
        "plot_performance(Gabor_history)"
      ],
      "metadata": {
        "colab": {
          "base_uri": "https://localhost:8080/",
          "height": 699
        },
        "id": "NAOakfdXtKw5",
        "outputId": "1386d8ee-0233-405e-a56c-9b50ba4e42ec"
      },
      "execution_count": null,
      "outputs": [
        {
          "output_type": "display_data",
          "data": {
            "text/plain": [
              "<Figure size 1200x800 with 2 Axes>"
            ],
            "image/png": "[encoded data removed]"
          },
          "metadata": {}
        }
      ]
    },
    {
      "cell_type": "code",
      "source": [
        "print(\"Gabor Accuracy :\",Gabor_model.evaluate(X_test_Gabor, y_test, verbose = 0)[1])"
      ],
      "metadata": {
        "colab": {
          "base_uri": "https://localhost:8080/"
        },
        "id": "K9Bgk08KtNG5",
        "outputId": "f3d983d6-7992-498d-81c6-59b018f232e0"
      },
      "execution_count": null,
      "outputs": [
        {
          "output_type": "stream",
          "name": "stdout",
          "text": [
            "Gabor Accuracy : 0.9949238300323486\n"
          ]
        }
      ]
    },
    {
      "cell_type": "code",
      "source": [
        "Gabor_model.save('Gabor_model.keras')"
      ],
      "metadata": {
        "id": "MZlV7RHDtPz3"
      },
      "execution_count": null,
      "outputs": []
    },
    {
      "cell_type": "code",
      "source": [],
      "metadata": {
        "id": "I0HPS-5HtTg2"
      },
      "execution_count": null,
      "outputs": []
    }
  ]
}