{
  "nbformat": 4,
  "nbformat_minor": 0,
  "metadata": {
    "colab": {
      "provenance": []
    },
    "kernelspec": {
      "name": "python3",
      "display_name": "Python 3"
    },
    "language_info": {
      "name": "python"
    }
  },
  "cells": [
    {
      "cell_type": "code",
      "execution_count": 1,
      "metadata": {
        "id": "PFdzfPj1l1v_"
      },
      "outputs": [],
      "source": [
        "import os\n",
        "import cv2\n",
        "import zipfile\n",
        "from tqdm import tqdm\n",
        "from io import BytesIO\n",
        "import random\n",
        "import matplotlib.pyplot as plt\n",
        "import numpy as np\n",
        "import pandas as pd\n",
        "import seaborn as sns\n",
        "import cv2\n",
        "from sklearn.model_selection import train_test_split\n",
        "import tensorflow as tf\n",
        "from tensorflow.keras.preprocessing.image import ImageDataGenerator\n",
        "from tensorflow.keras.models import Sequential\n",
        "from tensorflow.keras.callbacks import Callback, EarlyStopping, ReduceLROnPlateau\n",
        "from tensorflow.keras.layers import Conv2D, BatchNormalization, MaxPool2D, Dropout, Flatten, Dense\n",
        "from tensorflow.keras.optimizers import Adam,RMSprop,SGD,Adamax\n",
        "from tensorflow.keras import regularizers"
      ]
    },
    {
      "cell_type": "code",
      "source": [
        "from google.colab import files\n",
        "uploaded = files.upload()"
      ],
      "metadata": {
        "colab": {
          "base_uri": "https://localhost:8080/",
          "height": 74
        },
        "id": "eWunBx0emO7c",
        "outputId": "ba83f36e-4dfb-420c-d67a-eb0a4a9e9ff4"
      },
      "execution_count": 2,
      "outputs": [
        {
          "output_type": "display_data",
          "data": {
            "text/plain": [
              "<IPython.core.display.HTML object>"
            ],
            "text/html": [
              "\n",
              "     <input type=\"file\" id=\"files-707af41a-6b11-4bb6-ac17-32c32037ae26\" name=\"files[]\" multiple disabled\n",
              "        style=\"border:none\" />\n",
              "     <output id=\"result-707af41a-6b11-4bb6-ac17-32c32037ae26\">\n",
              "      Upload widget is only available when the cell has been executed in the\n",
              "      current browser session. Please rerun this cell to enable.\n",
              "      </output>\n",
              "      <script>// Copyright 2017 Google LLC\n",
              "//\n",
              "// Licensed under the Apache License, Version 2.0 (the \"License\");\n",
              "// you may not use this file except in compliance with the License.\n",
              "// You may obtain a copy of the License at\n",
              "//\n",
              "//      http://www.apache.org/licenses/LICENSE-2.0\n",
              "//\n",
              "// Unless required by applicable law or agreed to in writing, software\n",
              "// distributed under the License is distributed on an \"AS IS\" BASIS,\n",
              "// WITHOUT WARRANTIES OR CONDITIONS OF ANY KIND, either express or implied.\n",
              "// See the License for the specific language governing permissions and\n",
              "// limitations under the License.\n",
              "\n",
              "/**\n",
              " * @fileoverview Helpers for google.colab Python module.\n",
              " */\n",
              "(function(scope) {\n",
              "function span(text, styleAttributes = {}) {\n",
              "  const element = document.createElement('span');\n",
              "  element.textContent = text;\n",
              "  for (const key of Object.keys(styleAttributes)) {\n",
              "    element.style[key] = styleAttributes[key];\n",
              "  }\n",
              "  return element;\n",
              "}\n",
              "\n",
              "// Max number of bytes which will be uploaded at a time.\n",
              "const MAX_PAYLOAD_SIZE = 100 * 1024;\n",
              "\n",
              "function _uploadFiles(inputId, outputId) {\n",
              "  const steps = uploadFilesStep(inputId, outputId);\n",
              "  const outputElement = document.getElementById(outputId);\n",
              "  // Cache steps on the outputElement to make it available for the next call\n",
              "  // to uploadFilesContinue from Python.\n",
              "  outputElement.steps = steps;\n",
              "\n",
              "  return _uploadFilesContinue(outputId);\n",
              "}\n",
              "\n",
              "// This is roughly an async generator (not supported in the browser yet),\n",
              "// where there are multiple asynchronous steps and the Python side is going\n",
              "// to poll for completion of each step.\n",
              "// This uses a Promise to block the python side on completion of each step,\n",
              "// then passes the result of the previous step as the input to the next step.\n",
              "function _uploadFilesContinue(outputId) {\n",
              "  const outputElement = document.getElementById(outputId);\n",
              "  const steps = outputElement.steps;\n",
              "\n",
              "  const next = steps.next(outputElement.lastPromiseValue);\n",
              "  return Promise.resolve(next.value.promise).then((value) => {\n",
              "    // Cache the last promise value to make it available to the next\n",
              "    // step of the generator.\n",
              "    outputElement.lastPromiseValue = value;\n",
              "    return next.value.response;\n",
              "  });\n",
              "}\n",
              "\n",
              "/**\n",
              " * Generator function which is called between each async step of the upload\n",
              " * process.\n",
              " * @param {string} inputId Element ID of the input file picker element.\n",
              " * @param {string} outputId Element ID of the output display.\n",
              " * @return {!Iterable<!Object>} Iterable of next steps.\n",
              " */\n",
              "function* uploadFilesStep(inputId, outputId) {\n",
              "  const inputElement = document.getElementById(inputId);\n",
              "  inputElement.disabled = false;\n",
              "\n",
              "  const outputElement = document.getElementById(outputId);\n",
              "  outputElement.innerHTML = '';\n",
              "\n",
              "  const pickedPromise = new Promise((resolve) => {\n",
              "    inputElement.addEventListener('change', (e) => {\n",
              "      resolve(e.target.files);\n",
              "    });\n",
              "  });\n",
              "\n",
              "  const cancel = document.createElement('button');\n",
              "  inputElement.parentElement.appendChild(cancel);\n",
              "  cancel.textContent = 'Cancel upload';\n",
              "  const cancelPromise = new Promise((resolve) => {\n",
              "    cancel.onclick = () => {\n",
              "      resolve(null);\n",
              "    };\n",
              "  });\n",
              "\n",
              "  // Wait for the user to pick the files.\n",
              "  const files = yield {\n",
              "    promise: Promise.race([pickedPromise, cancelPromise]),\n",
              "    response: {\n",
              "      action: 'starting',\n",
              "    }\n",
              "  };\n",
              "\n",
              "  cancel.remove();\n",
              "\n",
              "  // Disable the input element since further picks are not allowed.\n",
              "  inputElement.disabled = true;\n",
              "\n",
              "  if (!files) {\n",
              "    return {\n",
              "      response: {\n",
              "        action: 'complete',\n",
              "      }\n",
              "    };\n",
              "  }\n",
              "\n",
              "  for (const file of files) {\n",
              "    const li = document.createElement('li');\n",
              "    li.append(span(file.name, {fontWeight: 'bold'}));\n",
              "    li.append(span(\n",
              "        `(${file.type || 'n/a'}) - ${file.size} bytes, ` +\n",
              "        `last modified: ${\n",
              "            file.lastModifiedDate ? file.lastModifiedDate.toLocaleDateString() :\n",
              "                                    'n/a'} - `));\n",
              "    const percent = span('0% done');\n",
              "    li.appendChild(percent);\n",
              "\n",
              "    outputElement.appendChild(li);\n",
              "\n",
              "    const fileDataPromise = new Promise((resolve) => {\n",
              "      const reader = new FileReader();\n",
              "      reader.onload = (e) => {\n",
              "        resolve(e.target.result);\n",
              "      };\n",
              "      reader.readAsArrayBuffer(file);\n",
              "    });\n",
              "    // Wait for the data to be ready.\n",
              "    let fileData = yield {\n",
              "      promise: fileDataPromise,\n",
              "      response: {\n",
              "        action: 'continue',\n",
              "      }\n",
              "    };\n",
              "\n",
              "    // Use a chunked sending to avoid message size limits. See b/62115660.\n",
              "    let position = 0;\n",
              "    do {\n",
              "      const length = Math.min(fileData.byteLength - position, MAX_PAYLOAD_SIZE);\n",
              "      const chunk = new Uint8Array(fileData, position, length);\n",
              "      position += length;\n",
              "\n",
              "      const base64 = btoa(String.fromCharCode.apply(null, chunk));\n",
              "      yield {\n",
              "        response: {\n",
              "          action: 'append',\n",
              "          file: file.name,\n",
              "          data: base64,\n",
              "        },\n",
              "      };\n",
              "\n",
              "      let percentDone = fileData.byteLength === 0 ?\n",
              "          100 :\n",
              "          Math.round((position / fileData.byteLength) * 100);\n",
              "      percent.textContent = `${percentDone}% done`;\n",
              "\n",
              "    } while (position < fileData.byteLength);\n",
              "  }\n",
              "\n",
              "  // All done.\n",
              "  yield {\n",
              "    response: {\n",
              "      action: 'complete',\n",
              "    }\n",
              "  };\n",
              "}\n",
              "\n",
              "scope.google = scope.google || {};\n",
              "scope.google.colab = scope.google.colab || {};\n",
              "scope.google.colab._files = {\n",
              "  _uploadFiles,\n",
              "  _uploadFilesContinue,\n",
              "};\n",
              "})(self);\n",
              "</script> "
            ]
          },
          "metadata": {}
        },
        {
          "output_type": "stream",
          "name": "stdout",
          "text": [
            "Saving CK+48.zip to CK+48.zip\n"
          ]
        }
      ]
    },
    {
      "cell_type": "code",
      "source": [
        "\n",
        "zip_path = next(iter(uploaded))\n",
        "with zipfile.ZipFile(BytesIO(uploaded[zip_path]), 'r') as zip_ref:\n",
        "    zip_ref.extractall(\"/content/CK+48\")\n",
        "extracted_path = \"/content/CK+48/CK+48\"\n",
        "os.listdir(extracted_path)\n",
        "DATADIR = extracted_path\n",
        "CATEGORIES = os.listdir(DATADIR)"
      ],
      "metadata": {
        "id": "8rHW6TC-mS8v"
      },
      "execution_count": 3,
      "outputs": []
    },
    {
      "cell_type": "code",
      "source": [
        "def load_data():\n",
        "    data = []\n",
        "\n",
        "    for category in CATEGORIES:\n",
        "        path = os.path.join(DATADIR, category)\n",
        "        class_num = CATEGORIES.index(category)\n",
        "\n",
        "        for img in tqdm(os.listdir(path)):\n",
        "            img_array = cv2.imread(os.path.join(path, img), 0)\n",
        "            data.append([img_array, class_num])\n",
        "\n",
        "    return data"
      ],
      "metadata": {
        "id": "bAQyc8W1mXKR"
      },
      "execution_count": 4,
      "outputs": []
    },
    {
      "cell_type": "code",
      "source": [
        "\n",
        "data = load_data()\n",
        "len(data)\n"
      ],
      "metadata": {
        "colab": {
          "base_uri": "https://localhost:8080/"
        },
        "id": "_bsISf-Amd9p",
        "outputId": "9525deca-ce2b-4373-9598-d048660f59d6"
      },
      "execution_count": 5,
      "outputs": [
        {
          "output_type": "stream",
          "name": "stderr",
          "text": [
            "100%|██████████| 207/207 [00:00<00:00, 5030.16it/s]\n",
            "100%|██████████| 75/75 [00:00<00:00, 6761.66it/s]\n",
            "100%|██████████| 135/135 [00:00<00:00, 7385.59it/s]\n",
            "100%|██████████| 177/177 [00:00<00:00, 9774.36it/s]\n",
            "100%|██████████| 54/54 [00:00<00:00, 7818.17it/s]\n",
            "100%|██████████| 249/249 [00:00<00:00, 6355.47it/s]\n",
            "100%|██████████| 84/84 [00:00<00:00, 6942.98it/s]\n"
          ]
        },
        {
          "output_type": "execute_result",
          "data": {
            "text/plain": [
              "981"
            ]
          },
          "metadata": {},
          "execution_count": 5
        }
      ]
    },
    {
      "cell_type": "code",
      "source": [
        "X = np.array([ x[0] for x in data])\n",
        "y = np.array([Y[1] for Y in data])\n",
        "X_train, X_test, y_train, y_test = train_test_split(X, y, test_size=0.2, random_state=42, shuffle = True)\n",
        "# reshaping y_train and y_test\n",
        "y_train = np.reshape(y_train, (len(y_train),1))\n",
        "y_test  = np.reshape(y_test , (len(y_test ),1))\n",
        "X_train_Gabor  = X_train\n",
        "X_test_Gabor = X_test\n",
        "X_train = np.expand_dims(X_train, axis=3)\n",
        "X_test = np.expand_dims(X_test, axis=3)\n",
        "X_train = X_train / 255.0\n",
        "X_test = X_test / 255.0\n",
        "y_train_SVM = y_train\n",
        "y_test_SVM = y_test\n",
        "y_train = tf.keras.utils.to_categorical(y_train)\n",
        "y_test = tf.keras.utils.to_categorical(y_test)"
      ],
      "metadata": {
        "id": "A2OQfq4amlCw"
      },
      "execution_count": 6,
      "outputs": []
    },
    {
      "cell_type": "code",
      "source": [
        "def Binarypattern(im):                               # creating function to get local binary pattern\n",
        "    img= np.zeros_like(im)\n",
        "    n=3                                              # taking kernel of size 3*3\n",
        "    for i in range(0,im.shape[0]-n):                 # for image height\n",
        "        for j in range(0,im.shape[1]-n):               # for image width\n",
        "            x  = im[i:i+n,j:j+n]                     # reading the entire image in 3*3 format\n",
        "            center       = x[1,1]                    # taking the center value for 3*3 kernel\n",
        "            img1        = (x >= center)*1.0          # checking if neighbouring values of center value is greater or less than center value\n",
        "            img1_vector = img1.T.flatten()           # getting the image pixel values\n",
        "            img1_vector = np.delete(img1_vector,4)\n",
        "            digit = np.where(img1_vector)[0]\n",
        "            if len(digit) >= 1:                     # converting the neighbouring pixels according to center pixel value\n",
        "                num = np.sum(2**digit)              # if n> center assign 1 and if n<center assign 0\n",
        "            else:                                    # if 1 then multiply by 2^digit and if 0 then making value 0 and aggregating all the values of kernel to get new center value\n",
        "                num = 0\n",
        "            img[i+1,j+1] = num\n",
        "    return(img)"
      ],
      "metadata": {
        "id": "8ALktGxGnmpX"
      },
      "execution_count": 7,
      "outputs": []
    },
    {
      "cell_type": "code",
      "source": [
        "plt.figure(figsize = (10,10))\n",
        "\n",
        "plt.subplot(1,2,1)\n",
        "img = random.choice(X_train)\n",
        "plt.title(\"Original  image\")\n",
        "plt.imshow(img, cmap='gray')\n",
        "\n",
        "plt.subplot(1,2,2)\n",
        "plt.title(\"LBP\")\n",
        "imgLBP=Binarypattern(img)             # calling the LBP function using gray image\n",
        "plt.imshow(imgLBP, cmap='gray')\n",
        "plt.axis('off')"
      ],
      "metadata": {
        "colab": {
          "base_uri": "https://localhost:8080/",
          "height": 453
        },
        "id": "s7q0VyEVnpOk",
        "outputId": "9eb0892a-78a4-47ef-ee64-09225c03e780"
      },
      "execution_count": 8,
      "outputs": [
        {
          "output_type": "execute_result",
          "data": {
            "text/plain": [
              "(-0.5, 47.5, 47.5, -0.5)"
            ]
          },
          "metadata": {},
          "execution_count": 8
        },
        {
          "output_type": "display_data",
          "data": {
            "text/plain": [
              "<Figure size 1000x1000 with 2 Axes>"
            ],
            "image/png": "[encoded data removed]"
          },
          "metadata": {}
        }
      ]
    },
    {
      "cell_type": "markdown",
      "source": [
        "CREATING FEATURE VECTORS FOR TRAINING AND TESTING"
      ],
      "metadata": {
        "id": "tY87mG5dnwVy"
      }
    },
    {
      "cell_type": "code",
      "source": [
        "X_train.shape"
      ],
      "metadata": {
        "colab": {
          "base_uri": "https://localhost:8080/"
        },
        "id": "ngBmSOginsAE",
        "outputId": "e79bacf3-7717-4266-8b92-b24f607b57fe"
      },
      "execution_count": 9,
      "outputs": [
        {
          "output_type": "execute_result",
          "data": {
            "text/plain": [
              "(784, 48, 48, 1)"
            ]
          },
          "metadata": {},
          "execution_count": 9
        }
      ]
    },
    {
      "cell_type": "code",
      "source": [
        "def create_LBP_features(data):\n",
        "    Feature_data = np.zeros(data.shape)\n",
        "\n",
        "    for i in range(len(data)):\n",
        "        img = data[i]\n",
        "        imgLBP=Binarypattern(img)\n",
        "        Feature_data[i] = imgLBP\n",
        "\n",
        "    return Feature_data"
      ],
      "metadata": {
        "id": "55e7FkfVn2vf"
      },
      "execution_count": 10,
      "outputs": []
    },
    {
      "cell_type": "code",
      "source": [
        "Feature_X_train = create_LBP_features(X_train)"
      ],
      "metadata": {
        "id": "yp0pNaPZn439"
      },
      "execution_count": 11,
      "outputs": []
    },
    {
      "cell_type": "code",
      "source": [
        "Feature_X_train.shape"
      ],
      "metadata": {
        "colab": {
          "base_uri": "https://localhost:8080/"
        },
        "id": "WzWgh3B-n7Cb",
        "outputId": "5b018390-9eca-4cea-f9b6-de993588a3d8"
      },
      "execution_count": 12,
      "outputs": [
        {
          "output_type": "execute_result",
          "data": {
            "text/plain": [
              "(784, 48, 48, 1)"
            ]
          },
          "metadata": {},
          "execution_count": 12
        }
      ]
    },
    {
      "cell_type": "code",
      "source": [
        "img = random.choice(Feature_X_train)\n",
        "plt.imshow(img, cmap='gray')"
      ],
      "metadata": {
        "colab": {
          "base_uri": "https://localhost:8080/",
          "height": 449
        },
        "id": "7jJKF4ByoEuy",
        "outputId": "28578eff-6208-48da-be93-c7298f622477"
      },
      "execution_count": 13,
      "outputs": [
        {
          "output_type": "execute_result",
          "data": {
            "text/plain": [
              "<matplotlib.image.AxesImage at 0x7ac1a67b09a0>"
            ]
          },
          "metadata": {},
          "execution_count": 13
        },
        {
          "output_type": "display_data",
          "data": {
            "text/plain": [
              "<Figure size 640x480 with 1 Axes>"
            ],
            "image/png": "[encoded data removed]"
          },
          "metadata": {}
        }
      ]
    },
    {
      "cell_type": "code",
      "source": [
        "Feature_X_test = create_LBP_features(X_test)\n",
        "Feature_X_test.shape"
      ],
      "metadata": {
        "colab": {
          "base_uri": "https://localhost:8080/"
        },
        "id": "K1ZqJYiroG8y",
        "outputId": "36579cd8-dc59-4f62-e591-22e25fb9917d"
      },
      "execution_count": 14,
      "outputs": [
        {
          "output_type": "execute_result",
          "data": {
            "text/plain": [
              "(197, 48, 48, 1)"
            ]
          },
          "metadata": {},
          "execution_count": 14
        }
      ]
    },
    {
      "cell_type": "code",
      "source": [
        "img = random.choice(Feature_X_test)\n",
        "plt.imshow(img, cmap='gray')"
      ],
      "metadata": {
        "colab": {
          "base_uri": "https://localhost:8080/",
          "height": 449
        },
        "id": "TGeu1lg2oJag",
        "outputId": "fbef2fb7-20cc-481b-9b83-56027a1b2125"
      },
      "execution_count": 15,
      "outputs": [
        {
          "output_type": "execute_result",
          "data": {
            "text/plain": [
              "<matplotlib.image.AxesImage at 0x7ac1a68323b0>"
            ]
          },
          "metadata": {},
          "execution_count": 15
        },
        {
          "output_type": "display_data",
          "data": {
            "text/plain": [
              "<Figure size 640x480 with 1 Axes>"
            ],
            "image/png": "[encoded data removed]"
          },
          "metadata": {}
        }
      ]
    },
    {
      "cell_type": "markdown",
      "source": [
        "Training and testing LBP-CNN model"
      ],
      "metadata": {
        "id": "45CRHMQ4oQwO"
      }
    },
    {
      "cell_type": "code",
      "source": [
        "def create_model(input_shape=None):\n",
        "    if input_shape is None :\n",
        "        input_shape=(48,48,1)\n",
        "\n",
        "    model = Sequential()\n",
        "    model.add(Conv2D(6, (5, 5), input_shape=input_shape, padding='same', activation = 'relu'))\n",
        "    model.add(MaxPool2D(pool_size=(2, 2)))\n",
        "\n",
        "    model.add(Conv2D(16, (5, 5), padding='same', activation = 'relu'))\n",
        "    model.add(MaxPool2D(pool_size=(2, 2)))\n",
        "\n",
        "    model.add(Conv2D(64, (3, 3), activation = 'relu'))\n",
        "    model.add(MaxPool2D(pool_size=(2, 2)))\n",
        "\n",
        "    model.add(Flatten())\n",
        "    model.add(Dense(128, activation = 'relu'))\n",
        "    model.add(Dropout(0.5))\n",
        "    model.add(Dense(7, activation = 'softmax'))\n",
        "\n",
        "    return model\n",
        "\n",
        "es = EarlyStopping(\n",
        "    monitor='val_accuracy', min_delta=0.0001, patience=10, verbose=2,\n",
        "    mode='max', baseline=None, restore_best_weights=True\n",
        ")\n",
        "lr = ReduceLROnPlateau(\n",
        "    monitor='val_accuracy', factor=0.1, patience=5, verbose=2,\n",
        "    mode='max', min_delta=1e-5, cooldown=0, min_lr=0\n",
        ")\n",
        "\n",
        "callbacks = [es, lr]"
      ],
      "metadata": {
        "id": "Vx8sJRjroVPE"
      },
      "execution_count": 16,
      "outputs": []
    },
    {
      "cell_type": "code",
      "source": [
        "LBP_model = create_model()\n",
        "LBP_model.compile(loss='categorical_crossentropy', metrics=['accuracy'], optimizer='adam' )"
      ],
      "metadata": {
        "id": "s7hW43owoc_2"
      },
      "execution_count": 17,
      "outputs": []
    },
    {
      "cell_type": "code",
      "source": [
        "LBP_history = LBP_model.fit(Feature_X_train, y_train, batch_size=8 , epochs=50, validation_data = (Feature_X_test, y_test) ,callbacks = [callbacks])"
      ],
      "metadata": {
        "colab": {
          "base_uri": "https://localhost:8080/"
        },
        "id": "OZB6kZ_NogQK",
        "outputId": "de3e5f38-7c76-4c73-854c-14c04c6a3f39"
      },
      "execution_count": 18,
      "outputs": [
        {
          "output_type": "stream",
          "name": "stdout",
          "text": [
            "Epoch 1/50\n",
            "98/98 [==============================] - 6s 46ms/step - loss: 7.4217 - accuracy: 0.2679 - val_loss: 1.6745 - val_accuracy: 0.4162 - lr: 0.0010\n",
            "Epoch 2/50\n",
            "98/98 [==============================] - 5s 46ms/step - loss: 1.4896 - accuracy: 0.4668 - val_loss: 1.3311 - val_accuracy: 0.5584 - lr: 0.0010\n",
            "Epoch 3/50\n",
            "98/98 [==============================] - 5s 52ms/step - loss: 1.1256 - accuracy: 0.6020 - val_loss: 0.9070 - val_accuracy: 0.6548 - lr: 0.0010\n",
            "Epoch 4/50\n",
            "98/98 [==============================] - 4s 42ms/step - loss: 0.8705 - accuracy: 0.6977 - val_loss: 0.7413 - val_accuracy: 0.7563 - lr: 0.0010\n",
            "Epoch 5/50\n",
            "98/98 [==============================] - 4s 45ms/step - loss: 0.6383 - accuracy: 0.7870 - val_loss: 0.5447 - val_accuracy: 0.8173 - lr: 0.0010\n",
            "Epoch 6/50\n",
            "98/98 [==============================] - 4s 44ms/step - loss: 0.4346 - accuracy: 0.8597 - val_loss: 0.4769 - val_accuracy: 0.8071 - lr: 0.0010\n",
            "Epoch 7/50\n",
            "98/98 [==============================] - 5s 47ms/step - loss: 0.3260 - accuracy: 0.8724 - val_loss: 0.6101 - val_accuracy: 0.8122 - lr: 0.0010\n",
            "Epoch 8/50\n",
            "98/98 [==============================] - 4s 36ms/step - loss: 0.2281 - accuracy: 0.9196 - val_loss: 0.4705 - val_accuracy: 0.8680 - lr: 0.0010\n",
            "Epoch 9/50\n",
            "98/98 [==============================] - 2s 25ms/step - loss: 0.1956 - accuracy: 0.9324 - val_loss: 0.4880 - val_accuracy: 0.8274 - lr: 0.0010\n",
            "Epoch 10/50\n",
            "98/98 [==============================] - 4s 44ms/step - loss: 0.1474 - accuracy: 0.9426 - val_loss: 0.2365 - val_accuracy: 0.8985 - lr: 0.0010\n",
            "Epoch 11/50\n",
            "98/98 [==============================] - 4s 44ms/step - loss: 0.1764 - accuracy: 0.9375 - val_loss: 0.2174 - val_accuracy: 0.9340 - lr: 0.0010\n",
            "Epoch 12/50\n",
            "98/98 [==============================] - 4s 40ms/step - loss: 0.1458 - accuracy: 0.9452 - val_loss: 0.1859 - val_accuracy: 0.9442 - lr: 0.0010\n",
            "Epoch 13/50\n",
            "98/98 [==============================] - 2s 24ms/step - loss: 0.1460 - accuracy: 0.9413 - val_loss: 0.1730 - val_accuracy: 0.9391 - lr: 0.0010\n",
            "Epoch 14/50\n",
            "98/98 [==============================] - 2s 25ms/step - loss: 0.0719 - accuracy: 0.9719 - val_loss: 0.1700 - val_accuracy: 0.9543 - lr: 0.0010\n",
            "Epoch 15/50\n",
            "98/98 [==============================] - 2s 24ms/step - loss: 0.1350 - accuracy: 0.9554 - val_loss: 0.3377 - val_accuracy: 0.8985 - lr: 0.0010\n",
            "Epoch 16/50\n",
            "98/98 [==============================] - 2s 23ms/step - loss: 0.1046 - accuracy: 0.9668 - val_loss: 0.2566 - val_accuracy: 0.9340 - lr: 0.0010\n",
            "Epoch 17/50\n",
            "98/98 [==============================] - 4s 37ms/step - loss: 0.0783 - accuracy: 0.9707 - val_loss: 0.1524 - val_accuracy: 0.9289 - lr: 0.0010\n",
            "Epoch 18/50\n",
            "98/98 [==============================] - 3s 29ms/step - loss: 0.0473 - accuracy: 0.9860 - val_loss: 0.1572 - val_accuracy: 0.9543 - lr: 0.0010\n",
            "Epoch 19/50\n",
            "98/98 [==============================] - ETA: 0s - loss: 0.0348 - accuracy: 0.9923\n",
            "Epoch 19: ReduceLROnPlateau reducing learning rate to 0.00010000000474974513.\n",
            "98/98 [==============================] - 2s 22ms/step - loss: 0.0348 - accuracy: 0.9923 - val_loss: 0.1621 - val_accuracy: 0.9543 - lr: 0.0010\n",
            "Epoch 20/50\n",
            "98/98 [==============================] - 2s 22ms/step - loss: 0.0299 - accuracy: 0.9860 - val_loss: 0.1236 - val_accuracy: 0.9543 - lr: 1.0000e-04\n",
            "Epoch 21/50\n",
            "98/98 [==============================] - 2s 23ms/step - loss: 0.0275 - accuracy: 0.9872 - val_loss: 0.1378 - val_accuracy: 0.9492 - lr: 1.0000e-04\n",
            "Epoch 22/50\n",
            "98/98 [==============================] - 3s 26ms/step - loss: 0.0188 - accuracy: 0.9962 - val_loss: 0.1393 - val_accuracy: 0.9492 - lr: 1.0000e-04\n",
            "Epoch 23/50\n",
            "98/98 [==============================] - 4s 39ms/step - loss: 0.0142 - accuracy: 0.9949 - val_loss: 0.1288 - val_accuracy: 0.9594 - lr: 1.0000e-04\n",
            "Epoch 24/50\n",
            "98/98 [==============================] - 2s 24ms/step - loss: 0.0158 - accuracy: 0.9962 - val_loss: 0.1363 - val_accuracy: 0.9492 - lr: 1.0000e-04\n",
            "Epoch 25/50\n",
            "98/98 [==============================] - 2s 25ms/step - loss: 0.0161 - accuracy: 0.9949 - val_loss: 0.1277 - val_accuracy: 0.9594 - lr: 1.0000e-04\n",
            "Epoch 26/50\n",
            "98/98 [==============================] - 2s 24ms/step - loss: 0.0095 - accuracy: 0.9974 - val_loss: 0.1321 - val_accuracy: 0.9543 - lr: 1.0000e-04\n",
            "Epoch 27/50\n",
            "98/98 [==============================] - 2s 24ms/step - loss: 0.0091 - accuracy: 0.9962 - val_loss: 0.1298 - val_accuracy: 0.9543 - lr: 1.0000e-04\n",
            "Epoch 28/50\n",
            "97/98 [============================>.] - ETA: 0s - loss: 0.0109 - accuracy: 0.9961\n",
            "Epoch 28: ReduceLROnPlateau reducing learning rate to 1.0000000474974514e-05.\n",
            "98/98 [==============================] - 3s 36ms/step - loss: 0.0108 - accuracy: 0.9962 - val_loss: 0.1333 - val_accuracy: 0.9492 - lr: 1.0000e-04\n",
            "Epoch 29/50\n",
            "98/98 [==============================] - 3s 31ms/step - loss: 0.0122 - accuracy: 0.9949 - val_loss: 0.1330 - val_accuracy: 0.9492 - lr: 1.0000e-05\n",
            "Epoch 30/50\n",
            "98/98 [==============================] - 2s 25ms/step - loss: 0.0123 - accuracy: 0.9962 - val_loss: 0.1313 - val_accuracy: 0.9492 - lr: 1.0000e-05\n",
            "Epoch 31/50\n",
            "98/98 [==============================] - 2s 25ms/step - loss: 0.0098 - accuracy: 0.9987 - val_loss: 0.1322 - val_accuracy: 0.9492 - lr: 1.0000e-05\n",
            "Epoch 32/50\n",
            "98/98 [==============================] - 2s 23ms/step - loss: 0.0074 - accuracy: 0.9987 - val_loss: 0.1327 - val_accuracy: 0.9492 - lr: 1.0000e-05\n",
            "Epoch 33/50\n",
            "98/98 [==============================] - ETA: 0s - loss: 0.0070 - accuracy: 0.9974Restoring model weights from the end of the best epoch: 23.\n",
            "\n",
            "Epoch 33: ReduceLROnPlateau reducing learning rate to 1.0000000656873453e-06.\n",
            "98/98 [==============================] - 3s 31ms/step - loss: 0.0070 - accuracy: 0.9974 - val_loss: 0.1318 - val_accuracy: 0.9492 - lr: 1.0000e-05\n",
            "Epoch 33: early stopping\n"
          ]
        }
      ]
    },
    {
      "cell_type": "code",
      "source": [
        "from sklearn.metrics import classification_report, confusion_matrix\n",
        "import seaborn as sns\n",
        "import numpy as np\n"
      ],
      "metadata": {
        "id": "zzXw8e_WQCXt"
      },
      "execution_count": 19,
      "outputs": []
    },
    {
      "cell_type": "code",
      "source": [
        "\n",
        "y_pred = np.argmax(LBP_model.predict(Feature_X_test), axis=1)\n",
        "\n",
        "y_test_labels = np.argmax(y_test, axis=1)\n",
        "\n",
        "# Print classification report\n",
        "classification_rep = classification_report(y_test_labels, y_pred)\n",
        "print(\"Classification Report:\\n\", classification_rep)"
      ],
      "metadata": {
        "colab": {
          "base_uri": "https://localhost:8080/"
        },
        "id": "zaSfm76oQEe5",
        "outputId": "a52c36bd-394f-4423-c308-fc32ccb73498"
      },
      "execution_count": 20,
      "outputs": [
        {
          "output_type": "stream",
          "name": "stdout",
          "text": [
            "7/7 [==============================] - 0s 19ms/step\n",
            "Classification Report:\n",
            "               precision    recall  f1-score   support\n",
            "\n",
            "           0       0.97      1.00      0.99        34\n",
            "           1       1.00      0.94      0.97        16\n",
            "           2       0.89      0.94      0.91        33\n",
            "           3       1.00      0.92      0.96        38\n",
            "           4       1.00      1.00      1.00        12\n",
            "           5       0.96      0.96      0.96        51\n",
            "           6       0.93      1.00      0.96        13\n",
            "\n",
            "    accuracy                           0.96       197\n",
            "   macro avg       0.96      0.97      0.96       197\n",
            "weighted avg       0.96      0.96      0.96       197\n",
            "\n"
          ]
        }
      ]
    },
    {
      "cell_type": "code",
      "source": [
        "# Calculate confusion matrix\n",
        "conf_matrix = confusion_matrix(y_test_labels, y_pred)\n",
        "\n",
        "# Visualize confusion matrix using seaborn\n",
        "plt.figure(figsize=(8, 6))\n",
        "sns.heatmap(conf_matrix, annot=True, fmt='d', cmap='Blues', cbar=False,\n",
        "            xticklabels=np.unique(y_test_labels), yticklabels=np.unique(y_test_labels))\n",
        "plt.xlabel('Predicted')\n",
        "plt.ylabel('True')\n",
        "plt.title('Confusion Matrix')\n",
        "plt.show()"
      ],
      "metadata": {
        "colab": {
          "base_uri": "https://localhost:8080/",
          "height": 564
        },
        "id": "IOTqnDeXQHuJ",
        "outputId": "28933c4c-b65d-4bc3-ed5c-917a19c7d276"
      },
      "execution_count": 21,
      "outputs": [
        {
          "output_type": "display_data",
          "data": {
            "text/plain": [
              "<Figure size 800x600 with 1 Axes>"
            ],
            "image/png": "[encoded data removed]"
          },
          "metadata": {}
        }
      ]
    },
    {
      "cell_type": "code",
      "source": [
        "def plot_performance(history):\n",
        "    plt.figure(figsize=(12, 8))\n",
        "\n",
        "    plt.subplot(2, 1, 1)\n",
        "    plt.plot(history.history['loss'], label='train')\n",
        "    plt.plot(history.history['val_loss'], label='val')\n",
        "\n",
        "    plt.legend()\n",
        "    plt.grid()\n",
        "    plt.title('train and val loss evolution')\n",
        "\n",
        "    plt.subplot(2, 1, 2)\n",
        "    plt.plot(history.history['accuracy'], label='train')\n",
        "    plt.plot(history.history['val_accuracy'], label='val')\n",
        "\n",
        "    plt.legend()\n",
        "    plt.grid()\n",
        "    plt.title('train and val accuracy')"
      ],
      "metadata": {
        "id": "SJGbJ7Leoi3V"
      },
      "execution_count": 22,
      "outputs": []
    },
    {
      "cell_type": "code",
      "source": [
        "plot_performance(LBP_history)"
      ],
      "metadata": {
        "colab": {
          "base_uri": "https://localhost:8080/",
          "height": 699
        },
        "id": "2GMzVO_Do2TX",
        "outputId": "8b9057a5-aa46-4e9f-af2c-bc2737be7f7d"
      },
      "execution_count": 23,
      "outputs": [
        {
          "output_type": "display_data",
          "data": {
            "text/plain": [
              "<Figure size 1200x800 with 2 Axes>"
            ],
            "image/png": "[encoded data removed]"
          },
          "metadata": {}
        }
      ]
    },
    {
      "cell_type": "code",
      "source": [
        "\n",
        "print(\"LBP Accuracy :\",LBP_model.evaluate(Feature_X_test, y_test, verbose = 0)[1])"
      ],
      "metadata": {
        "colab": {
          "base_uri": "https://localhost:8080/"
        },
        "id": "2HmRla9so6lL",
        "outputId": "45ec029a-7795-46eb-a76e-f579d895c588"
      },
      "execution_count": 24,
      "outputs": [
        {
          "output_type": "stream",
          "name": "stdout",
          "text": [
            "LBP Accuracy : 0.9593908786773682\n"
          ]
        }
      ]
    },
    {
      "cell_type": "code",
      "source": [
        "LBP_model.save('LBP_model.keras')"
      ],
      "metadata": {
        "id": "EnVRrr17pHu1"
      },
      "execution_count": 25,
      "outputs": []
    },
    {
      "cell_type": "code",
      "source": [],
      "metadata": {
        "id": "Ec8Y1c6Pp-_m"
      },
      "execution_count": null,
      "outputs": []
    }
  ]
}