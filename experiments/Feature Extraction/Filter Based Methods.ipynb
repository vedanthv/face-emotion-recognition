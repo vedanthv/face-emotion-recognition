{
 "cells": [
  {
   "cell_type": "code",
   "execution_count": 2,
   "metadata": {
    "execution": {
     "iopub.execute_input": "2023-07-29T22:46:19.675100Z",
     "iopub.status.busy": "2023-07-29T22:46:19.674680Z",
     "iopub.status.idle": "2023-07-29T22:46:20.622652Z",
     "shell.execute_reply": "2023-07-29T22:46:20.620599Z",
     "shell.execute_reply.started": "2023-07-29T22:46:19.675065Z"
    }
   },
   "outputs": [
    {
     "name": "stderr",
     "output_type": "stream",
     "text": [
      "/opt/conda/lib/python3.10/site-packages/scipy/__init__.py:146: UserWarning: A NumPy version >=1.16.5 and <1.23.0 is required for this version of SciPy (detected version 1.23.5\n",
      "  warnings.warn(f\"A NumPy version >={np_minversion} and <{np_maxversion}\"\n"
     ]
    }
   ],
   "source": [
    "import os\n",
    "import copy\n",
    "import numpy as np\n",
    "import pandas as pd\n",
    "import matplotlib.pyplot as plt\n",
    "from sklearn.model_selection import train_test_split\n",
    "from sklearn.metrics import accuracy_score\n",
    "from tqdm import tqdm\n",
    "import torch\n",
    "import torchvision\n",
    "import torch.nn as nn\n",
    "import torch.nn.functional as F\n",
    "from torch.utils.data import Dataset, DataLoader\n",
    "from torchvision import transforms\n",
    "from torchvision.datasets import ImageFolder\n",
    "import warnings\n",
    "warnings.filterwarnings('ignore')"
   ]
  },
  {
   "cell_type": "markdown",
   "metadata": {},
   "source": [
    "## Feature Extraction"
   ]
  },
  {
   "cell_type": "code",
   "execution_count": 43,
   "metadata": {
    "execution": {
     "iopub.execute_input": "2023-07-21T07:14:45.149469Z",
     "iopub.status.busy": "2023-07-21T07:14:45.149060Z",
     "iopub.status.idle": "2023-07-21T07:14:46.322352Z",
     "shell.execute_reply": "2023-07-21T07:14:46.321398Z",
     "shell.execute_reply.started": "2023-07-21T07:14:45.149436Z"
    }
   },
   "outputs": [
    {
     "name": "stdout",
     "output_type": "stream",
     "text": [
      "{'surprise': 0, 'fear': 1, 'sadness': 2, 'disgust': 3, 'contempt': 4, 'happy': 5, 'anger': 6}\n",
      "784 197\n"
     ]
    }
   ],
   "source": [
    "from PIL import Image\n",
    "from sklearn.model_selection import train_test_split\n",
    "\n",
    "'''CK+ dataset utils'''\n",
    "\n",
    "class CKDataset(Dataset):\n",
    "    def __init__(self, df, transformations):\n",
    "        self.df = df\n",
    "        self.transformations = transformations\n",
    "        \n",
    "    def __len__(self):\n",
    "        return len(self.df)\n",
    "    \n",
    "    def __getitem__(self, index):\n",
    "        filepath, label = self.df.iloc[index]['filepath'], self.df.iloc[index]['label']\n",
    "        img = Image.open(filepath).convert('RGB')\n",
    "        img = self.transformations(img)\n",
    "        return img, label\n",
    "    \n",
    "\n",
    "dir2label = {dir : i for i, dir in enumerate(os.listdir('D:/Vedanth/Major-Project/input/ckplus/CK+48'))}\n",
    "print(dir2label)\n",
    "ckplus_df = pd.DataFrame(columns=['filepath', 'label'])\n",
    "for dir in os.listdir('D:/Vedanth/Major-Project/input/ckplus/CK+48'):\n",
    "    label = dir2label[dir]\n",
    "    for file in os.listdir(f'D:/Vedanth/Major-Project/input/ckplus/CK+48/{dir}'):\n",
    "        filepath = f'D:/Vedanth/Major-Project/input/ckplus/CK+48/{dir}/{file}'\n",
    "        ckplus_df = ckplus_df.append({'filepath' : filepath, 'label' : label}, ignore_index=True)\n",
    "ckplus_df = ckplus_df.sample(frac=1)\n",
    "\n",
    "ckplus_train, ckplus_test = train_test_split(ckplus_df, test_size=0.2, shuffle=True, random_state=0)\n",
    "print(len(ckplus_train), len(ckplus_test))\n",
    "ckplus_train.to_csv('ckplus_train.csv', index=False)\n",
    "ckplus_test.to_csv('ckplus_test.csv', index=False)"
   ]
  },
  {
   "cell_type": "code",
   "execution_count": 10,
   "metadata": {
    "execution": {
     "iopub.execute_input": "2023-07-24T16:53:56.593302Z",
     "iopub.status.busy": "2023-07-24T16:53:56.592891Z",
     "iopub.status.idle": "2023-07-24T16:53:57.551504Z",
     "shell.execute_reply": "2023-07-24T16:53:57.550487Z",
     "shell.execute_reply.started": "2023-07-24T16:53:56.593268Z"
    }
   },
   "outputs": [
    {
     "name": "stdout",
     "output_type": "stream",
     "text": [
      "446 [0 1 2 3 4] 112 [0 1 2 3 4]\n"
     ]
    }
   ],
   "source": [
    "from PIL import Image\n",
    "from sklearn.model_selection import train_test_split\n",
    "\n",
    "# '''Tufts IR database utils'''\n",
    "\n",
    "# class TuftsDataset(Dataset):\n",
    "#     def __init__(self, df, transformations):\n",
    "#         self.df = df\n",
    "#         self.transformations = transformations\n",
    "        \n",
    "#     def __len__(self):\n",
    "#         return len(self.df)\n",
    "    \n",
    "#     def __getitem__(self, index):\n",
    "#         filepath, label = self.df.iloc[index]['filepath'], self.df.iloc[index]['label']\n",
    "#         img = Image.open(filepath).convert('RGB')\n",
    "#         img = self.transformations(img)\n",
    "#         return img, label\n",
    "    \n",
    "'''\n",
    "1,Neutral 2,Smile 3,Sleepy 4,Shock, 5,Sun_Glasses\n",
    "'''\n",
    "\n",
    "# tufts_df = pd.DataFrame(columns=['filepath', 'label'])\n",
    "# for dir in os.listdir('/kaggle/input/Tufts/TD_IR_EMOTIONS_CROPPED'):\n",
    "#     dirpath = f'/kaggle/input/Tufts/TD_IR_EMOTIONS_CROPPED/{dir}'\n",
    "#     if os.path.isdir(dirpath):\n",
    "#         for file in os.listdir(dirpath):\n",
    "#             filepath = f'{dirpath}/{file}'\n",
    "#             label = int(file.split('.jpg')[0][-1]) - 1\n",
    "#             assert label>=0 and label<5\n",
    "#             tufts_df = tufts_df.append({'filepath' : filepath, 'label' : label}, ignore_index=True)\n",
    "# tufts_df = tufts_df.sample(frac=1)\n",
    "\n",
    "# tufts_train, tufts_test = train_test_split(tufts_df, test_size=0.2, shuffle=True, random_state=0)\n",
    "# print(len(tufts_train), np.unique(tufts_train.iloc[:]['label']), len(tufts_test), np.unique(tufts_test.iloc[:]['label']))\n",
    "# tufts_train.to_csv('tufts_train.csv', index=False)\n",
    "# tufts_test.to_csv('tufts_test.csv', index=False)"
   ]
  },
  {
   "cell_type": "code",
   "execution_count": 11,
   "metadata": {
    "collapsed": true,
    "execution": {
     "iopub.execute_input": "2023-07-24T16:53:57.570718Z",
     "iopub.status.busy": "2023-07-24T16:53:57.570120Z",
     "iopub.status.idle": "2023-07-24T17:08:06.561234Z",
     "shell.execute_reply": "2023-07-24T17:08:06.559419Z",
     "shell.execute_reply.started": "2023-07-24T16:53:57.570680Z"
    },
    "jupyter": {
     "outputs_hidden": true
    }
   },
   "outputs": [
    {
     "name": "stdout",
     "output_type": "stream",
     "text": [
      "446 112\n",
      "112 28\n"
     ]
    },
    {
     "name": "stderr",
     "output_type": "stream",
     "text": [
      "Train Epoch: [1/100] Loss: 1.3285: 100%|██████████| 112/112 [00:07<00:00, 14.47it/s]\n"
     ]
    },
    {
     "name": "stdout",
     "output_type": "stream",
     "text": [
      "Validation accuracy after 1 epochs: 0.491071\n"
     ]
    },
    {
     "name": "stderr",
     "output_type": "stream",
     "text": [
      "Train Epoch: [2/100] Loss: 1.0044: 100%|██████████| 112/112 [00:06<00:00, 16.13it/s]\n"
     ]
    },
    {
     "name": "stdout",
     "output_type": "stream",
     "text": [
      "Validation accuracy after 2 epochs: 0.642857\n"
     ]
    },
    {
     "name": "stderr",
     "output_type": "stream",
     "text": [
      "Train Epoch: [3/100] Loss: 0.9394: 100%|██████████| 112/112 [00:07<00:00, 15.38it/s]\n"
     ]
    },
    {
     "name": "stdout",
     "output_type": "stream",
     "text": [
      "Validation accuracy after 3 epochs: 0.767857\n"
     ]
    },
    {
     "name": "stderr",
     "output_type": "stream",
     "text": [
      "Train Epoch: [4/100] Loss: 0.6997: 100%|██████████| 112/112 [00:06<00:00, 17.03it/s]\n"
     ]
    },
    {
     "name": "stdout",
     "output_type": "stream",
     "text": [
      "Validation accuracy after 4 epochs: 0.785714\n"
     ]
    },
    {
     "name": "stderr",
     "output_type": "stream",
     "text": [
      "Train Epoch: [5/100] Loss: 0.6015: 100%|██████████| 112/112 [00:06<00:00, 17.14it/s]\n"
     ]
    },
    {
     "name": "stdout",
     "output_type": "stream",
     "text": [
      "Validation accuracy after 5 epochs: 0.794643\n"
     ]
    },
    {
     "name": "stderr",
     "output_type": "stream",
     "text": [
      "Train Epoch: [6/100] Loss: 0.5263: 100%|██████████| 112/112 [00:06<00:00, 17.14it/s]\n"
     ]
    },
    {
     "name": "stdout",
     "output_type": "stream",
     "text": [
      "Validation accuracy after 6 epochs: 0.794643\n"
     ]
    },
    {
     "name": "stderr",
     "output_type": "stream",
     "text": [
      "Train Epoch: [7/100] Loss: 0.4347: 100%|██████████| 112/112 [00:07<00:00, 15.34it/s]\n"
     ]
    },
    {
     "name": "stdout",
     "output_type": "stream",
     "text": [
      "Validation accuracy after 7 epochs: 0.758929\n"
     ]
    },
    {
     "name": "stderr",
     "output_type": "stream",
     "text": [
      "Train Epoch: [8/100] Loss: 0.3444: 100%|██████████| 112/112 [00:06<00:00, 17.06it/s]\n"
     ]
    },
    {
     "name": "stdout",
     "output_type": "stream",
     "text": [
      "Validation accuracy after 8 epochs: 0.741071\n"
     ]
    },
    {
     "name": "stderr",
     "output_type": "stream",
     "text": [
      "Train Epoch: [9/100] Loss: 0.4531: 100%|██████████| 112/112 [00:06<00:00, 16.84it/s]\n"
     ]
    },
    {
     "name": "stdout",
     "output_type": "stream",
     "text": [
      "Validation accuracy after 9 epochs: 0.803571\n"
     ]
    },
    {
     "name": "stderr",
     "output_type": "stream",
     "text": [
      "Train Epoch: [10/100] Loss: 0.3790: 100%|██████████| 112/112 [00:06<00:00, 17.00it/s]\n"
     ]
    },
    {
     "name": "stdout",
     "output_type": "stream",
     "text": [
      "Validation accuracy after 10 epochs: 0.758929\n"
     ]
    },
    {
     "name": "stderr",
     "output_type": "stream",
     "text": [
      "Train Epoch: [11/100] Loss: 0.3674: 100%|██████████| 112/112 [00:06<00:00, 16.95it/s]\n"
     ]
    },
    {
     "name": "stdout",
     "output_type": "stream",
     "text": [
      "Validation accuracy after 11 epochs: 0.723214\n"
     ]
    },
    {
     "name": "stderr",
     "output_type": "stream",
     "text": [
      "Train Epoch: [12/100] Loss: 0.4039: 100%|██████████| 112/112 [00:06<00:00, 16.90it/s]\n"
     ]
    },
    {
     "name": "stdout",
     "output_type": "stream",
     "text": [
      "Validation accuracy after 12 epochs: 0.732143\n"
     ]
    },
    {
     "name": "stderr",
     "output_type": "stream",
     "text": [
      "Train Epoch: [13/100] Loss: 0.3613: 100%|██████████| 112/112 [00:06<00:00, 17.23it/s]\n"
     ]
    },
    {
     "name": "stdout",
     "output_type": "stream",
     "text": [
      "Validation accuracy after 13 epochs: 0.741071\n"
     ]
    },
    {
     "name": "stderr",
     "output_type": "stream",
     "text": [
      "Train Epoch: [14/100] Loss: 0.3302: 100%|██████████| 112/112 [00:07<00:00, 15.82it/s]\n"
     ]
    },
    {
     "name": "stdout",
     "output_type": "stream",
     "text": [
      "Validation accuracy after 14 epochs: 0.767857\n"
     ]
    },
    {
     "name": "stderr",
     "output_type": "stream",
     "text": [
      "Train Epoch: [15/100] Loss: 0.3779: 100%|██████████| 112/112 [00:06<00:00, 16.88it/s]\n"
     ]
    },
    {
     "name": "stdout",
     "output_type": "stream",
     "text": [
      "Validation accuracy after 15 epochs: 0.785714\n"
     ]
    },
    {
     "name": "stderr",
     "output_type": "stream",
     "text": [
      "Train Epoch: [16/100] Loss: 0.4155: 100%|██████████| 112/112 [00:06<00:00, 16.98it/s]\n"
     ]
    },
    {
     "name": "stdout",
     "output_type": "stream",
     "text": [
      "Validation accuracy after 16 epochs: 0.812500\n"
     ]
    },
    {
     "name": "stderr",
     "output_type": "stream",
     "text": [
      "Train Epoch: [17/100] Loss: 0.3801: 100%|██████████| 112/112 [00:06<00:00, 17.04it/s]\n"
     ]
    },
    {
     "name": "stdout",
     "output_type": "stream",
     "text": [
      "Validation accuracy after 17 epochs: 0.803571\n"
     ]
    },
    {
     "name": "stderr",
     "output_type": "stream",
     "text": [
      "Train Epoch: [18/100] Loss: 0.3537: 100%|██████████| 112/112 [00:07<00:00, 15.52it/s]\n"
     ]
    },
    {
     "name": "stdout",
     "output_type": "stream",
     "text": [
      "Validation accuracy after 18 epochs: 0.758929\n"
     ]
    },
    {
     "name": "stderr",
     "output_type": "stream",
     "text": [
      "Train Epoch: [19/100] Loss: 0.2777: 100%|██████████| 112/112 [00:06<00:00, 16.95it/s]\n"
     ]
    },
    {
     "name": "stdout",
     "output_type": "stream",
     "text": [
      "Validation accuracy after 19 epochs: 0.750000\n"
     ]
    },
    {
     "name": "stderr",
     "output_type": "stream",
     "text": [
      "Train Epoch: [20/100] Loss: 0.2795: 100%|██████████| 112/112 [00:06<00:00, 17.01it/s]\n"
     ]
    },
    {
     "name": "stdout",
     "output_type": "stream",
     "text": [
      "Validation accuracy after 20 epochs: 0.750000\n"
     ]
    },
    {
     "name": "stderr",
     "output_type": "stream",
     "text": [
      "Train Epoch: [21/100] Loss: 0.2713: 100%|██████████| 112/112 [00:06<00:00, 16.80it/s]\n"
     ]
    },
    {
     "name": "stdout",
     "output_type": "stream",
     "text": [
      "Validation accuracy after 21 epochs: 0.750000\n"
     ]
    },
    {
     "name": "stderr",
     "output_type": "stream",
     "text": [
      "Train Epoch: [22/100] Loss: 0.3347: 100%|██████████| 112/112 [00:07<00:00, 15.10it/s]\n"
     ]
    },
    {
     "name": "stdout",
     "output_type": "stream",
     "text": [
      "Validation accuracy after 22 epochs: 0.785714\n"
     ]
    },
    {
     "name": "stderr",
     "output_type": "stream",
     "text": [
      "Train Epoch: [23/100] Loss: 0.3226: 100%|██████████| 112/112 [00:06<00:00, 16.75it/s]\n"
     ]
    },
    {
     "name": "stdout",
     "output_type": "stream",
     "text": [
      "Validation accuracy after 23 epochs: 0.687500\n"
     ]
    },
    {
     "name": "stderr",
     "output_type": "stream",
     "text": [
      "Train Epoch: [24/100] Loss: 0.3096: 100%|██████████| 112/112 [00:06<00:00, 16.80it/s]\n"
     ]
    },
    {
     "name": "stdout",
     "output_type": "stream",
     "text": [
      "Validation accuracy after 24 epochs: 0.767857\n"
     ]
    },
    {
     "name": "stderr",
     "output_type": "stream",
     "text": [
      "Train Epoch: [25/100] Loss: 0.3431: 100%|██████████| 112/112 [00:06<00:00, 16.77it/s]\n"
     ]
    },
    {
     "name": "stdout",
     "output_type": "stream",
     "text": [
      "Validation accuracy after 25 epochs: 0.803571\n"
     ]
    },
    {
     "name": "stderr",
     "output_type": "stream",
     "text": [
      "Train Epoch: [26/100] Loss: 0.3425: 100%|██████████| 112/112 [00:06<00:00, 16.97it/s]\n"
     ]
    },
    {
     "name": "stdout",
     "output_type": "stream",
     "text": [
      "Validation accuracy after 26 epochs: 0.741071\n"
     ]
    },
    {
     "name": "stderr",
     "output_type": "stream",
     "text": [
      "Train Epoch: [27/100] Loss: 0.2951: 100%|██████████| 112/112 [00:06<00:00, 16.66it/s]\n"
     ]
    },
    {
     "name": "stdout",
     "output_type": "stream",
     "text": [
      "Validation accuracy after 27 epochs: 0.767857\n"
     ]
    },
    {
     "name": "stderr",
     "output_type": "stream",
     "text": [
      "Train Epoch: [28/100] Loss: 0.2926: 100%|██████████| 112/112 [00:06<00:00, 16.67it/s]\n"
     ]
    },
    {
     "name": "stdout",
     "output_type": "stream",
     "text": [
      "Validation accuracy after 28 epochs: 0.785714\n"
     ]
    },
    {
     "name": "stderr",
     "output_type": "stream",
     "text": [
      "Train Epoch: [29/100] Loss: 0.3419: 100%|██████████| 112/112 [00:07<00:00, 15.43it/s]\n"
     ]
    },
    {
     "name": "stdout",
     "output_type": "stream",
     "text": [
      "Validation accuracy after 29 epochs: 0.839286\n"
     ]
    },
    {
     "name": "stderr",
     "output_type": "stream",
     "text": [
      "Train Epoch: [30/100] Loss: 0.2600: 100%|██████████| 112/112 [00:07<00:00, 15.40it/s]\n"
     ]
    },
    {
     "name": "stdout",
     "output_type": "stream",
     "text": [
      "Validation accuracy after 30 epochs: 0.812500\n"
     ]
    },
    {
     "name": "stderr",
     "output_type": "stream",
     "text": [
      "Train Epoch: [31/100] Loss: 0.2720: 100%|██████████| 112/112 [00:06<00:00, 16.53it/s]\n"
     ]
    },
    {
     "name": "stdout",
     "output_type": "stream",
     "text": [
      "Validation accuracy after 31 epochs: 0.758929\n"
     ]
    },
    {
     "name": "stderr",
     "output_type": "stream",
     "text": [
      "Train Epoch: [32/100] Loss: 0.3088: 100%|██████████| 112/112 [00:06<00:00, 16.69it/s]\n"
     ]
    },
    {
     "name": "stdout",
     "output_type": "stream",
     "text": [
      "Validation accuracy after 32 epochs: 0.776786\n"
     ]
    },
    {
     "name": "stderr",
     "output_type": "stream",
     "text": [
      "Train Epoch: [33/100] Loss: 0.2992: 100%|██████████| 112/112 [00:07<00:00, 15.30it/s]\n"
     ]
    },
    {
     "name": "stdout",
     "output_type": "stream",
     "text": [
      "Validation accuracy after 33 epochs: 0.776786\n"
     ]
    },
    {
     "name": "stderr",
     "output_type": "stream",
     "text": [
      "Train Epoch: [34/100] Loss: 0.2813: 100%|██████████| 112/112 [00:06<00:00, 16.67it/s]\n"
     ]
    },
    {
     "name": "stdout",
     "output_type": "stream",
     "text": [
      "Validation accuracy after 34 epochs: 0.821429\n"
     ]
    },
    {
     "name": "stderr",
     "output_type": "stream",
     "text": [
      "Train Epoch: [35/100] Loss: 0.3195: 100%|██████████| 112/112 [00:06<00:00, 16.61it/s]\n"
     ]
    },
    {
     "name": "stdout",
     "output_type": "stream",
     "text": [
      "Validation accuracy after 35 epochs: 0.794643\n"
     ]
    },
    {
     "name": "stderr",
     "output_type": "stream",
     "text": [
      "Train Epoch: [36/100] Loss: 0.2777: 100%|██████████| 112/112 [00:06<00:00, 16.76it/s]\n"
     ]
    },
    {
     "name": "stdout",
     "output_type": "stream",
     "text": [
      "Validation accuracy after 36 epochs: 0.821429\n"
     ]
    },
    {
     "name": "stderr",
     "output_type": "stream",
     "text": [
      "Train Epoch: [37/100] Loss: 0.2371: 100%|██████████| 112/112 [00:06<00:00, 16.11it/s]\n"
     ]
    },
    {
     "name": "stdout",
     "output_type": "stream",
     "text": [
      "Validation accuracy after 37 epochs: 0.776786\n"
     ]
    },
    {
     "name": "stderr",
     "output_type": "stream",
     "text": [
      "Train Epoch: [38/100] Loss: 0.3118: 100%|██████████| 112/112 [00:06<00:00, 17.06it/s]\n"
     ]
    },
    {
     "name": "stdout",
     "output_type": "stream",
     "text": [
      "Validation accuracy after 38 epochs: 0.776786\n"
     ]
    },
    {
     "name": "stderr",
     "output_type": "stream",
     "text": [
      "Train Epoch: [39/100] Loss: 0.3409: 100%|██████████| 112/112 [00:06<00:00, 16.60it/s]\n"
     ]
    },
    {
     "name": "stdout",
     "output_type": "stream",
     "text": [
      "Validation accuracy after 39 epochs: 0.821429\n"
     ]
    },
    {
     "name": "stderr",
     "output_type": "stream",
     "text": [
      "Train Epoch: [40/100] Loss: 0.2880: 100%|██████████| 112/112 [00:07<00:00, 15.54it/s]\n"
     ]
    },
    {
     "name": "stdout",
     "output_type": "stream",
     "text": [
      "Validation accuracy after 40 epochs: 0.794643\n"
     ]
    },
    {
     "name": "stderr",
     "output_type": "stream",
     "text": [
      "Train Epoch: [41/100] Loss: 0.2728: 100%|██████████| 112/112 [00:06<00:00, 16.62it/s]\n"
     ]
    },
    {
     "name": "stdout",
     "output_type": "stream",
     "text": [
      "Validation accuracy after 41 epochs: 0.785714\n"
     ]
    },
    {
     "name": "stderr",
     "output_type": "stream",
     "text": [
      "Train Epoch: [42/100] Loss: 0.2775: 100%|██████████| 112/112 [00:06<00:00, 16.69it/s]\n"
     ]
    },
    {
     "name": "stdout",
     "output_type": "stream",
     "text": [
      "Validation accuracy after 42 epochs: 0.821429\n"
     ]
    },
    {
     "name": "stderr",
     "output_type": "stream",
     "text": [
      "Train Epoch: [43/100] Loss: 0.2920: 100%|██████████| 112/112 [00:06<00:00, 16.61it/s]\n"
     ]
    },
    {
     "name": "stdout",
     "output_type": "stream",
     "text": [
      "Validation accuracy after 43 epochs: 0.758929\n"
     ]
    },
    {
     "name": "stderr",
     "output_type": "stream",
     "text": [
      "Train Epoch: [44/100] Loss: 0.2582: 100%|██████████| 112/112 [00:07<00:00, 14.65it/s]\n"
     ]
    },
    {
     "name": "stdout",
     "output_type": "stream",
     "text": [
      "Validation accuracy after 44 epochs: 0.830357\n"
     ]
    },
    {
     "name": "stderr",
     "output_type": "stream",
     "text": [
      "Train Epoch: [45/100] Loss: 0.3223: 100%|██████████| 112/112 [00:06<00:00, 16.61it/s]\n"
     ]
    },
    {
     "name": "stdout",
     "output_type": "stream",
     "text": [
      "Validation accuracy after 45 epochs: 0.794643\n"
     ]
    },
    {
     "name": "stderr",
     "output_type": "stream",
     "text": [
      "Train Epoch: [46/100] Loss: 0.2634: 100%|██████████| 112/112 [00:06<00:00, 16.73it/s]\n"
     ]
    },
    {
     "name": "stdout",
     "output_type": "stream",
     "text": [
      "Validation accuracy after 46 epochs: 0.812500\n"
     ]
    },
    {
     "name": "stderr",
     "output_type": "stream",
     "text": [
      "Train Epoch: [47/100] Loss: 0.2870: 100%|██████████| 112/112 [00:06<00:00, 16.78it/s]\n"
     ]
    },
    {
     "name": "stdout",
     "output_type": "stream",
     "text": [
      "Validation accuracy after 47 epochs: 0.776786\n"
     ]
    },
    {
     "name": "stderr",
     "output_type": "stream",
     "text": [
      "Train Epoch: [48/100] Loss: 0.2780: 100%|██████████| 112/112 [00:07<00:00, 15.12it/s]\n"
     ]
    },
    {
     "name": "stdout",
     "output_type": "stream",
     "text": [
      "Validation accuracy after 48 epochs: 0.767857\n"
     ]
    },
    {
     "name": "stderr",
     "output_type": "stream",
     "text": [
      "Train Epoch: [49/100] Loss: 0.2631: 100%|██████████| 112/112 [00:06<00:00, 16.89it/s]\n"
     ]
    },
    {
     "name": "stdout",
     "output_type": "stream",
     "text": [
      "Validation accuracy after 49 epochs: 0.794643\n"
     ]
    },
    {
     "name": "stderr",
     "output_type": "stream",
     "text": [
      "Train Epoch: [50/100] Loss: 0.2933: 100%|██████████| 112/112 [00:06<00:00, 16.57it/s]\n"
     ]
    },
    {
     "name": "stdout",
     "output_type": "stream",
     "text": [
      "Validation accuracy after 50 epochs: 0.758929\n"
     ]
    },
    {
     "name": "stderr",
     "output_type": "stream",
     "text": [
      "Train Epoch: [51/100] Loss: 0.3444: 100%|██████████| 112/112 [00:06<00:00, 16.10it/s]\n"
     ]
    },
    {
     "name": "stdout",
     "output_type": "stream",
     "text": [
      "Validation accuracy after 51 epochs: 0.758929\n"
     ]
    },
    {
     "name": "stderr",
     "output_type": "stream",
     "text": [
      "Train Epoch: [52/100] Loss: 0.3139: 100%|██████████| 112/112 [00:06<00:00, 17.13it/s]\n"
     ]
    },
    {
     "name": "stdout",
     "output_type": "stream",
     "text": [
      "Validation accuracy after 52 epochs: 0.723214\n"
     ]
    },
    {
     "name": "stderr",
     "output_type": "stream",
     "text": [
      "Train Epoch: [53/100] Loss: 0.3111: 100%|██████████| 112/112 [00:06<00:00, 17.19it/s]\n"
     ]
    },
    {
     "name": "stdout",
     "output_type": "stream",
     "text": [
      "Validation accuracy after 53 epochs: 0.839286\n"
     ]
    },
    {
     "name": "stderr",
     "output_type": "stream",
     "text": [
      "Train Epoch: [54/100] Loss: 0.2843: 100%|██████████| 112/112 [00:06<00:00, 17.27it/s]\n"
     ]
    },
    {
     "name": "stdout",
     "output_type": "stream",
     "text": [
      "Validation accuracy after 54 epochs: 0.812500\n"
     ]
    },
    {
     "name": "stderr",
     "output_type": "stream",
     "text": [
      "Train Epoch: [55/100] Loss: 0.2805: 100%|██████████| 112/112 [00:07<00:00, 15.64it/s]\n"
     ]
    },
    {
     "name": "stdout",
     "output_type": "stream",
     "text": [
      "Validation accuracy after 55 epochs: 0.785714\n"
     ]
    },
    {
     "name": "stderr",
     "output_type": "stream",
     "text": [
      "Train Epoch: [56/100] Loss: 0.2655: 100%|██████████| 112/112 [00:06<00:00, 17.08it/s]\n"
     ]
    },
    {
     "name": "stdout",
     "output_type": "stream",
     "text": [
      "Validation accuracy after 56 epochs: 0.776786\n"
     ]
    },
    {
     "name": "stderr",
     "output_type": "stream",
     "text": [
      "Train Epoch: [57/100] Loss: 0.2914: 100%|██████████| 112/112 [00:06<00:00, 16.96it/s]\n"
     ]
    },
    {
     "name": "stdout",
     "output_type": "stream",
     "text": [
      "Validation accuracy after 57 epochs: 0.821429\n"
     ]
    },
    {
     "name": "stderr",
     "output_type": "stream",
     "text": [
      "Train Epoch: [58/100] Loss: 0.2803: 100%|██████████| 112/112 [00:06<00:00, 16.76it/s]\n"
     ]
    },
    {
     "name": "stdout",
     "output_type": "stream",
     "text": [
      "Validation accuracy after 58 epochs: 0.750000\n"
     ]
    },
    {
     "name": "stderr",
     "output_type": "stream",
     "text": [
      "Train Epoch: [59/100] Loss: 0.2738: 100%|██████████| 112/112 [00:07<00:00, 14.72it/s]\n"
     ]
    },
    {
     "name": "stdout",
     "output_type": "stream",
     "text": [
      "Validation accuracy after 59 epochs: 0.812500\n"
     ]
    },
    {
     "name": "stderr",
     "output_type": "stream",
     "text": [
      "Train Epoch: [60/100] Loss: 0.2878: 100%|██████████| 112/112 [00:06<00:00, 17.01it/s]\n"
     ]
    },
    {
     "name": "stdout",
     "output_type": "stream",
     "text": [
      "Validation accuracy after 60 epochs: 0.758929\n"
     ]
    },
    {
     "name": "stderr",
     "output_type": "stream",
     "text": [
      "Train Epoch: [61/100] Loss: 0.2649: 100%|██████████| 112/112 [00:06<00:00, 17.18it/s]\n"
     ]
    },
    {
     "name": "stdout",
     "output_type": "stream",
     "text": [
      "Validation accuracy after 61 epochs: 0.750000\n"
     ]
    },
    {
     "name": "stderr",
     "output_type": "stream",
     "text": [
      "Train Epoch: [62/100] Loss: 0.2692: 100%|██████████| 112/112 [00:06<00:00, 17.05it/s]\n"
     ]
    },
    {
     "name": "stdout",
     "output_type": "stream",
     "text": [
      "Validation accuracy after 62 epochs: 0.812500\n"
     ]
    },
    {
     "name": "stderr",
     "output_type": "stream",
     "text": [
      "Train Epoch: [63/100] Loss: 0.2878: 100%|██████████| 112/112 [00:07<00:00, 15.36it/s]\n"
     ]
    },
    {
     "name": "stdout",
     "output_type": "stream",
     "text": [
      "Validation accuracy after 63 epochs: 0.785714\n"
     ]
    },
    {
     "name": "stderr",
     "output_type": "stream",
     "text": [
      "Train Epoch: [64/100] Loss: 0.2939: 100%|██████████| 112/112 [00:06<00:00, 16.93it/s]\n"
     ]
    },
    {
     "name": "stdout",
     "output_type": "stream",
     "text": [
      "Validation accuracy after 64 epochs: 0.821429\n"
     ]
    },
    {
     "name": "stderr",
     "output_type": "stream",
     "text": [
      "Train Epoch: [65/100] Loss: 0.2292: 100%|██████████| 112/112 [00:06<00:00, 17.17it/s]\n"
     ]
    },
    {
     "name": "stdout",
     "output_type": "stream",
     "text": [
      "Validation accuracy after 65 epochs: 0.812500\n"
     ]
    },
    {
     "name": "stderr",
     "output_type": "stream",
     "text": [
      "Train Epoch: [66/100] Loss: 0.2433: 100%|██████████| 112/112 [00:06<00:00, 17.24it/s]\n"
     ]
    },
    {
     "name": "stdout",
     "output_type": "stream",
     "text": [
      "Validation accuracy after 66 epochs: 0.776786\n"
     ]
    },
    {
     "name": "stderr",
     "output_type": "stream",
     "text": [
      "Train Epoch: [67/100] Loss: 0.2790: 100%|██████████| 112/112 [00:06<00:00, 17.16it/s]\n"
     ]
    },
    {
     "name": "stdout",
     "output_type": "stream",
     "text": [
      "Validation accuracy after 67 epochs: 0.848214\n"
     ]
    },
    {
     "name": "stderr",
     "output_type": "stream",
     "text": [
      "Train Epoch: [68/100] Loss: 0.2255: 100%|██████████| 112/112 [00:06<00:00, 17.04it/s]\n"
     ]
    },
    {
     "name": "stdout",
     "output_type": "stream",
     "text": [
      "Validation accuracy after 68 epochs: 0.812500\n"
     ]
    },
    {
     "name": "stderr",
     "output_type": "stream",
     "text": [
      "Train Epoch: [69/100] Loss: 0.2208: 100%|██████████| 112/112 [00:06<00:00, 17.08it/s]\n"
     ]
    },
    {
     "name": "stdout",
     "output_type": "stream",
     "text": [
      "Validation accuracy after 69 epochs: 0.794643\n"
     ]
    },
    {
     "name": "stderr",
     "output_type": "stream",
     "text": [
      "Train Epoch: [70/100] Loss: 0.2234: 100%|██████████| 112/112 [00:07<00:00, 15.94it/s]\n"
     ]
    },
    {
     "name": "stdout",
     "output_type": "stream",
     "text": [
      "Validation accuracy after 70 epochs: 0.794643\n"
     ]
    },
    {
     "name": "stderr",
     "output_type": "stream",
     "text": [
      "Train Epoch: [71/100] Loss: 0.2476: 100%|██████████| 112/112 [00:06<00:00, 17.02it/s]\n"
     ]
    },
    {
     "name": "stdout",
     "output_type": "stream",
     "text": [
      "Validation accuracy after 71 epochs: 0.839286\n"
     ]
    },
    {
     "name": "stderr",
     "output_type": "stream",
     "text": [
      "Train Epoch: [72/100] Loss: 0.2291: 100%|██████████| 112/112 [00:06<00:00, 17.23it/s]\n"
     ]
    },
    {
     "name": "stdout",
     "output_type": "stream",
     "text": [
      "Validation accuracy after 72 epochs: 0.821429\n"
     ]
    },
    {
     "name": "stderr",
     "output_type": "stream",
     "text": [
      "Train Epoch: [73/100] Loss: 0.1795: 100%|██████████| 112/112 [00:06<00:00, 16.47it/s]\n"
     ]
    },
    {
     "name": "stdout",
     "output_type": "stream",
     "text": [
      "Validation accuracy after 73 epochs: 0.758929\n"
     ]
    },
    {
     "name": "stderr",
     "output_type": "stream",
     "text": [
      "Train Epoch: [74/100] Loss: 0.2067: 100%|██████████| 112/112 [00:07<00:00, 15.54it/s]\n"
     ]
    },
    {
     "name": "stdout",
     "output_type": "stream",
     "text": [
      "Validation accuracy after 74 epochs: 0.767857\n"
     ]
    },
    {
     "name": "stderr",
     "output_type": "stream",
     "text": [
      "Train Epoch: [75/100] Loss: 0.2341: 100%|██████████| 112/112 [00:06<00:00, 17.03it/s]\n"
     ]
    },
    {
     "name": "stdout",
     "output_type": "stream",
     "text": [
      "Validation accuracy after 75 epochs: 0.758929\n"
     ]
    },
    {
     "name": "stderr",
     "output_type": "stream",
     "text": [
      "Train Epoch: [76/100] Loss: 0.2408: 100%|██████████| 112/112 [00:06<00:00, 17.08it/s]\n"
     ]
    },
    {
     "name": "stdout",
     "output_type": "stream",
     "text": [
      "Validation accuracy after 76 epochs: 0.758929\n"
     ]
    },
    {
     "name": "stderr",
     "output_type": "stream",
     "text": [
      "Train Epoch: [77/100] Loss: 0.2366: 100%|██████████| 112/112 [00:06<00:00, 16.99it/s]\n"
     ]
    },
    {
     "name": "stdout",
     "output_type": "stream",
     "text": [
      "Validation accuracy after 77 epochs: 0.794643\n"
     ]
    },
    {
     "name": "stderr",
     "output_type": "stream",
     "text": [
      "Train Epoch: [78/100] Loss: 0.2201: 100%|██████████| 112/112 [00:07<00:00, 15.66it/s]\n"
     ]
    },
    {
     "name": "stdout",
     "output_type": "stream",
     "text": [
      "Validation accuracy after 78 epochs: 0.767857\n"
     ]
    },
    {
     "name": "stderr",
     "output_type": "stream",
     "text": [
      "Train Epoch: [79/100] Loss: 0.2264: 100%|██████████| 112/112 [00:06<00:00, 17.15it/s]\n"
     ]
    },
    {
     "name": "stdout",
     "output_type": "stream",
     "text": [
      "Validation accuracy after 79 epochs: 0.785714\n"
     ]
    },
    {
     "name": "stderr",
     "output_type": "stream",
     "text": [
      "Train Epoch: [80/100] Loss: 0.2265: 100%|██████████| 112/112 [00:06<00:00, 16.99it/s]\n"
     ]
    },
    {
     "name": "stdout",
     "output_type": "stream",
     "text": [
      "Validation accuracy after 80 epochs: 0.758929\n"
     ]
    },
    {
     "name": "stderr",
     "output_type": "stream",
     "text": [
      "Train Epoch: [81/100] Loss: 0.2657: 100%|██████████| 112/112 [00:06<00:00, 16.98it/s]\n"
     ]
    },
    {
     "name": "stdout",
     "output_type": "stream",
     "text": [
      "Validation accuracy after 81 epochs: 0.848214\n"
     ]
    },
    {
     "name": "stderr",
     "output_type": "stream",
     "text": [
      "Train Epoch: [82/100] Loss: 0.2679: 100%|██████████| 112/112 [00:07<00:00, 15.57it/s]\n"
     ]
    },
    {
     "name": "stdout",
     "output_type": "stream",
     "text": [
      "Validation accuracy after 82 epochs: 0.750000\n"
     ]
    },
    {
     "name": "stderr",
     "output_type": "stream",
     "text": [
      "Train Epoch: [83/100] Loss: 0.3249: 100%|██████████| 112/112 [00:06<00:00, 17.13it/s]\n"
     ]
    },
    {
     "name": "stdout",
     "output_type": "stream",
     "text": [
      "Validation accuracy after 83 epochs: 0.741071\n"
     ]
    },
    {
     "name": "stderr",
     "output_type": "stream",
     "text": [
      "Train Epoch: [84/100] Loss: 0.2893: 100%|██████████| 112/112 [00:06<00:00, 17.25it/s]\n"
     ]
    },
    {
     "name": "stdout",
     "output_type": "stream",
     "text": [
      "Validation accuracy after 84 epochs: 0.794643\n"
     ]
    },
    {
     "name": "stderr",
     "output_type": "stream",
     "text": [
      "Train Epoch: [85/100] Loss: 0.2123: 100%|██████████| 112/112 [00:06<00:00, 16.08it/s]\n"
     ]
    },
    {
     "name": "stdout",
     "output_type": "stream",
     "text": [
      "Validation accuracy after 85 epochs: 0.803571\n"
     ]
    },
    {
     "name": "stderr",
     "output_type": "stream",
     "text": [
      "Train Epoch: [86/100] Loss: 0.2090: 100%|██████████| 112/112 [00:06<00:00, 17.22it/s]\n"
     ]
    },
    {
     "name": "stdout",
     "output_type": "stream",
     "text": [
      "Validation accuracy after 86 epochs: 0.732143\n"
     ]
    },
    {
     "name": "stderr",
     "output_type": "stream",
     "text": [
      "Train Epoch: [87/100] Loss: 0.2559: 100%|██████████| 112/112 [00:06<00:00, 16.25it/s]\n"
     ]
    },
    {
     "name": "stdout",
     "output_type": "stream",
     "text": [
      "Validation accuracy after 87 epochs: 0.812500\n"
     ]
    },
    {
     "name": "stderr",
     "output_type": "stream",
     "text": [
      "Train Epoch: [88/100] Loss: 0.2558: 100%|██████████| 112/112 [00:06<00:00, 16.86it/s]\n"
     ]
    },
    {
     "name": "stdout",
     "output_type": "stream",
     "text": [
      "Validation accuracy after 88 epochs: 0.741071\n"
     ]
    },
    {
     "name": "stderr",
     "output_type": "stream",
     "text": [
      "Train Epoch: [89/100] Loss: 0.1875: 100%|██████████| 112/112 [00:07<00:00, 15.59it/s]\n"
     ]
    },
    {
     "name": "stdout",
     "output_type": "stream",
     "text": [
      "Validation accuracy after 89 epochs: 0.785714\n"
     ]
    },
    {
     "name": "stderr",
     "output_type": "stream",
     "text": [
      "Train Epoch: [90/100] Loss: 0.2573: 100%|██████████| 112/112 [00:06<00:00, 17.05it/s]\n"
     ]
    },
    {
     "name": "stdout",
     "output_type": "stream",
     "text": [
      "Validation accuracy after 90 epochs: 0.821429\n"
     ]
    },
    {
     "name": "stderr",
     "output_type": "stream",
     "text": [
      "Train Epoch: [91/100] Loss: 0.2742: 100%|██████████| 112/112 [00:06<00:00, 17.21it/s]\n"
     ]
    },
    {
     "name": "stdout",
     "output_type": "stream",
     "text": [
      "Validation accuracy after 91 epochs: 0.723214\n"
     ]
    },
    {
     "name": "stderr",
     "output_type": "stream",
     "text": [
      "Train Epoch: [92/100] Loss: 0.2482: 100%|██████████| 112/112 [00:06<00:00, 17.26it/s]\n"
     ]
    },
    {
     "name": "stdout",
     "output_type": "stream",
     "text": [
      "Validation accuracy after 92 epochs: 0.776786\n"
     ]
    },
    {
     "name": "stderr",
     "output_type": "stream",
     "text": [
      "Train Epoch: [93/100] Loss: 0.2459: 100%|██████████| 112/112 [00:07<00:00, 15.59it/s]\n"
     ]
    },
    {
     "name": "stdout",
     "output_type": "stream",
     "text": [
      "Validation accuracy after 93 epochs: 0.794643\n"
     ]
    },
    {
     "name": "stderr",
     "output_type": "stream",
     "text": [
      "Train Epoch: [94/100] Loss: 0.2593: 100%|██████████| 112/112 [00:06<00:00, 17.05it/s]\n"
     ]
    },
    {
     "name": "stdout",
     "output_type": "stream",
     "text": [
      "Validation accuracy after 94 epochs: 0.803571\n"
     ]
    },
    {
     "name": "stderr",
     "output_type": "stream",
     "text": [
      "Train Epoch: [95/100] Loss: 0.2184: 100%|██████████| 112/112 [00:06<00:00, 17.01it/s]\n"
     ]
    },
    {
     "name": "stdout",
     "output_type": "stream",
     "text": [
      "Validation accuracy after 95 epochs: 0.767857\n"
     ]
    },
    {
     "name": "stderr",
     "output_type": "stream",
     "text": [
      "Train Epoch: [96/100] Loss: 0.2499: 100%|██████████| 112/112 [00:06<00:00, 17.06it/s]\n"
     ]
    },
    {
     "name": "stdout",
     "output_type": "stream",
     "text": [
      "Validation accuracy after 96 epochs: 0.767857\n"
     ]
    },
    {
     "name": "stderr",
     "output_type": "stream",
     "text": [
      "Train Epoch: [97/100] Loss: 0.1929: 100%|██████████| 112/112 [00:07<00:00, 15.75it/s]\n"
     ]
    },
    {
     "name": "stdout",
     "output_type": "stream",
     "text": [
      "Validation accuracy after 97 epochs: 0.821429\n"
     ]
    },
    {
     "name": "stderr",
     "output_type": "stream",
     "text": [
      "Train Epoch: [98/100] Loss: 0.2994: 100%|██████████| 112/112 [00:06<00:00, 17.09it/s]\n"
     ]
    },
    {
     "name": "stdout",
     "output_type": "stream",
     "text": [
      "Validation accuracy after 98 epochs: 0.812500\n"
     ]
    },
    {
     "name": "stderr",
     "output_type": "stream",
     "text": [
      "Train Epoch: [99/100] Loss: 0.2739: 100%|██████████| 112/112 [00:06<00:00, 17.04it/s]\n"
     ]
    },
    {
     "name": "stdout",
     "output_type": "stream",
     "text": [
      "Validation accuracy after 99 epochs: 0.848214\n"
     ]
    },
    {
     "name": "stderr",
     "output_type": "stream",
     "text": [
      "Train Epoch: [100/100] Loss: 0.2020: 100%|██████████| 112/112 [00:06<00:00, 17.13it/s]\n"
     ]
    },
    {
     "name": "stdout",
     "output_type": "stream",
     "text": [
      "Validation accuracy after 100 epochs: 0.794643\n",
      "==> Final Validation accuracy: 0.848214\n"
     ]
    }
   ],
   "source": [
    "device = torch.device('cuda' if torch.cuda.is_available() else 'cpu')\n",
    "\n",
    "mean = np.array([0.485, 0.456, 0.406])\n",
    "std = np.array([0.229, 0.224, 0.225])\n",
    "\n",
    "transformations = {\n",
    "    'train' : transforms.Compose([\n",
    "        transforms.Resize(224),\n",
    "        # transforms.RandomAffine(degrees=(-180,180), translate=(0.1,0.1), scale=(0.9,1.1), shear=(-5,5)),\n",
    "        transforms.RandomApply([transforms.ColorJitter(0.4, 0.4, 0.4, 0.1)], p=0.8),\n",
    "        transforms.RandomGrayscale(p=0.2),\n",
    "        transforms.ToTensor(),\n",
    "        transforms.Normalize(mean, std)\n",
    "    ]),\n",
    "    'val' : transforms.Compose([\n",
    "        transforms.Resize(224),\n",
    "        transforms.ToTensor(),\n",
    "        transforms.Normalize(mean, std)\n",
    "    ])\n",
    "}\n",
    "\n",
    "traindata, valdata = TuftsDataset(tufts_train, transformations['train']), TuftsDataset(tufts_test, transformations['val'])\n",
    "print(len(traindata), len(valdata))\n",
    "\n",
    "# cls2idx = traindata.class_to_idx\n",
    "cls2idx = {0:'Neutral', 1:'Smile', 2:'Sleepy', 3:'Shock', 4:'Sun_Glasses'}\n",
    "\n",
    "# hyperparams\n",
    "bs = 4\n",
    "lr = 0.0002\n",
    "n_classes = len(cls2idx)\n",
    "n_epochs = 100\n",
    "MODEL = 'efficientnet'\n",
    "OPTI = \"Adam\"\n",
    "LOSS = 'CE'\n",
    "DATA = 'tufts'\n",
    "\n",
    "trainloader, valloader = DataLoader(traindata, batch_size=bs, shuffle=True, num_workers=16), DataLoader(valdata, batch_size=bs, shuffle=False, num_workers=16) #, DataLoader(testdata, batch_size=bs, shuffle=False, num_workers=16)\n",
    "print(len(trainloader), len(valloader))\n",
    "\n",
    "model = torchvision.models.efficientnet_b0(pretrained=True)\n",
    "model.classifier = nn.Linear(1280, n_classes)\n",
    "model.to(device)\n",
    "\n",
    "lossfun = nn.CrossEntropyLoss()\n",
    "optimizer = torch.optim.Adam(model.parameters(), lr)\n",
    "\n",
    "best_acc, best_wts = 0.0, copy.deepcopy(model.state_dict())\n",
    "for epoch in range(1, n_epochs+1):\n",
    "    model.load_state_dict(best_wts)\n",
    "    # training\n",
    "    model.train()\n",
    "    total_loss, total_num, train_bar = 0.0, 0, tqdm(trainloader)\n",
    "    for data, targets in train_bar:\n",
    "        outputs = model(data.to(device))\n",
    "        loss = lossfun(outputs, targets.to(device))\n",
    "        optimizer.zero_grad()\n",
    "        loss.backward()\n",
    "        optimizer.step()\n",
    "        total_num += bs\n",
    "        total_loss += loss.item() * bs\n",
    "        train_bar.set_description('Train Epoch: [{}/{}] Loss: {:.4f}'.format(epoch, n_epochs, total_loss / total_num))\n",
    "#     scheduler.step()\n",
    "    # validation\n",
    "    model.eval()\n",
    "    n_samples, n_corrects, val_accs = 0, 0, []\n",
    "    for data, targets in valloader:\n",
    "        with torch.no_grad():\n",
    "            outputs = model(data.to(device))\n",
    "            batch_acc = accuracy_score(targets.numpy(), torch.argmax(F.softmax(outputs, dim=1), dim=1).cpu().detach().numpy())\n",
    "            val_accs.append(batch_acc)\n",
    "    accuracy = torch.tensor(val_accs).mean()\n",
    "    print(f'Validation accuracy after {epoch} epochs: {accuracy:.6f}')\n",
    "    # updating model after validation\n",
    "    if accuracy >= best_acc:\n",
    "        best_acc = accuracy\n",
    "        best_wts = copy.deepcopy(model.state_dict())\n",
    "        torch.save(model.state_dict(), f'{DATA}-{MODEL}_{lr}_{OPTI}_{LOSS}.pth')\n",
    "    \n",
    "\n",
    "print(f'==> Final Validation accuracy: {best_acc:.6f}')"
   ]
  },
  {
   "cell_type": "code",
   "execution_count": 12,
   "metadata": {
    "execution": {
     "iopub.execute_input": "2023-07-24T17:08:06.571889Z",
     "iopub.status.busy": "2023-07-24T17:08:06.569022Z",
     "iopub.status.idle": "2023-07-24T17:08:12.440743Z",
     "shell.execute_reply": "2023-07-24T17:08:12.439527Z",
     "shell.execute_reply.started": "2023-07-24T17:08:06.571845Z"
    }
   },
   "outputs": [
    {
     "name": "stdout",
     "output_type": "stream",
     "text": [
      "(446, 1280) (446,) (112, 1280) (112,)\n"
     ]
    }
   ],
   "source": [
    "model.load_state_dict(best_wts)\n",
    "model.classifier = nn.Identity()\n",
    "\n",
    "X_train, y_train, X_val, y_val, X_test, y_test = [], [], [], [], [], []\n",
    "with torch.no_grad():\n",
    "    for data, targets in trainloader:\n",
    "        feature = model(data.to(device))\n",
    "        X_train.append(feature)\n",
    "        y_train.append(targets)\n",
    "    X_train, y_train = torch.cat(X_train, dim=0).contiguous().cpu().numpy(), torch.cat(y_train, dim=0).contiguous().numpy()\n",
    "    for data, targets in valloader:\n",
    "        feature = model(data.to(device))\n",
    "        X_test.append(feature)\n",
    "        y_test.append(targets)\n",
    "    X_test, y_test = torch.cat(X_test, dim=0).contiguous().cpu().numpy(), torch.cat(y_test, dim=0).contiguous().numpy()\n",
    "    \n",
    "print(X_train.shape, y_train.shape, X_test.shape, y_test.shape)"
   ]
  },
  {
   "cell_type": "code",
   "execution_count": 3,
   "metadata": {
    "execution": {
     "iopub.execute_input": "2023-07-30T22:37:16.272148Z",
     "iopub.status.busy": "2023-07-30T22:37:16.267123Z",
     "iopub.status.idle": "2023-07-30T22:37:16.970901Z",
     "shell.execute_reply": "2023-07-30T22:37:16.969066Z",
     "shell.execute_reply.started": "2023-07-30T22:37:16.271957Z"
    }
   },
   "outputs": [
    {
     "name": "stdout",
     "output_type": "stream",
     "text": [
      "(784, 1280) (784,) (197, 1280) (197,)\n"
     ]
    }
   ],
   "source": [
    "jaffe_train, jaffe_test = pd.read_csv('D:/Vedanth/Major-Project/ckplus-efficientnet_0.0005_Adam_CE-Train.csv'), pd.read_csv('D:/Vedanth/Major-Project/ckplus-efficientnet_0.0005_Adam_CE-Val.csv')\n",
    "X_train = np.array(jaffe_train.iloc[:,0:(jaffe_train.shape[1]-1)].copy())\n",
    "y_train = np.array(jaffe_train['label'].copy())\n",
    "X_test = np.array(jaffe_test.iloc[:,0:(jaffe_test.shape[1]-1)].copy())\n",
    "y_test = np.array(jaffe_test['label'].copy())\n",
    "\n",
    "print(X_train.shape, y_train.shape, X_test.shape, y_test.shape)"
   ]
  },
  {
   "cell_type": "code",
   "execution_count": 76,
   "metadata": {
    "execution": {
     "iopub.execute_input": "2023-07-30T00:09:26.043877Z",
     "iopub.status.busy": "2023-07-30T00:09:26.043462Z",
     "iopub.status.idle": "2023-07-30T00:09:26.058626Z",
     "shell.execute_reply": "2023-07-30T00:09:26.056219Z",
     "shell.execute_reply.started": "2023-07-30T00:09:26.043842Z"
    }
   },
   "outputs": [
    {
     "name": "stdout",
     "output_type": "stream",
     "text": [
      "{'ANGRY': 0, 'FEAR': 1, 'HAPPY': 2, 'NEUTRAL': 3, 'SAD': 4, 'SURPRISE': 5, 'disgust': 6}\n"
     ]
    }
   ],
   "source": [
    "classes sorted(entry.name for entry in os.scandir('/D:/Vedanth/Major-Project/input/jaffe10/jaffe10test/jaffedbase/train') if entry.is_dir())\n",
    "class_to_idx = {cls_name: i for i, cls_name in enumerate(classes)}\n",
    "print(class_to_idx)"
   ]
  },
  {
   "cell_type": "code",
   "execution_count": 1,
   "metadata": {
    "collapsed": true,
    "execution": {
     "iopub.execute_input": "2023-07-30T16:06:32.058567Z",
     "iopub.status.busy": "2023-07-30T16:06:32.057995Z",
     "iopub.status.idle": "2023-07-30T21:45:08.002889Z",
     "shell.execute_reply": "2023-07-30T21:45:07.999534Z",
     "shell.execute_reply.started": "2023-07-30T16:06:32.058522Z"
    },
    "jupyter": {
     "outputs_hidden": true
    }
   },
   "outputs": [
    {
     "ename": "KeyboardInterrupt",
     "evalue": "",
     "output_type": "error",
     "traceback": [
      "\u001b[0;31m---------------------------------------------------------------------------\u001b[0m",
      "\u001b[0;31mKeyboardInterrupt\u001b[0m                         Traceback (most recent call last)",
      "Cell \u001b[0;32mIn[1], line 1\u001b[0m\n\u001b[0;32m----> 1\u001b[0m \u001b[38;5;28;01mwhile\u001b[39;00m \u001b[38;5;28;01mTrue\u001b[39;00m:\u001b[38;5;28;01mpass\u001b[39;00m\n",
      "\u001b[0;31mKeyboardInterrupt\u001b[0m: "
     ]
    }
   ],
   "source": [
    "while True:pass"
   ]
  },
  {
   "cell_type": "code",
   "execution_count": 108,
   "metadata": {
    "execution": {
     "iopub.execute_input": "2023-07-30T00:47:49.113181Z",
     "iopub.status.busy": "2023-07-30T00:47:49.112802Z",
     "iopub.status.idle": "2023-07-30T00:47:49.429323Z",
     "shell.execute_reply": "2023-07-30T00:47:49.427764Z",
     "shell.execute_reply.started": "2023-07-30T00:47:49.113148Z"
    }
   },
   "outputs": [
    {
     "name": "stdout",
     "output_type": "stream",
     "text": [
      "Classification with KNN classifier on raw features\n",
      " --------------------------------------------------\n",
      "              precision    recall  f1-score   support\n",
      "\n",
      "           0     1.0000    1.0000    1.0000        41\n",
      "           1     1.0000    1.0000    1.0000        17\n",
      "           2     1.0000    1.0000    1.0000        21\n",
      "           3     1.0000    1.0000    1.0000        31\n",
      "           4     1.0000    0.6667    0.8000        12\n",
      "           5     0.9167    1.0000    0.9565        44\n",
      "           6     1.0000    1.0000    1.0000        31\n",
      "\n",
      "    accuracy                         0.9797       197\n",
      "   macro avg     0.9881    0.9524    0.9652       197\n",
      "weighted avg     0.9814    0.9797    0.9781       197\n",
      "\n"
     ]
    },
    {
     "data": {
      "image/png": "[encoded data removed]",
      "text/plain": [
       "<Figure size 640x480 with 2 Axes>"
      ]
     },
     "metadata": {},
     "output_type": "display_data"
    }
   ],
   "source": [
    "from sklearn.neighbors import KNeighborsClassifier as KNN\n",
    "from sklearn.svm import SVC as SVM\n",
    "from sklearn.neural_network import MLPClassifier as MLP\n",
    "from sklearn.metrics import classification_report, confusion_matrix, ConfusionMatrixDisplay\n",
    "\n",
    "clf = KNN(n_neighbors=100)\n",
    "clf.fit(X_train, y_train)\n",
    "y_preds = clf.predict(X_test)\n",
    "print('Classification with KNN classifier on raw features\\n', '-'*50)\n",
    "print(classification_report(y_test, y_preds, digits=4))\n",
    "ConfusionMatrixDisplay(confusion_matrix(y_test, y_preds)).plot()\n",
    "plt.show()"
   ]
  },
  {
   "cell_type": "markdown",
   "metadata": {},
   "source": [
    "## Filter methods"
   ]
  },
  {
   "cell_type": "code",
   "execution_count": 49,
   "metadata": {
    "execution": {
     "iopub.execute_input": "2023-07-29T23:53:00.319700Z",
     "iopub.status.busy": "2023-07-29T23:53:00.319181Z",
     "iopub.status.idle": "2023-07-29T23:53:00.329205Z",
     "shell.execute_reply": "2023-07-29T23:53:00.327211Z",
     "shell.execute_reply.started": "2023-07-29T23:53:00.319656Z"
    }
   },
   "outputs": [],
   "source": [
    "def normalize(vector, lb=0, ub=1):\n",
    "    # function to normalize a numpy vector in [lb, ub]\n",
    "    norm_vector = np.zeros(vector.shape[0])\n",
    "    maximum = max(vector)\n",
    "    minimum = min(vector)\n",
    "    norm_vector = lb + ((vector - minimum)/(maximum - minimum)) * (ub - lb)\n",
    "\n",
    "    return norm_vector\n",
    "\n",
    "class Result():\n",
    "    # structure of the result\n",
    "    def __init__(self):\n",
    "        self.ranks = None\n",
    "        self.scores = None\n",
    "        self.features = None\n",
    "        self.ranked_features = None "
   ]
  },
  {
   "cell_type": "code",
   "execution_count": 50,
   "metadata": {
    "execution": {
     "iopub.execute_input": "2023-07-29T23:53:01.209736Z",
     "iopub.status.busy": "2023-07-29T23:53:01.207857Z",
     "iopub.status.idle": "2023-07-29T23:53:01.301326Z",
     "shell.execute_reply": "2023-07-29T23:53:01.299382Z",
     "shell.execute_reply.started": "2023-07-29T23:53:01.209676Z"
    }
   },
   "outputs": [],
   "source": [
    "### Filter method functions ###\n",
    "from sklearn.feature_selection import chi2, mutual_info_classif\n",
    "\n",
    "def FisherScore(data,target):\n",
    "    mean = np.mean(data)\n",
    "    sigma = np.var(data)\n",
    "    unique = np.unique(target)\n",
    "    mu = np.zeros(shape=(data.shape[1],unique.shape[0]))\n",
    "    n = np.zeros(shape=(unique.shape[0],))\n",
    "    var = np.zeros(shape=(data.shape[1],unique.shape[0]))\n",
    "    for j in range(data.shape[1]):\n",
    "        for i,u in enumerate(unique):\n",
    "            d = data[np.where(target==u)[0]]\n",
    "            n[i] = d.shape[0]\n",
    "            mu[j,i] = np.mean(d[j])\n",
    "            var[j,i] = np.var(d[j])\n",
    "    fisher = np.zeros(data.shape[1])\n",
    "    for j in range(data.shape[1]):\n",
    "        sum1=0\n",
    "        sum2=0\n",
    "        for i,u in enumerate(unique):\n",
    "            sum1+=n[i]*((mu[j,i]-mean)**2)\n",
    "            sum2+=n[i]*var[j,i]\n",
    "        fisher[j] = sum1/sum2\n",
    "    feature_values = np.array(data)\n",
    "    result = Result()\n",
    "    result.features = feature_values\n",
    "    result.scores = fisher\n",
    "    result.ranks = np.argsort(np.argsort(fisher))\n",
    "    result.ranked_features = feature_values[:, result.ranks]\n",
    "    return result\n",
    "\n",
    "\n",
    "def DispersionRatio(data,target):\n",
    "    data[np.where(data==0)[0]] = 1\n",
    "    var = np.var(data,axis=0)\n",
    "    mean = np.mean(data,axis=0)\n",
    "    disp_ratio = var/mean\n",
    "    feature_values = np.array(data)\n",
    "    result = Result()\n",
    "    result.features = feature_values\n",
    "    result.scores = disp_ratio\n",
    "    result.ranks = np.argsort(np.argsort(disp_ratio))\n",
    "    result.ranked_features = feature_values[:, result.ranks]\n",
    "    return result\n",
    "\n",
    "\n",
    "def PasiLuukka(in_data, target, measure = 'luca', p = 1):\n",
    "    d = pd.DataFrame(in_data)\n",
    "    t = pd.DataFrame(target)\n",
    "    data = pd.concat([d,t],axis=1)\n",
    "    \n",
    "    # Feature selection method using similarity measure and fuzzy entropy \n",
    "    # measures based on the article:\n",
    "    # P. Luukka, (2011) Feature Selection Using Fuzzy Entropy Measures with\n",
    "    # Similarity Classifier, Expert Systems with Applications, 38, pp. 4600-4607\n",
    "\n",
    "    l = int(max(data.iloc[:,-1]))\n",
    "    m = data.shape[0]\n",
    "    t = data.shape[1]-1\n",
    "    \n",
    "    dataold = data.copy()\n",
    "    \n",
    "    idealvec_s = np.zeros((l,t)) \n",
    "    for k in range(l):\n",
    "        idx = data.iloc[:,-1] == k+1\n",
    "        idealvec_s[k,:] = data[idx].iloc[:,:-1].mean(axis = 0)\n",
    "    \n",
    "    # scaling data between [0,1]\n",
    "    data_v = data.iloc[:,:-1]\n",
    "    data_c = data.iloc[:,-1] # labels\n",
    "    mins_v = data_v.min(axis = 0)\n",
    "    Ones   = np.ones((data_v.shape))\n",
    "    data_v = data_v + np.dot(Ones,np.diag(abs(mins_v)))\n",
    "    \n",
    "    tmp =[]\n",
    "    for k in range(l):\n",
    "        tmp.append(abs(mins_v))\n",
    "    \n",
    "    idealvec_s = idealvec_s+tmp\n",
    "    maxs_v     = data_v.max(axis = 0)\n",
    "    data_v     = np.dot(data_v,np.diag(maxs_v**(-1)))\n",
    "    tmp2 =[];\n",
    "    for k in range(l):\n",
    "        tmp2.append(abs(maxs_v))\n",
    "        \n",
    "    idealvec_s = idealvec_s/tmp2\n",
    "    \n",
    "    data_vv = pd.DataFrame(data_v) # Convert the array of feature to a dataframe\n",
    "    data    = pd.concat([data_vv, data_c], axis=1, ignore_index=False)\n",
    "\n",
    "    # sample data\n",
    "    datalearn_s = data.iloc[:,:-1]\n",
    "    \n",
    "    # similarities\n",
    "    sim = np.zeros((t,m,l))\n",
    "    \n",
    "    for j in range(m):\n",
    "        for i in range(t):\n",
    "            for k in range(l):\n",
    "                sim[i,j,k] = (1-abs(idealvec_s[k,i]**p - datalearn_s.iloc[j,i])**p)**(1/p)\n",
    "            \n",
    "    sim = sim.reshape(t,m*l)\n",
    "    \n",
    "    # possibility for two different entropy measures\n",
    "    if measure =='luca':\n",
    "        # moodifying zero and one values of the similarity values to work with \n",
    "        # De Luca's entropy measure\n",
    "        delta = 1e-10\n",
    "        sim[sim == 1] = delta\n",
    "        sim[sim == 0] = 1-delta\n",
    "        H = (-sim*np.log(sim)-(1-sim)*np.log(1-sim)).sum(axis = 1)\n",
    "    elif measure == 'park':\n",
    "        H = (np.sin(np.pi/2*sim)+np.sin(np.pi/2*(1-sim))-1).sum(axis = 1) \n",
    "        \n",
    "    feature_values = np.array(in_data)\n",
    "    result = Result()\n",
    "    result.features = feature_values\n",
    "    result.scores = H\n",
    "    result.ranks = np.argsort(np.argsort(-H))\n",
    "    result.ranked_features = feature_values[:, result.ranks]\n",
    "    return result\n",
    "\n",
    "\n"
   ]
  },
  {
   "cell_type": "code",
   "execution_count": 52,
   "metadata": {
    "execution": {
     "iopub.execute_input": "2023-07-29T23:53:31.357753Z",
     "iopub.status.busy": "2023-07-29T23:53:31.357154Z",
     "iopub.status.idle": "2023-07-29T23:53:41.455310Z",
     "shell.execute_reply": "2023-07-29T23:53:41.453852Z",
     "shell.execute_reply.started": "2023-07-29T23:53:31.357699Z"
    }
   },
   "outputs": [
    {
     "name": "stdout",
     "output_type": "stream",
     "text": [
      "(143, 1280) (70, 1280) (143,) (70,)\n",
      "(213, 1280) (213,)\n",
      "(143, 512) (70, 512) (143,) (70,)\n",
      "Classification with KNN classifier on Information Gain rankings\n",
      " --------------------------------------------------\n",
      "              precision    recall  f1-score   support\n",
      "\n",
      "           0     1.0000    0.9000    0.9474        10\n",
      "           1     1.0000    1.0000    1.0000        10\n",
      "           2     1.0000    0.9000    0.9474        10\n",
      "           3     0.9091    1.0000    0.9524        10\n",
      "           4     0.9091    1.0000    0.9524        10\n",
      "           5     1.0000    1.0000    1.0000        10\n",
      "           6     1.0000    1.0000    1.0000        10\n",
      "\n",
      "    accuracy                         0.9714        70\n",
      "   macro avg     0.9740    0.9714    0.9714        70\n",
      "weighted avg     0.9740    0.9714    0.9714        70\n",
      "\n"
     ]
    },
    {
     "data": {
      "text/plain": [
       "<sklearn.metrics._plot.confusion_matrix.ConfusionMatrixDisplay at 0x7e6a16d98b20>"
      ]
     },
     "execution_count": 52,
     "metadata": {},
     "output_type": "execute_result"
    },
    {
     "data": {
      "image/png": "[encoded data removed]",
      "text/plain": [
       "<Figure size 640x480 with 2 Axes>"
      ]
     },
     "metadata": {},
     "output_type": "display_data"
    }
   ],
   "source": [
    "# get full X and y\n",
    "print(X_train.shape, X_test.shape, y_train.shape, y_test.shape)\n",
    "X, y = np.concatenate((X_train, X_test), axis=0), np.concatenate((y_train, y_test), axis=0)\n",
    "print(X.shape, y.shape)\n",
    "\n",
    "sol_filter_IG = InformationGain(X, y)\n",
    "B = sol_filter_IG.ranked_features[:, 0:512]\n",
    "\n",
    "# classification\n",
    "X_tr, X_te, y_tr, y_te = B[0:X_train.shape[0], :], B[X_train.shape[0]:X.shape[0], :], y[0:y_train.shape[0]], y[y_train.shape[0]:y.shape[0]]\n",
    "print(X_tr.shape, X_te.shape, y_tr.shape, y_te.shape)\n",
    "\n",
    "clf = KNN(n_neighbors=20)\n",
    "clf.fit(X_tr, y_tr)\n",
    "y_pre = clf.predict(X_te)\n",
    "print('Classification with KNN classifier on Information Gain rankings\\n', '-'*50)\n",
    "print(classification_report(y_te, y_pre, digits=4))\n",
    "ConfusionMatrixDisplay(confusion_matrix(y_te, y_pre)).plot()"
   ]
  },
  {
   "cell_type": "code",
   "execution_count": 26,
   "metadata": {
    "execution": {
     "iopub.execute_input": "2023-07-24T22:02:37.084434Z",
     "iopub.status.busy": "2023-07-24T22:02:37.084023Z",
     "iopub.status.idle": "2023-07-24T22:04:11.280139Z",
     "shell.execute_reply": "2023-07-24T22:04:11.279175Z",
     "shell.execute_reply.started": "2023-07-24T22:02:37.084402Z"
    },
    "jupyter": {
     "outputs_hidden": true
    }
   },
   "outputs": [
    {
     "name": "stdout",
     "output_type": "stream",
     "text": [
      "(446, 1280) (112, 1280) (446,) (112,)\n",
      "(558, 1280) (558,)\n",
      "(446, 512) (112, 512) (446,) (112,)\n",
      "Classification with KNN classifier on Pasi-Luukka ranking\n",
      " --------------------------------------------------\n",
      "              precision    recall  f1-score   support\n",
      "\n",
      "           0     0.7083    0.7727    0.7391        22\n",
      "           1     0.7059    0.6667    0.6857        18\n",
      "           2     0.7222    0.8667    0.7879        15\n",
      "           3     1.0000    0.8519    0.9200        27\n",
      "           4     1.0000    1.0000    1.0000        30\n",
      "\n",
      "    accuracy                         0.8482       112\n",
      "   macro avg     0.8273    0.8316    0.8265       112\n",
      "weighted avg     0.8582    0.8482    0.8506       112\n",
      "\n"
     ]
    },
    {
     "data": {
      "text/plain": [
       "<sklearn.metrics._plot.confusion_matrix.ConfusionMatrixDisplay at 0x7d86242afca0>"
      ]
     },
     "execution_count": 26,
     "metadata": {},
     "output_type": "execute_result"
    },
    {
     "data": {
      "image/png": "[encoded data removed]",
      "text/plain": [
       "<Figure size 640x480 with 2 Axes>"
      ]
     },
     "metadata": {},
     "output_type": "display_data"
    }
   ],
   "source": [
    "# get full X and y\n",
    "print(X_train.shape, X_test.shape, y_train.shape, y_test.shape)\n",
    "X, y = np.concatenate((X_train, X_test), axis=0), np.concatenate((y_train, y_test), axis=0)\n",
    "print(X.shape, y.shape)\n",
    "\n",
    "sol_filter_PL = PasiLuukka(X, y)\n",
    "C = sol_filter_PL.ranked_features[:, 0:512]\n",
    "\n",
    "# classification\n",
    "X_tr, X_te, y_tr, y_te = C[0:X_train.shape[0], :], C[X_train.shape[0]:X.shape[0], :], y[0:y_train.shape[0]], y[y_train.shape[0]:y.shape[0]]\n",
    "print(X_tr.shape, X_te.shape, y_tr.shape, y_te.shape)\n",
    "\n",
    "clf = KNN(n_neighbors=5)\n",
    "clf.fit(X_tr, y_tr)\n",
    "y_pre = clf.predict(X_te)\n",
    "print('Classification with KNN classifier on Pasi-Luukka ranking\\n', '-'*50)\n",
    "print(classification_report(y_te, y_pre, digits=4))\n",
    "ConfusionMatrixDisplay(confusion_matrix(y_te, y_pre)).plot()"
   ]
  },
  {
   "cell_type": "markdown",
   "metadata": {},
   "source": [
    "## Feature Selection"
   ]
  },
  {
   "cell_type": "code",
   "execution_count": 1,
   "metadata": {
    "execution": {
     "iopub.execute_input": "2023-07-24T15:33:18.010533Z",
     "iopub.status.busy": "2023-07-24T15:33:18.008965Z",
     "iopub.status.idle": "2023-07-24T15:33:18.497979Z",
     "shell.execute_reply": "2023-07-24T15:33:18.496227Z",
     "shell.execute_reply.started": "2023-07-24T15:33:18.010471Z"
    }
   },
   "outputs": [
    {
     "ename": "NameError",
     "evalue": "name 'np' is not defined",
     "output_type": "error",
     "traceback": [
      "\u001b[0;31m---------------------------------------------------------------------------\u001b[0m",
      "\u001b[0;31mNameError\u001b[0m                                 Traceback (most recent call last)",
      "Cell \u001b[0;32mIn[1], line 11\u001b[0m\n\u001b[1;32m      9\u001b[0m \u001b[38;5;28;01mfrom\u001b[39;00m \u001b[38;5;21;01mdatetime\u001b[39;00m \u001b[38;5;28;01mimport\u001b[39;00m datetime, timezone, timedelta\n\u001b[1;32m     10\u001b[0m random\u001b[38;5;241m.\u001b[39mseed(\u001b[38;5;241m1\u001b[39m)\n\u001b[0;32m---> 11\u001b[0m \u001b[43mnp\u001b[49m\u001b[38;5;241m.\u001b[39mrandom\u001b[38;5;241m.\u001b[39mseed(\u001b[38;5;241m1\u001b[39m)\n",
      "\u001b[0;31mNameError\u001b[0m: name 'np' is not defined"
     ]
    }
   ],
   "source": [
    "import os, sys, random, math, csv, time, pytz\n",
    "from sklearn.model_selection import train_test_split\n",
    "from sklearn.neighbors import KNeighborsClassifier as KNN\n",
    "from sklearn.ensemble import RandomForestClassifier, AdaBoostClassifier, GradientBoostingClassifier\n",
    "from sklearn.svm import SVC as SVM\n",
    "from sklearn.neural_network import MLPClassifier as MLP\n",
    "from sklearn.metrics import classification_report, confusion_matrix, ConfusionMatrixDisplay\n",
    "from sklearn.model_selection import KFold, StratifiedKFold\n",
    "from datetime import datetime, timezone, timedelta\n",
    "random.seed(1)\n",
    "np.random.seed(1)"
   ]
  },
  {
   "cell_type": "code",
   "execution_count": 24,
   "metadata": {
    "execution": {
     "iopub.execute_input": "2023-07-22T23:51:30.611170Z",
     "iopub.status.busy": "2023-07-22T23:51:30.610773Z",
     "iopub.status.idle": "2023-07-22T23:51:41.728620Z",
     "shell.execute_reply": "2023-07-22T23:51:41.727421Z",
     "shell.execute_reply.started": "2023-07-22T23:51:30.611138Z"
    }
   },
   "outputs": [
    {
     "name": "stdout",
     "output_type": "stream",
     "text": [
      "(28709, 1280) (28709,) (3589, 1280) (3589,)\n"
     ]
    }
   ],
   "source": [
    "df_train, df_test = pd.read_csv('/kaggle/working/fer2013-efficientnet_0.0005_Adam_CE-Train.csv'), pd.read_csv('/kaggle/working/fer2013-efficientnet_0.0005_Adam_CE-Test.csv')\n",
    "\n",
    "X_train = np.array(df_train.iloc[:,0:(df_train.shape[1]-1)].copy())\n",
    "y_train = np.array(df_train['label'].copy())\n",
    "X_test = np.array(df_test.iloc[:,0:(df_test.shape[1]-1)].copy())\n",
    "y_test = np.array(df_test['label'].copy())\n",
    "\n",
    "print(X_train.shape, y_train.shape, X_test.shape, y_test.shape)"
   ]
  },
  {
   "cell_type": "code",
   "execution_count": 32,
   "metadata": {
    "execution": {
     "iopub.execute_input": "2023-07-22T23:53:45.474965Z",
     "iopub.status.busy": "2023-07-22T23:53:45.474010Z",
     "iopub.status.idle": "2023-07-22T23:53:51.005402Z",
     "shell.execute_reply": "2023-07-22T23:53:51.004288Z",
     "shell.execute_reply.started": "2023-07-22T23:53:45.474920Z"
    }
   },
   "outputs": [
    {
     "name": "stdout",
     "output_type": "stream",
     "text": [
      "Classification with KNN classifier on raw features\n",
      " --------------------------------------------------\n",
      "              precision    recall  f1-score   support\n",
      "\n",
      "           0     0.6427    0.6375    0.6401       491\n",
      "           1     0.8667    0.7091    0.7800        55\n",
      "           2     0.5714    0.5000    0.5333       528\n",
      "           3     0.8773    0.8783    0.8778       879\n",
      "           4     0.6459    0.6965    0.6703       626\n",
      "           5     0.5825    0.5943    0.5883       594\n",
      "           6     0.7949    0.8293    0.8118       416\n",
      "\n",
      "    accuracy                         0.7027      3589\n",
      "   macro avg     0.7116    0.6921    0.7002      3589\n",
      "weighted avg     0.7013    0.7027    0.7013      3589\n",
      "\n"
     ]
    },
    {
     "data": {
      "image/png": "[encoded data removed]",
      "text/plain": [
       "<Figure size 640x480 with 2 Axes>"
      ]
     },
     "metadata": {},
     "output_type": "display_data"
    }
   ],
   "source": [
    "from sklearn.neighbors import KNeighborsClassifier as KNN\n",
    "from sklearn.svm import SVC as SVM\n",
    "from sklearn.neural_network import MLPClassifier as MLP\n",
    "from sklearn.metrics import classification_report, confusion_matrix, ConfusionMatrixDisplay\n",
    "\n",
    "clf = KNN(n_neighbors=5)\n",
    "clf.fit(X_train, y_train)\n",
    "y_preds = clf.predict(X_test)\n",
    "print('Classification with KNN classifier on raw features\\n', '-'*50)\n",
    "print(classification_report(y_test, y_preds, digits=4))\n",
    "ConfusionMatrixDisplay(confusion_matrix(y_test, y_preds)).plot()\n",
    "# plt.savefig('fer2013-effnet-KNN.png', dpi=300)\n",
    "plt.show()\n",
    "\n",
    "# clf = SVM()\n",
    "# clf.fit(X_train, y_train)\n",
    "# y_preds = clf.predict(X_test)\n",
    "# print('\\nClassification with SVM classifier on raw features\\n', '-'*50)\n",
    "# print(classification_report(y_test, y_preds, digits=4))\n",
    "# ConfusionMatrixDisplay(confusion_matrix(y_test, y_preds)).plot()\n",
    "# plt.savefig('fer2013-effnet-SVM.png', dpi=300)\n",
    "plt.show()\n",
    "\n",
    "# clf = MLP()\n",
    "# clf.fit(X_train, y_train)\n",
    "# y_preds = clf.predict(X_test)\n",
    "# print('\\nClassification with KNN classifier\\n', '-'*50)\n",
    "# print(classification_report(y_test, y_pred, digits=4))"
   ]
  },
  {
   "cell_type": "code",
   "execution_count": 5,
   "metadata": {
    "execution": {
     "iopub.execute_input": "2023-07-21T23:21:10.467090Z",
     "iopub.status.busy": "2023-07-21T23:21:10.465984Z",
     "iopub.status.idle": "2023-07-21T23:21:10.497021Z",
     "shell.execute_reply": "2023-07-21T23:21:10.496062Z",
     "shell.execute_reply.started": "2023-07-21T23:21:10.467051Z"
    },
    "jupyter": {
     "source_hidden": true
    }
   },
   "outputs": [],
   "source": [
    "class Solution():    \n",
    "    #structure of the solution \n",
    "    def __init__(self):\n",
    "        self.num_features = None\n",
    "        self.num_agents = None\n",
    "        self.max_iter = None\n",
    "        self.obj_function = None\n",
    "        self.execution_time = None\n",
    "        self.convergence_curve = {}\n",
    "        self.best_agent = None\n",
    "        self.best_fitness = None\n",
    "        self.best_accuracy = None\n",
    "        self.final_population = None\n",
    "        self.final_fitness = None\n",
    "        self.final_accuracy = None\n",
    "\n",
    "\n",
    "class Data():\n",
    "    # structure of the training data\n",
    "    def __init__(self):\n",
    "        self.train_X = None\n",
    "        self.train_Y = None\n",
    "        self.val_X = None\n",
    "        self.val_Y = None\n",
    "\n",
    "\n",
    "\n",
    "def initialize(num_agents, num_features):\n",
    "    # define min and max number of features\n",
    "    min_features = int(0.5 * num_features)\n",
    "    max_features = int(0.8 * num_features)\n",
    "\n",
    "    # initialize the agents with zeros\n",
    "    agents = np.zeros((num_agents, num_features))\n",
    "\n",
    "    # select random features for each agent\n",
    "    for agent_no in range(num_agents):\n",
    "\n",
    "        random.seed(time.time() + agent_no)\n",
    "\n",
    "        num = random.randint(min_features,max_features)\n",
    "        pos = random.sample(range(0,num_features - 1),num)\n",
    "\n",
    "        for idx in pos:\n",
    "            agents[agent_no][idx] = 1 \n",
    "\n",
    "    return agents\n",
    "\n",
    "\n",
    "\n",
    "def sort_agents(agents, obj, data):\n",
    "    # sort the agents according to fitness\n",
    "    train_X, val_X, train_Y, val_Y = data.train_X, data.val_X, data.train_Y, data.val_Y\n",
    "    (obj_function, weight_acc) = obj\n",
    "\n",
    "    # if there is only one agent\n",
    "    if len(agents.shape) == 1:\n",
    "        num_agents = 1\n",
    "        fitness, acc = obj_function(agents, train_X, val_X, train_Y, val_Y, weight_acc)\n",
    "        return agents, fitness, acc\n",
    "\n",
    "    # for multiple agents\n",
    "    else:\n",
    "        num_agents = agents.shape[0]\n",
    "        fitness = np.zeros(num_agents)\n",
    "        acc = np.zeros(num_agents)\n",
    "        for id, agent in enumerate(agents):\n",
    "            fitness[id], acc[id] = obj_function(agent, train_X, val_X, train_Y, val_Y, weight_acc)\n",
    "        idx = np.argsort(-fitness)\n",
    "        sorted_agents = agents[idx].copy()\n",
    "        sorted_fitness = fitness[idx].copy()\n",
    "        sorted_acc = acc[idx].copy()\n",
    "\n",
    "    return sorted_agents, sorted_fitness, sorted_acc\n",
    "\n",
    "\n",
    "\n",
    "def display(agents, fitness, acc, agent_name='Agent'):\n",
    "    # display the population\n",
    "    print('\\nNumber of agents: {}'.format(agents.shape[0]))\n",
    "    print('\\n------------- Best Agent ---------------')\n",
    "    print('Fitness: {}'.format(fitness[0]))\n",
    "    print('Accuracy: {}'.format(acc[0]))\n",
    "    print('Number of Features: {}'.format(int(np.sum(agents[0]))))\n",
    "    print('----------------------------------------\\n')\n",
    "\n",
    "#     for id, agent in enumerate(agents):\n",
    "#         print('{} {} - Fitness: {},Accuracy: {}, Number of Features: {}'.format(agent_name, id+1, fitness[id], acc[id], int(np.sum(agent))))\n",
    "\n",
    "#     print('================================================================================\\n')\n",
    "\n",
    "\n",
    "\n",
    "def compute_accuracy(agent, train_X, test_X, train_Y, test_Y): \n",
    "    # compute classification accuracy of the given agents\n",
    "    cols = np.flatnonzero(agent)     \n",
    "    if(cols.shape[0] == 0):\n",
    "        return 0    \n",
    "\n",
    "#     clf = KNN()\n",
    "    clf = SVM()\n",
    "\n",
    "    train_data = train_X[:,cols]\n",
    "    train_label = train_Y\n",
    "    test_data = test_X[:,cols]\n",
    "    test_label = test_Y\n",
    "\n",
    "    clf.fit(train_data,train_label)\n",
    "    acc = clf.score(test_data,test_label)\n",
    "\n",
    "    return acc\n",
    "        \n",
    "\n",
    "def compute_fitness(agent, train_X, test_X, train_Y, test_Y, weight_acc=0.99,dims=None):\n",
    "    # compute a basic fitness measure\n",
    "    if(weight_acc == None):\n",
    "        weight_acc = 0.9\n",
    "    weight_feat = 1 - weight_acc\n",
    "    \n",
    "    agent = agent.reshape(-1)\n",
    "    \n",
    "    if dims != None:\n",
    "        num_features = dims\n",
    "    else:\n",
    "        num_features = agent.shape[0]\n",
    "    \n",
    "    acc = compute_accuracy(agent, train_X, test_X, train_Y, test_Y)\n",
    "    feat = (num_features - np.sum(agent))/num_features\n",
    "\n",
    "    fitness = weight_acc * acc + weight_feat * feat\n",
    "    \n",
    "    return fitness, acc\n",
    "\n",
    "\n",
    "### Transfer functions ###\n",
    "\n",
    "def sigmoid(val):\n",
    "    if val < 0:\n",
    "        return 1 - 1/(1 + np.exp(val))\n",
    "    else:\n",
    "        return 1/(1 + np.exp(-val))\n",
    "\n",
    "def v_func(val):\n",
    "    return val/(np.sqrt(1 + val*val))\n",
    "\n",
    "def z_func(val):\n",
    "    return np.sqrt(1-np.power(5,-abs(val)))\n",
    "\n",
    "def zz_func(val):\n",
    "    return np.sqrt(1-np.power(8,-abs(val)))\n",
    "\n",
    "def u_func(val):\n",
    "    alpha, beta = 2, 1.5\n",
    "    return alpha * np.power(abs(val), beta)\n",
    "\n",
    "\n",
    "def get_trans_function(shape):\n",
    "    if (shape.lower() == 's'):\n",
    "        return sigmoid\n",
    "\n",
    "    elif (shape.lower() == 'v'):\n",
    "        return v_func\n",
    "\n",
    "    elif(shape.lower() == 'u'):\n",
    "        return u_func\n",
    "\n",
    "    elif(shape.lower() == 'z'):\n",
    "        return z_func\n",
    "    \n",
    "    elif(shape.lower() == 'zz'):\n",
    "        return zz_func\n",
    "\n",
    "    else:\n",
    "        print('\\n[Error!] We don\\'t currently support {}-shaped transfer functions...\\n'.format(shape))\n",
    "        exit(1)"
   ]
  }
 ],
 "metadata": {
  "kernelspec": {
   "display_name": "Python 3",
   "language": "python",
   "name": "python3"
  },
  "language_info": {
   "codemirror_mode": {
    "name": "ipython",
    "version": 3
   },
   "file_extension": ".py",
   "mimetype": "text/x-python",
   "name": "python",
   "nbconvert_exporter": "python",
   "pygments_lexer": "ipython3",
   "version": "3.6.8"
  }
 },
 "nbformat": 4,
 "nbformat_minor": 4
}
