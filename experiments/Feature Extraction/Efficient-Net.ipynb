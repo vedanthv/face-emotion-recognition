{
 "cells": [
  {
   "cell_type": "code",
   "execution_count": 1,
   "id": "6862579f",
   "metadata": {
    "execution": {
     "iopub.execute_input": "2021-09-01T16:07:23.137351Z",
     "iopub.status.busy": "2021-09-01T16:07:23.136790Z",
     "iopub.status.idle": "2021-09-01T16:07:28.215812Z",
     "shell.execute_reply": "2021-09-01T16:07:28.215223Z",
     "shell.execute_reply.started": "2021-09-01T15:59:00.085772Z"
    },
    "papermill": {
     "duration": 5.105406,
     "end_time": "2021-09-01T16:07:28.216002",
     "exception": false,
     "start_time": "2021-09-01T16:07:23.110596",
     "status": "completed"
    },
    "tags": []
   },
   "outputs": [],
   "source": [
    "import numpy as np \n",
    "import tensorflow as tf \n",
    "from tensorflow.keras.models import Model ,Sequential\n",
    "from tensorflow.keras.layers import Dense,Conv2D,Dropout,MaxPool2D,BatchNormalization,Input,\\\n",
    "Flatten,GlobalAveragePooling2D\n",
    "import math \n",
    "import warnings \n",
    "from tensorflow.keras import regularizers\n",
    "warnings.filterwarnings(\"ignore\")\n",
    "from tensorflow.keras.preprocessing.image import ImageDataGenerator\n",
    "from tensorflow.keras.callbacks import ModelCheckpoint\n",
    "from tensorflow.keras.utils import Sequence\n",
    "from tensorflow.keras.applications import VGG16 , EfficientNetB7\n",
    "import cv2 as cv\n",
    "from collections import defaultdict\n",
    "import os \n",
    "import shutil\n",
    "import matplotlib.pyplot as plt\n",
    "from sklearn.metrics import confusion_matrix , classification_report\n",
    "import pandas as pd\n",
    "import seaborn as sns "
   ]
  },
  {
   "cell_type": "markdown",
   "id": "5cd31d24",
   "metadata": {
    "papermill": {
     "duration": 0.012571,
     "end_time": "2021-09-01T16:07:28.241188",
     "exception": false,
     "start_time": "2021-09-01T16:07:28.228617",
     "status": "completed"
    },
    "tags": []
   },
   "source": [
    "## Data preparation :"
   ]
  },
  {
   "cell_type": "markdown",
   "id": "03adb555",
   "metadata": {
    "papermill": {
     "duration": 0.011414,
     "end_time": "2021-09-01T16:07:28.264125",
     "exception": false,
     "start_time": "2021-09-01T16:07:28.252711",
     "status": "completed"
    },
    "tags": []
   },
   "source": [
    "## VGG16 :"
   ]
  },
  {
   "cell_type": "code",
   "execution_count": 2,
   "id": "04a115d4",
   "metadata": {
    "execution": {
     "iopub.execute_input": "2021-09-01T16:07:28.294427Z",
     "iopub.status.busy": "2021-09-01T16:07:28.293705Z",
     "iopub.status.idle": "2021-09-01T16:07:36.892074Z",
     "shell.execute_reply": "2021-09-01T16:07:36.891460Z",
     "shell.execute_reply.started": "2021-09-01T10:10:33.805570Z"
    },
    "papermill": {
     "duration": 8.616513,
     "end_time": "2021-09-01T16:07:36.892202",
     "exception": false,
     "start_time": "2021-09-01T16:07:28.275689",
     "status": "completed"
    },
    "tags": []
   },
   "outputs": [
    {
     "name": "stdout",
     "output_type": "stream",
     "text": [
      "Downloading data from https://storage.googleapis.com/keras-applications/efficientnetb7_notop.h5\n",
      "258080768/258076736 [==============================] - 1s 0us/step\n"
     ]
    }
   ],
   "source": [
    "vgg = EfficientNetB7(weights=\"imagenet\",include_top=False ,input_shape=(72,72,3),pooling=\"avg\")"
   ]
  },
  {
   "cell_type": "code",
   "execution_count": 3,
   "id": "ac28db7d",
   "metadata": {
    "execution": {
     "iopub.execute_input": "2021-09-01T16:07:36.939465Z",
     "iopub.status.busy": "2021-09-01T16:07:36.938774Z",
     "iopub.status.idle": "2021-09-01T16:07:36.942168Z",
     "shell.execute_reply": "2021-09-01T16:07:36.941730Z",
     "shell.execute_reply.started": "2021-09-01T10:10:44.831486Z"
    },
    "papermill": {
     "duration": 0.030136,
     "end_time": "2021-09-01T16:07:36.942274",
     "exception": false,
     "start_time": "2021-09-01T16:07:36.912138",
     "status": "completed"
    },
    "tags": []
   },
   "outputs": [],
   "source": [
    "def build_vgg() : \n",
    " \n",
    " for layer in vgg.layers[-6:] :\n",
    "    layer.trainable = True\n",
    " x = vgg.output\n",
    " #x = Flatten()(x)\n",
    " x = BatchNormalization()(x)\n",
    " x = Dropout(0.25)(x)\n",
    " predictions = Dense(512,activation=\"relu\",kernel_regularizer=regularizers.l2(0.0001))(x)\n",
    " predictions= BatchNormalization()(predictions)\n",
    " #predictions = Dropout(0.25)(predictions)\n",
    " #predictions = Dense(256,activation=\"relu\")(predictions)\n",
    " #predictions = BatchNormalization()(predictions)\n",
    " predictions = Dropout(0.25)(predictions)\n",
    " predictions = Dense(128,activation=\"relu\",kernel_regularizer=regularizers.l2(0.0001))(predictions)\n",
    " #predictions = BatchNormalization()(predictions)\n",
    " #predictions = Dropout(0.25)(predictions)\n",
    " #predictions = Dense(64,activation=\"relu\")(predictions)\n",
    " #predictions = BatchNormalization()(predictions)\n",
    " #predictions = Dropout(0.25)(predictions)\n",
    " #predictions = Dense(32,activation=\"relu\")(predictions)\n",
    " predictions = BatchNormalization()(predictions)\n",
    " predictions = Dropout(0.25)(predictions)\n",
    " predictions = Dense(7,activation=\"softmax\")(predictions)\n",
    " model_VGG = Model(vgg.input,predictions)\n",
    " \n",
    " model_VGG.compile(optimizer=tf.keras.optimizers.Adam(learning_rate=5e-5),loss=\\\n",
    "                 [tf.keras.losses.CategoricalCrossentropy()],metrics=[\"accuracy\"])\n",
    " return model_VGG"
   ]
  },
  {
   "cell_type": "code",
   "execution_count": 4,
   "id": "5ca92a47",
   "metadata": {
    "execution": {
     "iopub.execute_input": "2021-09-01T16:07:36.984463Z",
     "iopub.status.busy": "2021-09-01T16:07:36.983960Z",
     "iopub.status.idle": "2021-09-01T16:07:36.987668Z",
     "shell.execute_reply": "2021-09-01T16:07:36.987265Z",
     "shell.execute_reply.started": "2021-09-01T10:10:44.843605Z"
    },
    "papermill": {
     "duration": 0.026559,
     "end_time": "2021-09-01T16:07:36.987772",
     "exception": false,
     "start_time": "2021-09-01T16:07:36.961213",
     "status": "completed"
    },
    "tags": []
   },
   "outputs": [],
   "source": [
    "val_generator = ImageDataGenerator(rescale=1/255)\n",
    "\n",
    "tr_generator = ImageDataGenerator(rescale = 1/255,\n",
    "                                  zoom_range=0.3,\n",
    "                                  shear_range=0.3,\n",
    "                                  horizontal_flip=True,\n",
    "                                  rotation_range=30,\n",
    "                                  fill_mode=\"nearest\")"
   ]
  },
  {
   "cell_type": "code",
   "execution_count": 5,
   "id": "5c184f92",
   "metadata": {
    "execution": {
     "iopub.execute_input": "2021-09-01T16:07:37.029611Z",
     "iopub.status.busy": "2021-09-01T16:07:37.029117Z",
     "iopub.status.idle": "2021-09-01T16:08:06.353489Z",
     "shell.execute_reply": "2021-09-01T16:08:06.354042Z",
     "shell.execute_reply.started": "2021-09-01T10:10:44.854408Z"
    },
    "papermill": {
     "duration": 29.347639,
     "end_time": "2021-09-01T16:08:06.354234",
     "exception": false,
     "start_time": "2021-09-01T16:07:37.006595",
     "status": "completed"
    },
    "tags": []
   },
   "outputs": [
    {
     "name": "stdout",
     "output_type": "stream",
     "text": [
      "Found 7178 images belonging to 7 classes.\n",
      "Found 28709 images belonging to 7 classes.\n"
     ]
    }
   ],
   "source": [
    "val_data = val_generator.flow_from_directory(\"../input/fer2013/test\",\n",
    "                                             batch_size= 64,\n",
    "                                             target_size=(72,72),\n",
    "                                             color_mode=\"rgb\",\n",
    "                                             interpolation=\"nearest\")\n",
    "tr_data = tr_generator.flow_from_directory(\"../input/fer2013/train\",\n",
    "                                          batch_size= 64,\n",
    "                                          target_size=(72,72),\n",
    "                                          color_mode=\"rgb\",\n",
    "                                          interpolation=\"nearest\")"
   ]
  },
  {
   "cell_type": "code",
   "execution_count": 6,
   "id": "c45bebe1",
   "metadata": {
    "execution": {
     "iopub.execute_input": "2021-09-01T16:08:06.401461Z",
     "iopub.status.busy": "2021-09-01T16:08:06.400709Z",
     "iopub.status.idle": "2021-09-01T16:08:06.724668Z",
     "shell.execute_reply": "2021-09-01T16:08:06.724199Z",
     "shell.execute_reply.started": "2021-09-01T10:37:33.068272Z"
    },
    "papermill": {
     "duration": 0.350317,
     "end_time": "2021-09-01T16:08:06.724795",
     "exception": false,
     "start_time": "2021-09-01T16:08:06.374478",
     "status": "completed"
    },
    "tags": []
   },
   "outputs": [],
   "source": [
    "model_VGG = build_vgg()\n",
    "vgg_step_1 = ModelCheckpoint(\"vgg_step1.h5\",monitor=\"val_accuracy\",mode=\"max\",save_best_only=True,\\\n",
    "                            save_weights_only=True,verbose=1)"
   ]
  },
  {
   "cell_type": "code",
   "execution_count": 7,
   "id": "593924a8",
   "metadata": {
    "execution": {
     "iopub.execute_input": "2021-09-01T16:08:06.772954Z",
     "iopub.status.busy": "2021-09-01T16:08:06.772388Z",
     "iopub.status.idle": "2021-09-01T21:08:40.408197Z",
     "shell.execute_reply": "2021-09-01T21:08:40.407726Z",
     "shell.execute_reply.started": "2021-09-01T10:37:37.164414Z"
    },
    "papermill": {
     "duration": 18033.663406,
     "end_time": "2021-09-01T21:08:40.408342",
     "exception": false,
     "start_time": "2021-09-01T16:08:06.744936",
     "status": "completed"
    },
    "tags": []
   },
   "outputs": [
    {
     "name": "stdout",
     "output_type": "stream",
     "text": [
      "Epoch 1/100\n",
      "449/449 [==============================] - 279s 545ms/step - loss: 2.7300 - accuracy: 0.1705 - val_loss: 2.3371 - val_accuracy: 0.1609\n",
      "\n",
      "Epoch 00001: val_accuracy improved from -inf to 0.16091, saving model to vgg_step1.h5\n",
      "Epoch 2/100\n",
      "449/449 [==============================] - 177s 394ms/step - loss: 2.3393 - accuracy: 0.2489 - val_loss: 1.9661 - val_accuracy: 0.3271\n",
      "\n",
      "Epoch 00002: val_accuracy improved from 0.16091 to 0.32711, saving model to vgg_step1.h5\n",
      "Epoch 3/100\n",
      "449/449 [==============================] - 176s 392ms/step - loss: 2.0614 - accuracy: 0.3088 - val_loss: 1.8167 - val_accuracy: 0.3508\n",
      "\n",
      "Epoch 00003: val_accuracy improved from 0.32711 to 0.35079, saving model to vgg_step1.h5\n",
      "Epoch 4/100\n",
      "449/449 [==============================] - 176s 392ms/step - loss: 1.8409 - accuracy: 0.3633 - val_loss: 1.6038 - val_accuracy: 0.4400\n",
      "\n",
      "Epoch 00004: val_accuracy improved from 0.35079 to 0.43996, saving model to vgg_step1.h5\n",
      "Epoch 5/100\n",
      "449/449 [==============================] - 177s 393ms/step - loss: 1.7236 - accuracy: 0.4037 - val_loss: 1.7058 - val_accuracy: 0.3710\n",
      "\n",
      "Epoch 00005: val_accuracy did not improve from 0.43996\n",
      "Epoch 6/100\n",
      "449/449 [==============================] - 176s 391ms/step - loss: 1.6148 - accuracy: 0.4375 - val_loss: 1.5401 - val_accuracy: 0.4563\n",
      "\n",
      "Epoch 00006: val_accuracy improved from 0.43996 to 0.45626, saving model to vgg_step1.h5\n",
      "Epoch 7/100\n",
      "449/449 [==============================] - 176s 392ms/step - loss: 1.5227 - accuracy: 0.4645 - val_loss: 1.4258 - val_accuracy: 0.5001\n",
      "\n",
      "Epoch 00007: val_accuracy improved from 0.45626 to 0.50014, saving model to vgg_step1.h5\n",
      "Epoch 8/100\n",
      "449/449 [==============================] - 177s 395ms/step - loss: 1.4697 - accuracy: 0.4923 - val_loss: 1.7138 - val_accuracy: 0.3766\n",
      "\n",
      "Epoch 00008: val_accuracy did not improve from 0.50014\n",
      "Epoch 9/100\n",
      "449/449 [==============================] - 179s 398ms/step - loss: 1.4270 - accuracy: 0.5109 - val_loss: 1.3174 - val_accuracy: 0.5394\n",
      "\n",
      "Epoch 00009: val_accuracy improved from 0.50014 to 0.53943, saving model to vgg_step1.h5\n",
      "Epoch 10/100\n",
      "449/449 [==============================] - 179s 398ms/step - loss: 1.3663 - accuracy: 0.5279 - val_loss: 1.3151 - val_accuracy: 0.5446\n",
      "\n",
      "Epoch 00010: val_accuracy improved from 0.53943 to 0.54458, saving model to vgg_step1.h5\n",
      "Epoch 11/100\n",
      "449/449 [==============================] - 178s 396ms/step - loss: 1.3336 - accuracy: 0.5473 - val_loss: 1.4534 - val_accuracy: 0.4777\n",
      "\n",
      "Epoch 00011: val_accuracy did not improve from 0.54458\n",
      "Epoch 12/100\n",
      "449/449 [==============================] - 178s 396ms/step - loss: 1.2941 - accuracy: 0.5557 - val_loss: 1.2656 - val_accuracy: 0.5607\n",
      "\n",
      "Epoch 00012: val_accuracy improved from 0.54458 to 0.56074, saving model to vgg_step1.h5\n",
      "Epoch 13/100\n",
      "449/449 [==============================] - 177s 394ms/step - loss: 1.2492 - accuracy: 0.5770 - val_loss: 1.2221 - val_accuracy: 0.5804\n",
      "\n",
      "Epoch 00013: val_accuracy improved from 0.56074 to 0.58038, saving model to vgg_step1.h5\n",
      "Epoch 14/100\n",
      "449/449 [==============================] - 178s 395ms/step - loss: 1.2172 - accuracy: 0.5836 - val_loss: 1.2074 - val_accuracy: 0.5868\n",
      "\n",
      "Epoch 00014: val_accuracy improved from 0.58038 to 0.58679, saving model to vgg_step1.h5\n",
      "Epoch 15/100\n",
      "449/449 [==============================] - 177s 395ms/step - loss: 1.1663 - accuracy: 0.6050 - val_loss: 1.5568 - val_accuracy: 0.4400\n",
      "\n",
      "Epoch 00015: val_accuracy did not improve from 0.58679\n",
      "Epoch 16/100\n",
      "449/449 [==============================] - 178s 396ms/step - loss: 1.1406 - accuracy: 0.6108 - val_loss: 1.2323 - val_accuracy: 0.5747\n",
      "\n",
      "Epoch 00016: val_accuracy did not improve from 0.58679\n",
      "Epoch 17/100\n",
      "449/449 [==============================] - 179s 398ms/step - loss: 1.0989 - accuracy: 0.6282 - val_loss: 1.2650 - val_accuracy: 0.5578\n",
      "\n",
      "Epoch 00017: val_accuracy did not improve from 0.58679\n",
      "Epoch 18/100\n",
      "449/449 [==============================] - 179s 399ms/step - loss: 1.0641 - accuracy: 0.6435 - val_loss: 1.1600 - val_accuracy: 0.6050\n",
      "\n",
      "Epoch 00018: val_accuracy improved from 0.58679 to 0.60504, saving model to vgg_step1.h5\n",
      "Epoch 19/100\n",
      "449/449 [==============================] - 180s 399ms/step - loss: 1.0289 - accuracy: 0.6589 - val_loss: 1.2875 - val_accuracy: 0.5556\n",
      "\n",
      "Epoch 00019: val_accuracy did not improve from 0.60504\n",
      "Epoch 20/100\n",
      "449/449 [==============================] - 178s 396ms/step - loss: 1.0075 - accuracy: 0.6686 - val_loss: 1.2524 - val_accuracy: 0.5798\n",
      "\n",
      "Epoch 00020: val_accuracy did not improve from 0.60504\n",
      "Epoch 21/100\n",
      "449/449 [==============================] - 179s 397ms/step - loss: 0.9710 - accuracy: 0.6797 - val_loss: 1.1447 - val_accuracy: 0.6197\n",
      "\n",
      "Epoch 00021: val_accuracy improved from 0.60504 to 0.61967, saving model to vgg_step1.h5\n",
      "Epoch 22/100\n",
      "449/449 [==============================] - 179s 398ms/step - loss: 0.9236 - accuracy: 0.6979 - val_loss: 1.2246 - val_accuracy: 0.5997\n",
      "\n",
      "Epoch 00022: val_accuracy did not improve from 0.61967\n",
      "Epoch 23/100\n",
      "449/449 [==============================] - 180s 400ms/step - loss: 0.8694 - accuracy: 0.7153 - val_loss: 1.1135 - val_accuracy: 0.6411\n",
      "\n",
      "Epoch 00023: val_accuracy improved from 0.61967 to 0.64113, saving model to vgg_step1.h5\n",
      "Epoch 24/100\n",
      "449/449 [==============================] - 180s 399ms/step - loss: 0.8350 - accuracy: 0.7271 - val_loss: 1.5430 - val_accuracy: 0.5110\n",
      "\n",
      "Epoch 00024: val_accuracy did not improve from 0.64113\n",
      "Epoch 25/100\n",
      "449/449 [==============================] - 179s 398ms/step - loss: 0.8048 - accuracy: 0.7394 - val_loss: 1.1446 - val_accuracy: 0.6439\n",
      "\n",
      "Epoch 00025: val_accuracy improved from 0.64113 to 0.64391, saving model to vgg_step1.h5\n",
      "Epoch 26/100\n",
      "449/449 [==============================] - 180s 401ms/step - loss: 0.7639 - accuracy: 0.7568 - val_loss: 1.3359 - val_accuracy: 0.5787\n",
      "\n",
      "Epoch 00026: val_accuracy did not improve from 0.64391\n",
      "Epoch 27/100\n",
      "449/449 [==============================] - 181s 402ms/step - loss: 0.7416 - accuracy: 0.7650 - val_loss: 1.2302 - val_accuracy: 0.6230\n",
      "\n",
      "Epoch 00027: val_accuracy did not improve from 0.64391\n",
      "Epoch 28/100\n",
      "449/449 [==============================] - 178s 396ms/step - loss: 0.6978 - accuracy: 0.7816 - val_loss: 1.3519 - val_accuracy: 0.5761\n",
      "\n",
      "Epoch 00028: val_accuracy did not improve from 0.64391\n",
      "Epoch 29/100\n",
      "449/449 [==============================] - 179s 398ms/step - loss: 0.6593 - accuracy: 0.7917 - val_loss: 1.2601 - val_accuracy: 0.6319\n",
      "\n",
      "Epoch 00029: val_accuracy did not improve from 0.64391\n",
      "Epoch 30/100\n",
      "449/449 [==============================] - 179s 398ms/step - loss: 0.6278 - accuracy: 0.8046 - val_loss: 1.5411 - val_accuracy: 0.5478\n",
      "\n",
      "Epoch 00030: val_accuracy did not improve from 0.64391\n",
      "Epoch 31/100\n",
      "449/449 [==============================] - 177s 395ms/step - loss: 0.6032 - accuracy: 0.8173 - val_loss: 1.3366 - val_accuracy: 0.6239\n",
      "\n",
      "Epoch 00031: val_accuracy did not improve from 0.64391\n",
      "Epoch 32/100\n",
      "449/449 [==============================] - 178s 396ms/step - loss: 0.5703 - accuracy: 0.8295 - val_loss: 1.5268 - val_accuracy: 0.5914\n",
      "\n",
      "Epoch 00032: val_accuracy did not improve from 0.64391\n",
      "Epoch 33/100\n",
      "449/449 [==============================] - 178s 396ms/step - loss: 0.5365 - accuracy: 0.8409 - val_loss: 1.2663 - val_accuracy: 0.6537\n",
      "\n",
      "Epoch 00033: val_accuracy improved from 0.64391 to 0.65366, saving model to vgg_step1.h5\n",
      "Epoch 34/100\n",
      "449/449 [==============================] - 178s 396ms/step - loss: 0.5089 - accuracy: 0.8479 - val_loss: 1.4333 - val_accuracy: 0.6184\n",
      "\n",
      "Epoch 00034: val_accuracy did not improve from 0.65366\n",
      "Epoch 35/100\n",
      "449/449 [==============================] - 183s 407ms/step - loss: 0.4692 - accuracy: 0.8606 - val_loss: 1.5125 - val_accuracy: 0.5972\n",
      "\n",
      "Epoch 00035: val_accuracy did not improve from 0.65366\n",
      "Epoch 36/100\n",
      "449/449 [==============================] - 179s 398ms/step - loss: 0.4543 - accuracy: 0.8664 - val_loss: 1.3080 - val_accuracy: 0.6496\n",
      "\n",
      "Epoch 00036: val_accuracy did not improve from 0.65366\n",
      "Epoch 37/100\n",
      "449/449 [==============================] - 179s 399ms/step - loss: 0.4395 - accuracy: 0.8702 - val_loss: 1.4241 - val_accuracy: 0.6386\n",
      "\n",
      "Epoch 00037: val_accuracy did not improve from 0.65366\n",
      "Epoch 38/100\n",
      "449/449 [==============================] - 178s 395ms/step - loss: 0.4162 - accuracy: 0.8822 - val_loss: 1.5241 - val_accuracy: 0.6084\n",
      "\n",
      "Epoch 00038: val_accuracy did not improve from 0.65366\n",
      "Epoch 39/100\n",
      "449/449 [==============================] - 180s 401ms/step - loss: 0.4003 - accuracy: 0.8898 - val_loss: 1.7380 - val_accuracy: 0.5723\n",
      "\n",
      "Epoch 00039: val_accuracy did not improve from 0.65366\n",
      "Epoch 40/100\n",
      "449/449 [==============================] - 178s 395ms/step - loss: 0.3819 - accuracy: 0.8927 - val_loss: 1.6140 - val_accuracy: 0.6034\n",
      "\n",
      "Epoch 00040: val_accuracy did not improve from 0.65366\n",
      "Epoch 41/100\n",
      "449/449 [==============================] - 180s 400ms/step - loss: 0.3641 - accuracy: 0.8990 - val_loss: 1.5550 - val_accuracy: 0.6120\n",
      "\n",
      "Epoch 00041: val_accuracy did not improve from 0.65366\n",
      "Epoch 42/100\n",
      "449/449 [==============================] - 178s 396ms/step - loss: 0.3494 - accuracy: 0.9047 - val_loss: 1.7240 - val_accuracy: 0.6021\n",
      "\n",
      "Epoch 00042: val_accuracy did not improve from 0.65366\n",
      "Epoch 43/100\n",
      "449/449 [==============================] - 180s 401ms/step - loss: 0.3228 - accuracy: 0.9136 - val_loss: 1.4088 - val_accuracy: 0.6612\n",
      "\n",
      "Epoch 00043: val_accuracy improved from 0.65366 to 0.66119, saving model to vgg_step1.h5\n",
      "Epoch 44/100\n",
      "449/449 [==============================] - 178s 396ms/step - loss: 0.3234 - accuracy: 0.9122 - val_loss: 1.4635 - val_accuracy: 0.6492\n",
      "\n",
      "Epoch 00044: val_accuracy did not improve from 0.66119\n",
      "Epoch 45/100\n",
      "449/449 [==============================] - 179s 399ms/step - loss: 0.3101 - accuracy: 0.9182 - val_loss: 1.5184 - val_accuracy: 0.6471\n",
      "\n",
      "Epoch 00045: val_accuracy did not improve from 0.66119\n",
      "Epoch 46/100\n",
      "449/449 [==============================] - 178s 397ms/step - loss: 0.2889 - accuracy: 0.9233 - val_loss: 1.8428 - val_accuracy: 0.5942\n",
      "\n",
      "Epoch 00046: val_accuracy did not improve from 0.66119\n",
      "Epoch 47/100\n",
      "449/449 [==============================] - 180s 401ms/step - loss: 0.2805 - accuracy: 0.9263 - val_loss: 1.5422 - val_accuracy: 0.6480\n",
      "\n",
      "Epoch 00047: val_accuracy did not improve from 0.66119\n",
      "Epoch 48/100\n",
      "449/449 [==============================] - 179s 398ms/step - loss: 0.2826 - accuracy: 0.9270 - val_loss: 1.8366 - val_accuracy: 0.5777\n",
      "\n",
      "Epoch 00048: val_accuracy did not improve from 0.66119\n",
      "Epoch 49/100\n",
      "449/449 [==============================] - 181s 402ms/step - loss: 0.2556 - accuracy: 0.9344 - val_loss: 1.5800 - val_accuracy: 0.6485\n",
      "\n",
      "Epoch 00049: val_accuracy did not improve from 0.66119\n",
      "Epoch 50/100\n",
      "449/449 [==============================] - 179s 399ms/step - loss: 0.2504 - accuracy: 0.9379 - val_loss: 1.6337 - val_accuracy: 0.6230\n",
      "\n",
      "Epoch 00050: val_accuracy did not improve from 0.66119\n",
      "Epoch 51/100\n",
      "449/449 [==============================] - 181s 404ms/step - loss: 0.2470 - accuracy: 0.9379 - val_loss: 2.1054 - val_accuracy: 0.5322\n",
      "\n",
      "Epoch 00051: val_accuracy did not improve from 0.66119\n",
      "Epoch 52/100\n",
      "449/449 [==============================] - 179s 399ms/step - loss: 0.2389 - accuracy: 0.9391 - val_loss: 1.6177 - val_accuracy: 0.6565\n",
      "\n",
      "Epoch 00052: val_accuracy did not improve from 0.66119\n",
      "Epoch 53/100\n",
      "449/449 [==============================] - 181s 404ms/step - loss: 0.2256 - accuracy: 0.9434 - val_loss: 1.6218 - val_accuracy: 0.6520\n",
      "\n",
      "Epoch 00053: val_accuracy did not improve from 0.66119\n",
      "Epoch 54/100\n",
      "449/449 [==============================] - 180s 400ms/step - loss: 0.2294 - accuracy: 0.9424 - val_loss: 1.5671 - val_accuracy: 0.6616\n",
      "\n",
      "Epoch 00054: val_accuracy improved from 0.66119 to 0.66160, saving model to vgg_step1.h5\n",
      "Epoch 55/100\n",
      "449/449 [==============================] - 180s 400ms/step - loss: 0.2244 - accuracy: 0.9443 - val_loss: 2.1845 - val_accuracy: 0.5500\n",
      "\n",
      "Epoch 00055: val_accuracy did not improve from 0.66160\n",
      "Epoch 56/100\n",
      "449/449 [==============================] - 180s 401ms/step - loss: 0.2208 - accuracy: 0.9433 - val_loss: 1.7953 - val_accuracy: 0.6106\n",
      "\n",
      "Epoch 00056: val_accuracy did not improve from 0.66160\n",
      "Epoch 57/100\n",
      "449/449 [==============================] - 177s 394ms/step - loss: 0.2032 - accuracy: 0.9517 - val_loss: 2.0398 - val_accuracy: 0.5743\n",
      "\n",
      "Epoch 00057: val_accuracy did not improve from 0.66160\n",
      "Epoch 58/100\n",
      "449/449 [==============================] - 177s 393ms/step - loss: 0.2099 - accuracy: 0.9471 - val_loss: 1.8191 - val_accuracy: 0.6137\n",
      "\n",
      "Epoch 00058: val_accuracy did not improve from 0.66160\n",
      "Epoch 59/100\n",
      "449/449 [==============================] - 180s 400ms/step - loss: 0.2070 - accuracy: 0.9492 - val_loss: 1.9771 - val_accuracy: 0.5917\n",
      "\n",
      "Epoch 00059: val_accuracy did not improve from 0.66160\n",
      "Epoch 60/100\n",
      "449/449 [==============================] - 177s 394ms/step - loss: 0.2024 - accuracy: 0.9519 - val_loss: 1.5826 - val_accuracy: 0.6665\n",
      "\n",
      "Epoch 00060: val_accuracy improved from 0.66160 to 0.66648, saving model to vgg_step1.h5\n",
      "Epoch 61/100\n",
      "449/449 [==============================] - 177s 395ms/step - loss: 0.1933 - accuracy: 0.9525 - val_loss: 1.6298 - val_accuracy: 0.6629\n",
      "\n",
      "Epoch 00061: val_accuracy did not improve from 0.66648\n",
      "Epoch 62/100\n",
      "449/449 [==============================] - 180s 400ms/step - loss: 0.1831 - accuracy: 0.9569 - val_loss: 1.9644 - val_accuracy: 0.5857\n",
      "\n",
      "Epoch 00062: val_accuracy did not improve from 0.66648\n",
      "Epoch 63/100\n",
      "449/449 [==============================] - 180s 401ms/step - loss: 0.1825 - accuracy: 0.9550 - val_loss: 1.9121 - val_accuracy: 0.5919\n",
      "\n",
      "Epoch 00063: val_accuracy did not improve from 0.66648\n",
      "Epoch 64/100\n",
      "449/449 [==============================] - 177s 394ms/step - loss: 0.1798 - accuracy: 0.9555 - val_loss: 1.6417 - val_accuracy: 0.6669\n",
      "\n",
      "Epoch 00064: val_accuracy improved from 0.66648 to 0.66690, saving model to vgg_step1.h5\n",
      "Epoch 65/100\n",
      "449/449 [==============================] - 181s 402ms/step - loss: 0.1729 - accuracy: 0.9568 - val_loss: 1.7865 - val_accuracy: 0.6406\n",
      "\n",
      "Epoch 00065: val_accuracy did not improve from 0.66690\n",
      "Epoch 66/100\n",
      "449/449 [==============================] - 178s 396ms/step - loss: 0.1819 - accuracy: 0.9558 - val_loss: 1.9196 - val_accuracy: 0.6103\n",
      "\n",
      "Epoch 00066: val_accuracy did not improve from 0.66690\n",
      "Epoch 67/100\n",
      "449/449 [==============================] - 178s 395ms/step - loss: 0.1681 - accuracy: 0.9593 - val_loss: 1.8982 - val_accuracy: 0.6294\n",
      "\n",
      "Epoch 00067: val_accuracy did not improve from 0.66690\n",
      "Epoch 68/100\n",
      "449/449 [==============================] - 177s 395ms/step - loss: 0.1686 - accuracy: 0.9575 - val_loss: 1.8205 - val_accuracy: 0.6428\n",
      "\n",
      "Epoch 00068: val_accuracy did not improve from 0.66690\n",
      "Epoch 69/100\n",
      "449/449 [==============================] - 181s 403ms/step - loss: 0.1589 - accuracy: 0.9631 - val_loss: 1.6602 - val_accuracy: 0.6559\n",
      "\n",
      "Epoch 00069: val_accuracy did not improve from 0.66690\n",
      "Epoch 70/100\n",
      "449/449 [==============================] - 178s 397ms/step - loss: 0.1645 - accuracy: 0.9609 - val_loss: 2.2866 - val_accuracy: 0.5437\n",
      "\n",
      "Epoch 00070: val_accuracy did not improve from 0.66690\n",
      "Epoch 71/100\n",
      "449/449 [==============================] - 178s 395ms/step - loss: 0.1593 - accuracy: 0.9622 - val_loss: 1.7089 - val_accuracy: 0.6538\n",
      "\n",
      "Epoch 00071: val_accuracy did not improve from 0.66690\n",
      "Epoch 72/100\n",
      "449/449 [==============================] - 180s 401ms/step - loss: 0.1485 - accuracy: 0.9655 - val_loss: 1.7204 - val_accuracy: 0.6488\n",
      "\n",
      "Epoch 00072: val_accuracy did not improve from 0.66690\n",
      "Epoch 73/100\n",
      "449/449 [==============================] - 178s 395ms/step - loss: 0.1559 - accuracy: 0.9634 - val_loss: 1.8261 - val_accuracy: 0.6404\n",
      "\n",
      "Epoch 00073: val_accuracy did not improve from 0.66690\n",
      "Epoch 74/100\n",
      "449/449 [==============================] - 178s 396ms/step - loss: 0.1458 - accuracy: 0.9651 - val_loss: 1.8121 - val_accuracy: 0.6410\n",
      "\n",
      "Epoch 00074: val_accuracy did not improve from 0.66690\n",
      "Epoch 75/100\n",
      "449/449 [==============================] - 180s 401ms/step - loss: 0.1417 - accuracy: 0.9664 - val_loss: 1.6716 - val_accuracy: 0.6604\n",
      "\n",
      "Epoch 00075: val_accuracy did not improve from 0.66690\n",
      "Epoch 76/100\n",
      "449/449 [==============================] - 181s 402ms/step - loss: 0.1401 - accuracy: 0.9655 - val_loss: 2.6781 - val_accuracy: 0.5046\n",
      "\n",
      "Epoch 00076: val_accuracy did not improve from 0.66690\n",
      "Epoch 77/100\n",
      "449/449 [==============================] - 178s 397ms/step - loss: 0.1416 - accuracy: 0.9663 - val_loss: 1.6871 - val_accuracy: 0.6643\n",
      "\n",
      "Epoch 00077: val_accuracy did not improve from 0.66690\n",
      "Epoch 78/100\n",
      "449/449 [==============================] - 178s 395ms/step - loss: 0.1358 - accuracy: 0.9687 - val_loss: 1.9636 - val_accuracy: 0.5890\n",
      "\n",
      "Epoch 00078: val_accuracy did not improve from 0.66690\n",
      "Epoch 79/100\n",
      "449/449 [==============================] - 183s 407ms/step - loss: 0.1286 - accuracy: 0.9699 - val_loss: 1.9409 - val_accuracy: 0.6174\n",
      "\n",
      "Epoch 00079: val_accuracy did not improve from 0.66690\n",
      "Epoch 80/100\n",
      "449/449 [==============================] - 179s 397ms/step - loss: 0.1308 - accuracy: 0.9704 - val_loss: 2.0682 - val_accuracy: 0.5814\n",
      "\n",
      "Epoch 00080: val_accuracy did not improve from 0.66690\n",
      "Epoch 81/100\n",
      "449/449 [==============================] - 178s 396ms/step - loss: 0.1283 - accuracy: 0.9688 - val_loss: 1.9748 - val_accuracy: 0.6158\n",
      "\n",
      "Epoch 00081: val_accuracy did not improve from 0.66690\n",
      "Epoch 82/100\n",
      "449/449 [==============================] - 178s 396ms/step - loss: 0.1215 - accuracy: 0.9710 - val_loss: 2.5035 - val_accuracy: 0.4979\n",
      "\n",
      "Epoch 00082: val_accuracy did not improve from 0.66690\n",
      "Epoch 83/100\n",
      "449/449 [==============================] - 182s 406ms/step - loss: 0.1321 - accuracy: 0.9683 - val_loss: 2.4680 - val_accuracy: 0.5079\n",
      "\n",
      "Epoch 00083: val_accuracy did not improve from 0.66690\n",
      "Epoch 84/100\n",
      "449/449 [==============================] - 178s 396ms/step - loss: 0.1236 - accuracy: 0.9704 - val_loss: 2.2327 - val_accuracy: 0.5560\n",
      "\n",
      "Epoch 00084: val_accuracy did not improve from 0.66690\n",
      "Epoch 85/100\n",
      "449/449 [==============================] - 180s 400ms/step - loss: 0.1270 - accuracy: 0.9692 - val_loss: 1.9314 - val_accuracy: 0.6154\n",
      "\n",
      "Epoch 00085: val_accuracy did not improve from 0.66690\n",
      "Epoch 86/100\n",
      "449/449 [==============================] - 179s 399ms/step - loss: 0.1223 - accuracy: 0.9701 - val_loss: 2.3139 - val_accuracy: 0.5589\n",
      "\n",
      "Epoch 00086: val_accuracy did not improve from 0.66690\n",
      "Epoch 87/100\n",
      "449/449 [==============================] - 182s 405ms/step - loss: 0.1196 - accuracy: 0.9700 - val_loss: 2.0258 - val_accuracy: 0.6095\n",
      "\n",
      "Epoch 00087: val_accuracy did not improve from 0.66690\n",
      "Epoch 88/100\n",
      "449/449 [==============================] - 179s 398ms/step - loss: 0.1238 - accuracy: 0.9690 - val_loss: 1.7445 - val_accuracy: 0.6537\n",
      "\n",
      "Epoch 00088: val_accuracy did not improve from 0.66690\n",
      "Epoch 89/100\n",
      "449/449 [==============================] - 180s 400ms/step - loss: 0.1188 - accuracy: 0.9709 - val_loss: 2.5433 - val_accuracy: 0.4982\n",
      "\n",
      "Epoch 00089: val_accuracy did not improve from 0.66690\n",
      "Epoch 90/100\n",
      "449/449 [==============================] - 179s 399ms/step - loss: 0.1116 - accuracy: 0.9731 - val_loss: 1.8143 - val_accuracy: 0.6411\n",
      "\n",
      "Epoch 00090: val_accuracy did not improve from 0.66690\n",
      "Epoch 91/100\n",
      "449/449 [==============================] - 184s 408ms/step - loss: 0.1137 - accuracy: 0.9710 - val_loss: 2.1341 - val_accuracy: 0.5825\n",
      "\n",
      "Epoch 00091: val_accuracy did not improve from 0.66690\n",
      "Epoch 92/100\n",
      "449/449 [==============================] - 180s 400ms/step - loss: 0.1168 - accuracy: 0.9722 - val_loss: 2.2602 - val_accuracy: 0.5442\n",
      "\n",
      "Epoch 00092: val_accuracy did not improve from 0.66690\n",
      "Epoch 93/100\n",
      "449/449 [==============================] - 179s 399ms/step - loss: 0.1060 - accuracy: 0.9735 - val_loss: 1.7234 - val_accuracy: 0.6758\n",
      "\n",
      "Epoch 00093: val_accuracy improved from 0.66690 to 0.67581, saving model to vgg_step1.h5\n",
      "Epoch 94/100\n",
      "449/449 [==============================] - 181s 402ms/step - loss: 0.1104 - accuracy: 0.9738 - val_loss: 2.1581 - val_accuracy: 0.5790\n",
      "\n",
      "Epoch 00094: val_accuracy did not improve from 0.67581\n",
      "Epoch 95/100\n",
      "449/449 [==============================] - 183s 407ms/step - loss: 0.1033 - accuracy: 0.9753 - val_loss: 1.7678 - val_accuracy: 0.6507\n",
      "\n",
      "Epoch 00095: val_accuracy did not improve from 0.67581\n",
      "Epoch 96/100\n",
      "449/449 [==============================] - 179s 397ms/step - loss: 0.1016 - accuracy: 0.9748 - val_loss: 2.8206 - val_accuracy: 0.4912\n",
      "\n",
      "Epoch 00096: val_accuracy did not improve from 0.67581\n",
      "Epoch 97/100\n",
      "449/449 [==============================] - 179s 398ms/step - loss: 0.1039 - accuracy: 0.9752 - val_loss: 2.1080 - val_accuracy: 0.5885\n",
      "\n",
      "Epoch 00097: val_accuracy did not improve from 0.67581\n",
      "Epoch 98/100\n",
      "449/449 [==============================] - 180s 400ms/step - loss: 0.0985 - accuracy: 0.9763 - val_loss: 1.7492 - val_accuracy: 0.6779\n",
      "\n",
      "Epoch 00098: val_accuracy improved from 0.67581 to 0.67790, saving model to vgg_step1.h5\n",
      "Epoch 99/100\n",
      "449/449 [==============================] - 184s 409ms/step - loss: 0.1002 - accuracy: 0.9764 - val_loss: 2.2913 - val_accuracy: 0.5616\n",
      "\n",
      "Epoch 00099: val_accuracy did not improve from 0.67790\n",
      "Epoch 100/100\n",
      "449/449 [==============================] - 181s 403ms/step - loss: 0.0929 - accuracy: 0.9788 - val_loss: 1.8200 - val_accuracy: 0.6450\n",
      "\n",
      "Epoch 00100: val_accuracy did not improve from 0.67790\n"
     ]
    },
    {
     "data": {
      "text/plain": [
       "<tensorflow.python.keras.callbacks.History at 0x7f3cc0cc7c90>"
      ]
     },
     "execution_count": 7,
     "metadata": {},
     "output_type": "execute_result"
    }
   ],
   "source": [
    "model_VGG.fit(tr_data,validation_data=val_data,epochs=100,callbacks=[vgg_step_1])"
   ]
  },
  {
   "cell_type": "code",
   "execution_count": 8,
   "id": "c9adaae3",
   "metadata": {
    "execution": {
     "iopub.execute_input": "2021-09-01T21:09:04.551951Z",
     "iopub.status.busy": "2021-09-01T21:09:04.551428Z",
     "iopub.status.idle": "2021-09-01T21:09:04.972617Z",
     "shell.execute_reply": "2021-09-01T21:09:04.973109Z",
     "shell.execute_reply.started": "2021-09-01T15:46:52.494322Z"
    },
    "papermill": {
     "duration": 12.73155,
     "end_time": "2021-09-01T21:09:04.973257",
     "exception": false,
     "start_time": "2021-09-01T21:08:52.241707",
     "status": "completed"
    },
    "tags": []
   },
   "outputs": [
    {
     "name": "stdout",
     "output_type": "stream",
     "text": [
      "Found 7178 images belonging to 7 classes.\n"
     ]
    }
   ],
   "source": [
    "val_data = val_generator.flow_from_directory(\"../input/fer2013/test\",\n",
    "                                             shuffle = False,\n",
    "                                             batch_size= 64,\n",
    "                                             target_size=(72,72),\n",
    "                                             color_mode=\"rgb\",\n",
    "                                             interpolation=\"nearest\")"
   ]
  },
  {
   "cell_type": "code",
   "execution_count": 9,
   "id": "ec811b57",
   "metadata": {
    "execution": {
     "iopub.execute_input": "2021-09-01T21:09:28.621784Z",
     "iopub.status.busy": "2021-09-01T21:09:28.620334Z",
     "iopub.status.idle": "2021-09-01T21:09:28.622595Z",
     "shell.execute_reply": "2021-09-01T21:09:28.623014Z",
     "shell.execute_reply.started": "2021-09-01T15:50:40.565942Z"
    },
    "papermill": {
     "duration": 11.708193,
     "end_time": "2021-09-01T21:09:28.623149",
     "exception": false,
     "start_time": "2021-09-01T21:09:16.914956",
     "status": "completed"
    },
    "tags": []
   },
   "outputs": [],
   "source": [
    "y_true = val_data.classes"
   ]
  },
  {
   "cell_type": "code",
   "execution_count": 10,
   "id": "a16597a8",
   "metadata": {
    "execution": {
     "iopub.execute_input": "2021-09-01T21:09:52.811457Z",
     "iopub.status.busy": "2021-09-01T21:09:52.810658Z",
     "iopub.status.idle": "2021-09-01T21:09:53.818626Z",
     "shell.execute_reply": "2021-09-01T21:09:53.818165Z",
     "shell.execute_reply.started": "2021-09-01T15:52:20.892731Z"
    },
    "papermill": {
     "duration": 12.800374,
     "end_time": "2021-09-01T21:09:53.818752",
     "exception": false,
     "start_time": "2021-09-01T21:09:41.018378",
     "status": "completed"
    },
    "tags": []
   },
   "outputs": [],
   "source": [
    "effnet_model = build_vgg()\n",
    "effnet_model.load_weights(\"vgg_step1.h5\")"
   ]
  },
  {
   "cell_type": "code",
   "execution_count": 11,
   "id": "59241e7a",
   "metadata": {
    "execution": {
     "iopub.execute_input": "2021-09-01T21:10:17.959616Z",
     "iopub.status.busy": "2021-09-01T21:10:17.958878Z",
     "iopub.status.idle": "2021-09-01T21:10:33.032229Z",
     "shell.execute_reply": "2021-09-01T21:10:33.031746Z",
     "shell.execute_reply.started": "2021-09-01T15:53:02.787380Z"
    },
    "papermill": {
     "duration": 27.184997,
     "end_time": "2021-09-01T21:10:33.032367",
     "exception": false,
     "start_time": "2021-09-01T21:10:05.847370",
     "status": "completed"
    },
    "tags": []
   },
   "outputs": [],
   "source": [
    "y_pred = effnet_model.predict(val_data)"
   ]
  },
  {
   "cell_type": "code",
   "execution_count": 12,
   "id": "d76cc708",
   "metadata": {
    "execution": {
     "iopub.execute_input": "2021-09-01T21:10:57.318083Z",
     "iopub.status.busy": "2021-09-01T21:10:57.317411Z",
     "iopub.status.idle": "2021-09-01T21:10:57.320435Z",
     "shell.execute_reply": "2021-09-01T21:10:57.319994Z",
     "shell.execute_reply.started": "2021-09-01T15:54:07.307406Z"
    },
    "papermill": {
     "duration": 11.866836,
     "end_time": "2021-09-01T21:10:57.320552",
     "exception": false,
     "start_time": "2021-09-01T21:10:45.453716",
     "status": "completed"
    },
    "tags": []
   },
   "outputs": [],
   "source": [
    "y_pred = np.argmax(y_pred,axis=1)"
   ]
  },
  {
   "cell_type": "code",
   "execution_count": 13,
   "id": "081831ab",
   "metadata": {
    "execution": {
     "iopub.execute_input": "2021-09-01T21:11:21.388282Z",
     "iopub.status.busy": "2021-09-01T21:11:21.387531Z",
     "iopub.status.idle": "2021-09-01T21:11:21.390281Z",
     "shell.execute_reply": "2021-09-01T21:11:21.389855Z",
     "shell.execute_reply.started": "2021-09-01T15:58:15.505910Z"
    },
    "papermill": {
     "duration": 12.218603,
     "end_time": "2021-09-01T21:11:21.390399",
     "exception": false,
     "start_time": "2021-09-01T21:11:09.171796",
     "status": "completed"
    },
    "tags": []
   },
   "outputs": [],
   "source": [
    "classes = list(val_data.class_indices.keys())"
   ]
  },
  {
   "cell_type": "code",
   "execution_count": 14,
   "id": "4e7bd742",
   "metadata": {
    "execution": {
     "iopub.execute_input": "2021-09-01T21:11:45.758995Z",
     "iopub.status.busy": "2021-09-01T21:11:45.758169Z",
     "iopub.status.idle": "2021-09-01T21:11:46.392307Z",
     "shell.execute_reply": "2021-09-01T21:11:46.393442Z",
     "shell.execute_reply.started": "2021-09-01T16:01:00.405945Z"
    },
    "papermill": {
     "duration": 13.085728,
     "end_time": "2021-09-01T21:11:46.393658",
     "exception": false,
     "start_time": "2021-09-01T21:11:33.307930",
     "status": "completed"
    },
    "tags": []
   },
   "outputs": [
    {
     "data": {
      "text/plain": [
       "<AxesSubplot:>"
      ]
     },
     "execution_count": 14,
     "metadata": {},
     "output_type": "execute_result"
    },
    {
     "data": {
      "image/png": "[encoded data removed]",
      "text/plain": [
       "<Figure size 1080x1080 with 2 Axes>"
      ]
     },
     "metadata": {
      "needs_background": "light"
     },
     "output_type": "display_data"
    }
   ],
   "source": [
    "fig = plt.figure(figsize = (15,15))\n",
    "cf = pd.DataFrame(confusion_matrix(y_true,y_pred),columns=classes,index=classes)\n",
    "sns.heatmap(cf,annot=True,square=True)"
   ]
  },
  {
   "cell_type": "code",
   "execution_count": 15,
   "id": "8f4e95e6",
   "metadata": {
    "execution": {
     "iopub.execute_input": "2021-09-01T21:12:10.258661Z",
     "iopub.status.busy": "2021-09-01T21:12:10.257781Z",
     "iopub.status.idle": "2021-09-01T21:12:10.272327Z",
     "shell.execute_reply": "2021-09-01T21:12:10.271922Z",
     "shell.execute_reply.started": "2021-09-01T16:04:21.904911Z"
    },
    "papermill": {
     "duration": 11.755688,
     "end_time": "2021-09-01T21:12:10.272440",
     "exception": false,
     "start_time": "2021-09-01T21:11:58.516752",
     "status": "completed"
    },
    "tags": []
   },
   "outputs": [
    {
     "name": "stdout",
     "output_type": "stream",
     "text": [
      "              precision    recall  f1-score   support\n",
      "\n",
      "       angry       0.58      0.61      0.60       958\n",
      "     disgust       0.89      0.67      0.76       111\n",
      "        fear       0.59      0.52      0.55      1024\n",
      "       happy       0.85      0.87      0.86      1774\n",
      "     neutral       0.59      0.65      0.62      1233\n",
      "         sad       0.57      0.53      0.55      1247\n",
      "    surprise       0.79      0.81      0.80       831\n",
      "\n",
      "    accuracy                           0.68      7178\n",
      "   macro avg       0.69      0.67      0.68      7178\n",
      "weighted avg       0.68      0.68      0.68      7178\n",
      "\n"
     ]
    }
   ],
   "source": [
    "print(classification_report(y_true,y_pred,target_names=classes))"
   ]
  }
 ],
 "metadata": {
  "kernelspec": {
   "display_name": "Python 3",
   "language": "python",
   "name": "python3"
  },
  "language_info": {
   "codemirror_mode": {
    "name": "ipython",
    "version": 3
   },
   "file_extension": ".py",
   "mimetype": "text/x-python",
   "name": "python",
   "nbconvert_exporter": "python",
   "pygments_lexer": "ipython3",
   "version": "3.7.10"
  },
  "papermill": {
   "default_parameters": {},
   "duration": 18309.206102,
   "end_time": "2021-09-01T21:12:25.802818",
   "environment_variables": {},
   "exception": null,
   "input_path": "__notebook__.ipynb",
   "output_path": "__notebook__.ipynb",
   "parameters": {},
   "start_time": "2021-09-01T16:07:16.596716",
   "version": "2.3.3"
  }
 },
 "nbformat": 4,
 "nbformat_minor": 5
}
